{
 "cells": [
  {
   "cell_type": "markdown",
   "metadata": {
    "id": "i1-VFlPFl5Xs"
   },
   "source": [
    "# Lab-based Group Assignment 3: \n",
    "## Signature Authentication to Prevent Fraud Transactions in Business\n",
    "\n"
   ]
  },
  {
   "cell_type": "markdown",
   "metadata": {
    "id": "deHH5F_9Ufeo"
   },
   "source": [
    "![Imgur](https://i.imgur.com/4HJknC2.png)"
   ]
  },
  {
   "cell_type": "markdown",
   "metadata": {
    "id": "TuODVR7iazan"
   },
   "source": [
    "### **Business Problem**\n",
    "In a legal context, a signature is your name written in a distinct, personalized form as a way of identifying yourself to authorize a document. Using signiture for identity validation is still a global-wide practice for legal authentication.\n",
    "\n",
    "In order to **prevent fraud transactions, a bank’s established practice** is to compare the signature on a request to the signature maintained in the bank’s file system and to confirm that the request is issued by the correct issuer.\n",
    "\n",
    "Without modern signiture authentication technology, banks around the world had suffered huge losses against fraud transaction in which  signitures are maliciously forged.\n",
    "\\\n",
    "\\\n",
    "(Optional) Read More about a real-life signiture-related legal case:  \n",
    "<a href=\"http://www.joneslemongraham.com/blog/banks-loss-a-covered-forgery-under-insuring-agreement-d-of-financial-institution-bond-and-not-excluded-by-loan-loss-exclusion/#.X2bDBy9h1PM\">Bank of Ann Arbor v. Everest National Insurance Company, Case No. 12-11251 (E.D. Mi. Feb. 25, 2013)</a>\n",
    "\\\n",
    "\\\n",
    "Luckily, we have advanced computer vision technology, which can conveniently and accurately identify forged signitures.\n"
   ]
  },
  {
   "cell_type": "markdown",
   "metadata": {
    "id": "U963hlBGG0T-"
   },
   "source": [
    "![Imgur](https://i.imgur.com/f9Ozq9M.png)"
   ]
  },
  {
   "cell_type": "markdown",
   "metadata": {
    "id": "wRIg3mL1Agu4"
   },
   "source": [
    "<img src=\"https://storage.googleapis.com/kaggle-datasets-images/107946/257611/57ea0c6f63a05a981b18eb7ad5547464/dataset-cover.png?t=2019-01-20-18-39-59\">"
   ]
  },
  {
   "cell_type": "markdown",
   "metadata": {
    "id": "JWU4KqkOr5dJ"
   },
   "source": [
    "### **Task**\n",
    "Build a deep learning model to classify forged signatures from genuine signitures to prevent fraud transactions in businesses. \n",
    "\n",
    "---"
   ]
  },
  {
   "cell_type": "code",
   "execution_count": null,
   "metadata": {
    "id": "7T90VM1zjMGF"
   },
   "outputs": [],
   "source": [
    "# First things first: Please select a GPU backend."
   ]
  },
  {
   "cell_type": "code",
   "execution_count": 2,
   "metadata": {
    "colab": {
     "base_uri": "https://localhost:8080/"
    },
    "id": "t2LqXW1pCeeo",
    "outputId": "48437037-0527-4b41-82a8-0e8e43d0cd7c"
   },
   "outputs": [
    {
     "name": "stdout",
     "output_type": "stream",
     "text": [
      "Mounted at /content/drive\n"
     ]
    }
   ],
   "source": [
    "from google.colab import drive\n",
    "drive.mount('/content/drive')"
   ]
  },
  {
   "cell_type": "markdown",
   "metadata": {
    "id": "H0hyr26ICo4M"
   },
   "source": [
    "---\n",
    "Click the folder button on the left, and Colab will display a file window. (Probably you might have to wait for at most 10 seconds, before the `drive` folder shows up.) Find the zip file `signature-verification-dataset.zip` under the drive folder.  "
   ]
  },
  {
   "cell_type": "markdown",
   "metadata": {
    "id": "fyXYdjOxDysd"
   },
   "source": [
    "Right click the file and select \"copy path\". Now the file path is on your clip board. Paste the path inside the double quote in the next code chunk."
   ]
  },
  {
   "cell_type": "markdown",
   "metadata": {
    "id": "gTUTCFAwXxTd"
   },
   "source": [
    "## Q1: Please unzip, read and seperate the dataset for the model?"
   ]
  },
  {
   "cell_type": "code",
   "execution_count": 3,
   "metadata": {
    "id": "jVEeWONoKHEv"
   },
   "outputs": [],
   "source": [
    "# Unzip signature-verification-dataset.zip to \"/content\" directory. \n",
    "!unzip -q \"/content/drive/MyDrive/DAT565E Deep Learning/Week 3/signature-verification-dataset(1).zip\" -d /content/"
   ]
  },
  {
   "cell_type": "code",
   "execution_count": 33,
   "metadata": {
    "colab": {
     "base_uri": "https://localhost:8080/"
    },
    "id": "k6T94N3TKJFC",
    "outputId": "da81970d-a7bc-4b44-c303-f940d00a77fc"
   },
   "outputs": [
    {
     "name": "stdout",
     "output_type": "stream",
     "text": [
      "(18564, 2) (4642, 2) (5748, 2)\n"
     ]
    }
   ],
   "source": [
    "import pandas as pd\n",
    "# Load data\n",
    "train_df=pd.read_csv(\"/content/sign_data/train_data.csv\",header=None,usecols=[1,2],names=[\"file_name\",\"forged\"],dtype=str)\n",
    "test_df=pd.read_csv(\"/content/sign_data/test_data.csv\",header=None,usecols=[1,2],names=[\"file_name\",\"forged\"],dtype=str)\n",
    "\n",
    "# Train Test Split\n",
    "from sklearn.model_selection import train_test_split\n",
    "train_df, validation_df=train_test_split(train_df,train_size=0.8)\n",
    "print(train_df.shape,validation_df.shape,test_df.shape)"
   ]
  },
  {
   "cell_type": "code",
   "execution_count": 34,
   "metadata": {
    "colab": {
     "base_uri": "https://localhost:8080/",
     "height": 479
    },
    "id": "tYSfBOx9KOLM",
    "outputId": "cc827b6f-ce83-43ef-9c6b-ed77648a0ae1"
   },
   "outputs": [
    {
     "data": {
      "text/html": [
       "\n",
       "  <div id=\"df-2b9c70a6-906b-4809-8d38-c0aa62fdc08d\">\n",
       "    <div class=\"colab-df-container\">\n",
       "      <div>\n",
       "<style scoped>\n",
       "    .dataframe tbody tr th:only-of-type {\n",
       "        vertical-align: middle;\n",
       "    }\n",
       "\n",
       "    .dataframe tbody tr th {\n",
       "        vertical-align: top;\n",
       "    }\n",
       "\n",
       "    .dataframe thead th {\n",
       "        text-align: right;\n",
       "    }\n",
       "</style>\n",
       "<table border=\"1\" class=\"dataframe\">\n",
       "  <thead>\n",
       "    <tr style=\"text-align: right;\">\n",
       "      <th></th>\n",
       "      <th>file_name</th>\n",
       "      <th>forged</th>\n",
       "    </tr>\n",
       "  </thead>\n",
       "  <tbody>\n",
       "    <tr>\n",
       "      <th>4363</th>\n",
       "      <td>014/014_14.PNG</td>\n",
       "      <td>0</td>\n",
       "    </tr>\n",
       "    <tr>\n",
       "      <th>22061</th>\n",
       "      <td>037/08_037.png</td>\n",
       "      <td>0</td>\n",
       "    </tr>\n",
       "    <tr>\n",
       "      <th>14280</th>\n",
       "      <td>016_forg/0202016_02.png</td>\n",
       "      <td>1</td>\n",
       "    </tr>\n",
       "    <tr>\n",
       "      <th>22868</th>\n",
       "      <td>066/10_066.png</td>\n",
       "      <td>0</td>\n",
       "    </tr>\n",
       "    <tr>\n",
       "      <th>12234</th>\n",
       "      <td>050/07_050.png</td>\n",
       "      <td>0</td>\n",
       "    </tr>\n",
       "    <tr>\n",
       "      <th>...</th>\n",
       "      <td>...</td>\n",
       "      <td>...</td>\n",
       "    </tr>\n",
       "    <tr>\n",
       "      <th>7897</th>\n",
       "      <td>009/009_03.PNG</td>\n",
       "      <td>0</td>\n",
       "    </tr>\n",
       "    <tr>\n",
       "      <th>5045</th>\n",
       "      <td>012/012_06.PNG</td>\n",
       "      <td>0</td>\n",
       "    </tr>\n",
       "    <tr>\n",
       "      <th>22520</th>\n",
       "      <td>061_forg/03_0102061.PNG</td>\n",
       "      <td>1</td>\n",
       "    </tr>\n",
       "    <tr>\n",
       "      <th>9084</th>\n",
       "      <td>001/001_18.PNG</td>\n",
       "      <td>0</td>\n",
       "    </tr>\n",
       "    <tr>\n",
       "      <th>20077</th>\n",
       "      <td>063_forg/01_0119063.PNG</td>\n",
       "      <td>1</td>\n",
       "    </tr>\n",
       "  </tbody>\n",
       "</table>\n",
       "<p>18564 rows × 2 columns</p>\n",
       "</div>\n",
       "      <button class=\"colab-df-convert\" onclick=\"convertToInteractive('df-2b9c70a6-906b-4809-8d38-c0aa62fdc08d')\"\n",
       "              title=\"Convert this dataframe to an interactive table.\"\n",
       "              style=\"display:none;\">\n",
       "        \n",
       "  <svg xmlns=\"http://www.w3.org/2000/svg\" height=\"24px\"viewBox=\"0 0 24 24\"\n",
       "       width=\"24px\">\n",
       "    <path d=\"M0 0h24v24H0V0z\" fill=\"none\"/>\n",
       "    <path d=\"M18.56 5.44l.94 2.06.94-2.06 2.06-.94-2.06-.94-.94-2.06-.94 2.06-2.06.94zm-11 1L8.5 8.5l.94-2.06 2.06-.94-2.06-.94L8.5 2.5l-.94 2.06-2.06.94zm10 10l.94 2.06.94-2.06 2.06-.94-2.06-.94-.94-2.06-.94 2.06-2.06.94z\"/><path d=\"M17.41 7.96l-1.37-1.37c-.4-.4-.92-.59-1.43-.59-.52 0-1.04.2-1.43.59L10.3 9.45l-7.72 7.72c-.78.78-.78 2.05 0 2.83L4 21.41c.39.39.9.59 1.41.59.51 0 1.02-.2 1.41-.59l7.78-7.78 2.81-2.81c.8-.78.8-2.07 0-2.86zM5.41 20L4 18.59l7.72-7.72 1.47 1.35L5.41 20z\"/>\n",
       "  </svg>\n",
       "      </button>\n",
       "      \n",
       "  <style>\n",
       "    .colab-df-container {\n",
       "      display:flex;\n",
       "      flex-wrap:wrap;\n",
       "      gap: 12px;\n",
       "    }\n",
       "\n",
       "    .colab-df-convert {\n",
       "      background-color: #E8F0FE;\n",
       "      border: none;\n",
       "      border-radius: 50%;\n",
       "      cursor: pointer;\n",
       "      display: none;\n",
       "      fill: #1967D2;\n",
       "      height: 32px;\n",
       "      padding: 0 0 0 0;\n",
       "      width: 32px;\n",
       "    }\n",
       "\n",
       "    .colab-df-convert:hover {\n",
       "      background-color: #E2EBFA;\n",
       "      box-shadow: 0px 1px 2px rgba(60, 64, 67, 0.3), 0px 1px 3px 1px rgba(60, 64, 67, 0.15);\n",
       "      fill: #174EA6;\n",
       "    }\n",
       "\n",
       "    [theme=dark] .colab-df-convert {\n",
       "      background-color: #3B4455;\n",
       "      fill: #D2E3FC;\n",
       "    }\n",
       "\n",
       "    [theme=dark] .colab-df-convert:hover {\n",
       "      background-color: #434B5C;\n",
       "      box-shadow: 0px 1px 3px 1px rgba(0, 0, 0, 0.15);\n",
       "      filter: drop-shadow(0px 1px 2px rgba(0, 0, 0, 0.3));\n",
       "      fill: #FFFFFF;\n",
       "    }\n",
       "  </style>\n",
       "\n",
       "      <script>\n",
       "        const buttonEl =\n",
       "          document.querySelector('#df-2b9c70a6-906b-4809-8d38-c0aa62fdc08d button.colab-df-convert');\n",
       "        buttonEl.style.display =\n",
       "          google.colab.kernel.accessAllowed ? 'block' : 'none';\n",
       "\n",
       "        async function convertToInteractive(key) {\n",
       "          const element = document.querySelector('#df-2b9c70a6-906b-4809-8d38-c0aa62fdc08d');\n",
       "          const dataTable =\n",
       "            await google.colab.kernel.invokeFunction('convertToInteractive',\n",
       "                                                     [key], {});\n",
       "          if (!dataTable) return;\n",
       "\n",
       "          const docLinkHtml = 'Like what you see? Visit the ' +\n",
       "            '<a target=\"_blank\" href=https://colab.research.google.com/notebooks/data_table.ipynb>data table notebook</a>'\n",
       "            + ' to learn more about interactive tables.';\n",
       "          element.innerHTML = '';\n",
       "          dataTable['output_type'] = 'display_data';\n",
       "          await google.colab.output.renderOutput(dataTable, element);\n",
       "          const docLink = document.createElement('div');\n",
       "          docLink.innerHTML = docLinkHtml;\n",
       "          element.appendChild(docLink);\n",
       "        }\n",
       "      </script>\n",
       "    </div>\n",
       "  </div>\n",
       "  "
      ],
      "text/plain": [
       "                     file_name forged\n",
       "4363            014/014_14.PNG      0\n",
       "22061           037/08_037.png      0\n",
       "14280  016_forg/0202016_02.png      1\n",
       "22868           066/10_066.png      0\n",
       "12234           050/07_050.png      0\n",
       "...                        ...    ...\n",
       "7897            009/009_03.PNG      0\n",
       "5045            012/012_06.PNG      0\n",
       "22520  061_forg/03_0102061.PNG      1\n",
       "9084            001/001_18.PNG      0\n",
       "20077  063_forg/01_0119063.PNG      1\n",
       "\n",
       "[18564 rows x 2 columns]"
      ]
     },
     "metadata": {},
     "output_type": "display_data"
    },
    {
     "data": {
      "text/plain": [
       "0    10094\n",
       "1     8470\n",
       "Name: forged, dtype: int64"
      ]
     },
     "execution_count": 34,
     "metadata": {},
     "output_type": "execute_result"
    }
   ],
   "source": [
    "display(train_df)\n",
    "# See how many genuine/forged signitures in train data?\n",
    "train_df.forged.value_counts()"
   ]
  },
  {
   "cell_type": "code",
   "execution_count": 35,
   "metadata": {
    "id": "HoA6mt1STTxc"
   },
   "outputs": [],
   "source": [
    "# Define the data path, we will use it later.\n",
    "path=\"/content/sign_data/\""
   ]
  },
  {
   "cell_type": "code",
   "execution_count": 36,
   "metadata": {
    "colab": {
     "base_uri": "https://localhost:8080/",
     "height": 36
    },
    "id": "19uxV4MIVOkB",
    "outputId": "db3ba755-1fd2-476c-ead8-871c98b9b8b5"
   },
   "outputs": [
    {
     "data": {
      "application/vnd.google.colaboratory.intrinsic+json": {
       "type": "string"
      },
      "text/plain": [
       "'RGB'"
      ]
     },
     "execution_count": 36,
     "metadata": {},
     "output_type": "execute_result"
    }
   ],
   "source": [
    "# The mode of image\n",
    "from PIL import Image\n",
    "Image.open(\"/content/sign_data/train/001/001_01.PNG\").mode"
   ]
  },
  {
   "cell_type": "markdown",
   "metadata": {
    "id": "Ui9nar3WYhPw"
   },
   "source": [
    "## Q2: Please generate new dataset by using ImageDataGenerator"
   ]
  },
  {
   "cell_type": "code",
   "execution_count": 37,
   "metadata": {
    "colab": {
     "base_uri": "https://localhost:8080/"
    },
    "id": "Phzid9fxKSSb",
    "outputId": "bde07eb8-0a77-4a43-f47a-b9c7178dbbb4"
   },
   "outputs": [
    {
     "name": "stdout",
     "output_type": "stream",
     "text": [
      "Found 18564 validated image filenames belonging to 2 classes.\n",
      "Found 4642 validated image filenames belonging to 2 classes.\n",
      "Found 5748 validated image filenames belonging to 2 classes.\n"
     ]
    }
   ],
   "source": [
    "from tensorflow.keras.preprocessing.image import ImageDataGenerator\n",
    "import numpy as np\n",
    "\n",
    "# Instantiate ImageDataGenerator class\n",
    "train_datagen = ImageDataGenerator(rescale=1./255)\n",
    "\n",
    "# Configure train data generator\n",
    "train_gen=train_datagen.flow_from_dataframe( \n",
    "    train_df,                                   # Pandas dataframe containing the filepaths relative to directory (or absolute paths if directory is None) of the images in a string column.\n",
    "    directory=\"/content/sign_data/train\",       # string, path to the directory to read images from. If None, data in x_col column should be absolute paths.\n",
    "    x_col=\"file_name\",                          # string, column in dataframe that contains the filenames (or absolute paths if directory is None).\n",
    "    y_col=\"forged\",                             # string or list, column/s in dataframe that has the target data.\n",
    "    target_size=(128, 256),                     # tuple of integers (height, width), default: (256, 256). The dimensions to which all images found will be resized. \n",
    "    color_mode=\"rgb\",                           # one of \"grayscale\", \"rgb\", \"rgba\". Default: \"rgb\". Whether the images will be converted to have 1 or 3 color channels.\n",
    "    class_mode=\"binary\",                        # one of \"binary\", \"categorical\", \"input\", \"multi_output\", \"raw\", sparse\" or None. Default: \"categorical\". If y_col is a binary class (0 or 1), you should use \"binary\". If y_col is numeric value array, you should use \"raw\".\n",
    "    batch_size=32,   # size of the batches of data (default: 32). This batchsize is different from the one in model.fit(). It is just another batchsize served for converting original images to executable format for neural network.\n",
    "    shuffle=True)                               # whether to shuffle the data (default: True). This is for eliminating bias in generating input data\n",
    "\n",
    "# Configure validation data generator\n",
    "val_datagen = ImageDataGenerator(rescale=1./255)\n",
    "val_gen=val_datagen.flow_from_dataframe(\n",
    "    validation_df,\n",
    "    directory=\"/content/sign_data/train\",\n",
    "    x_col=\"file_name\",\n",
    "    y_col=\"forged\",\n",
    "    target_size=(128, 256),\n",
    "    color_mode=\"rgb\",\n",
    "    class_mode=\"binary\",\n",
    "    ) #In the generation of validation and test dataset, its not necessary to define batchsize and shuffle. Because only training dataset is taken for training.\n",
    "\n",
    "# Configure test data generator\n",
    "test_datagen = ImageDataGenerator(rescale=1./255)\n",
    "test_gen=test_datagen.flow_from_dataframe(\n",
    "    test_df,\n",
    "    directory=\"/content/sign_data/test\",\n",
    "    x_col=\"file_name\",\n",
    "    y_col=\"forged\",\n",
    "    target_size=(128, 256),\n",
    "    color_mode=\"rgb\",\n",
    "    class_mode=\"binary\",\n",
    "    )"
   ]
  },
  {
   "cell_type": "markdown",
   "metadata": {
    "id": "cobYj0O-YB3S"
   },
   "source": [
    "## Q3: Please use dense neural networks for predict the forged signatures. "
   ]
  },
  {
   "cell_type": "code",
   "execution_count": 38,
   "metadata": {
    "colab": {
     "base_uri": "https://localhost:8080/"
    },
    "id": "azw3xQoEKUrq",
    "outputId": "492a4ddb-ece7-4517-dadb-b119315ce18c"
   },
   "outputs": [
    {
     "name": "stdout",
     "output_type": "stream",
     "text": [
      "Epoch 1/10\n",
      "100/100 [==============================] - 35s 348ms/step - loss: 27.1163 - acc: 0.5288 - val_loss: 0.8140 - val_acc: 0.4628\n",
      "Epoch 2/10\n",
      "100/100 [==============================] - 25s 254ms/step - loss: 3.8495 - acc: 0.5113 - val_loss: 0.6485 - val_acc: 0.7100\n",
      "Epoch 3/10\n",
      "100/100 [==============================] - 34s 345ms/step - loss: 1.2265 - acc: 0.5225 - val_loss: 0.7570 - val_acc: 0.5406\n",
      "Epoch 4/10\n",
      "100/100 [==============================] - 25s 255ms/step - loss: 0.7579 - acc: 0.5378 - val_loss: 0.6838 - val_acc: 0.5428\n",
      "Epoch 5/10\n",
      "100/100 [==============================] - 35s 346ms/step - loss: 0.7175 - acc: 0.5253 - val_loss: 0.8064 - val_acc: 0.5378\n",
      "Epoch 6/10\n",
      "100/100 [==============================] - 26s 257ms/step - loss: 0.6874 - acc: 0.5347 - val_loss: 0.7690 - val_acc: 0.4594\n",
      "Epoch 7/10\n",
      "100/100 [==============================] - 25s 252ms/step - loss: 0.6975 - acc: 0.5312 - val_loss: 0.6838 - val_acc: 0.5344\n",
      "Epoch 8/10\n",
      "100/100 [==============================] - 25s 254ms/step - loss: 0.6955 - acc: 0.5347 - val_loss: 0.6884 - val_acc: 0.4712\n",
      "Epoch 9/10\n",
      "100/100 [==============================] - 26s 256ms/step - loss: 0.7002 - acc: 0.5183 - val_loss: 0.6880 - val_acc: 0.4688\n",
      "Epoch 10/10\n",
      "100/100 [==============================] - 26s 256ms/step - loss: 0.6990 - acc: 0.5284 - val_loss: 0.7528 - val_acc: 0.5397\n"
     ]
    }
   ],
   "source": [
    "# Build sequential model\n",
    "from tensorflow.keras.models import Sequential\n",
    "from tensorflow.keras.layers import Flatten,Dense\n",
    "model=Sequential()\n",
    "model.add(Flatten())   # Flatten the channels into one single long array\n",
    "model.add(Dense(2048 ,input_shape = (128*256*3,) ,activation = 'relu'))     \n",
    "model.add(Dense(128, activation = 'relu'))\n",
    "model.add(Dense(1, activation = 'sigmoid'))\n",
    "\n",
    "model.compile(loss=\"binary_crossentropy\",\n",
    "              optimizer=\"adam\",\n",
    "              metrics=['acc'])\n",
    "\n",
    "history=model.fit(train_gen,                                # Train data generator\n",
    "      steps_per_epoch=100,    #train_gen.n//train_gen.batch_size. In lab 2, we set \"batchsize\" in model.fit() to determine the step length for steps in one epoch. \n",
    "                  #Steps_per_epoch is the number of steps in one epoch. It can also determine the step length (batchszie) in each epoch. So, we can set steps_per_epoch instead to replace \"batchsize\".\n",
    "                  #Either batchsize or steps_per_epoch is fine. Just make sure you set one of them.\n",
    "      epochs=10,                                             \n",
    "      validation_data=val_gen,                              # Validation data generator                      \n",
    "      validation_steps=100)       # val_gen.n//val_gen.batch_size, Need to sepcify this parameter.        \"//\" means get the integer part from division result."
   ]
  },
  {
   "cell_type": "markdown",
   "metadata": {
    "id": "oGvOfy1gPyya"
   },
   "source": [
    "## Q4: Please use CNNs to predict the forged signatures with high accuracy. "
   ]
  },
  {
   "cell_type": "markdown",
   "metadata": {
    "id": "L2QJLwEyYHG1"
   },
   "source": [
    "### Larger Convolution Model"
   ]
  },
  {
   "cell_type": "code",
   "execution_count": 39,
   "metadata": {
    "colab": {
     "base_uri": "https://localhost:8080/"
    },
    "id": "WbNJig2RKYNC",
    "outputId": "0449ab83-c3af-4c6d-972d-903e7bb78596"
   },
   "outputs": [
    {
     "name": "stdout",
     "output_type": "stream",
     "text": [
      "Epoch 1/10\n",
      "100/100 [==============================] - 29s 284ms/step - loss: 1.1334 - acc: 0.5516 - val_loss: 0.7381 - val_acc: 0.6797\n",
      "Epoch 2/10\n",
      "100/100 [==============================] - 28s 285ms/step - loss: 0.5669 - acc: 0.8553 - val_loss: 0.4503 - val_acc: 0.9241\n",
      "Epoch 3/10\n",
      "100/100 [==============================] - 28s 280ms/step - loss: 0.4199 - acc: 0.9262 - val_loss: 0.4722 - val_acc: 0.8766\n",
      "Epoch 4/10\n",
      "100/100 [==============================] - 29s 287ms/step - loss: 0.3207 - acc: 0.9488 - val_loss: 0.2798 - val_acc: 0.9369\n",
      "Epoch 5/10\n",
      "100/100 [==============================] - 28s 285ms/step - loss: 0.2515 - acc: 0.9428 - val_loss: 0.1688 - val_acc: 0.9787\n",
      "Epoch 6/10\n",
      "100/100 [==============================] - 28s 283ms/step - loss: 0.1880 - acc: 0.9612 - val_loss: 0.1353 - val_acc: 0.9809\n",
      "Epoch 7/10\n",
      "100/100 [==============================] - 28s 280ms/step - loss: 0.1433 - acc: 0.9722 - val_loss: 0.1068 - val_acc: 0.9853\n",
      "Epoch 8/10\n",
      "100/100 [==============================] - 28s 282ms/step - loss: 0.1345 - acc: 0.9762 - val_loss: 0.1014 - val_acc: 0.9866\n",
      "Epoch 9/10\n",
      "100/100 [==============================] - 28s 281ms/step - loss: 0.1154 - acc: 0.9794 - val_loss: 0.0952 - val_acc: 0.9919\n",
      "Epoch 10/10\n",
      "100/100 [==============================] - 28s 280ms/step - loss: 0.1261 - acc: 0.9808 - val_loss: 0.1149 - val_acc: 0.9825\n"
     ]
    }
   ],
   "source": [
    "from tensorflow.keras.models import Sequential\n",
    "from tensorflow.keras.layers import Conv2D, Dense, Dropout, MaxPooling2D, Flatten\n",
    "from tensorflow.keras.callbacks import EarlyStopping, Callback \n",
    "\n",
    "# Build sequential model\n",
    "model=Sequential()\n",
    "model.add(Conv2D(128, 3,input_shape=(128,256,3),activation=\"relu\"))\n",
    "model.add(MaxPooling2D(2))\n",
    "model.add(Conv2D(64, 3,activation=\"relu\"))\n",
    "model.add(MaxPooling2D(2))\n",
    "model.add(Flatten())\n",
    "model.add(Dropout(0.5))                                                         # Add Dropout layer, randomly drops 50% neurons from propagation.\n",
    "model.add(Dense(64,activation=\"relu\", kernel_regularizer=\"l2\"))\n",
    "model.add(Dense(16,activation=\"relu\"))\n",
    "model.add(Dense(1,activation=\"sigmoid\"))\n",
    "\n",
    "model.compile(loss=\"binary_crossentropy\",\n",
    "              optimizer=\"adam\",\n",
    "              metrics=['acc'])\n",
    "\n",
    "# Configure EarlyStopping object\n",
    "Es=EarlyStopping(monitor='val_loss', patience=2, restore_best_weights=True)      # EarlyStopping with patience 2: if in 2 consecutive epochs, the validation loss didn't hit the record, training will stop.\n",
    "\n",
    "# Fit the model and record the training history for plotting purpose\n",
    "history=model.fit(train_gen,\n",
    "      steps_per_epoch=100, #train_gen.n//train_gen.batch_size. In lab 2, we set \"batchsize\" in model.fit() to determine the step length for steps in one epoch. \n",
    "                  #Steps_per_epoch is the number of steps in one epoch. It can also determine the step length (batchszie) in each epoch. So, we can set steps_per_epoch instead to replace \"batchsize\".\n",
    "                  #Either batchsize or steps_per_epoch is fine. Just make sure you set one of them.\n",
    "      epochs=10,\n",
    "      validation_data=val_gen,\n",
    "      validation_steps=100, #val_gen.n//val_gen.batch_size\n",
    "      callbacks=[Es])                                                           # Here is how we use EarlyStopping"
   ]
  },
  {
   "cell_type": "code",
   "execution_count": 40,
   "metadata": {
    "colab": {
     "base_uri": "https://localhost:8080/"
    },
    "id": "34r6JQTaKaYA",
    "outputId": "09e03fba-d3fb-4e39-c2fe-145b7fcf931a"
   },
   "outputs": [
    {
     "name": "stdout",
     "output_type": "stream",
     "text": [
      "Model: \"sequential_9\"\n",
      "_________________________________________________________________\n",
      " Layer (type)                Output Shape              Param #   \n",
      "=================================================================\n",
      " conv2d_10 (Conv2D)          (None, 126, 254, 128)     3584      \n",
      "                                                                 \n",
      " max_pooling2d_10 (MaxPoolin  (None, 63, 127, 128)     0         \n",
      " g2D)                                                            \n",
      "                                                                 \n",
      " conv2d_11 (Conv2D)          (None, 61, 125, 64)       73792     \n",
      "                                                                 \n",
      " max_pooling2d_11 (MaxPoolin  (None, 30, 62, 64)       0         \n",
      " g2D)                                                            \n",
      "                                                                 \n",
      " flatten_9 (Flatten)         (None, 119040)            0         \n",
      "                                                                 \n",
      " dropout_6 (Dropout)         (None, 119040)            0         \n",
      "                                                                 \n",
      " dense_24 (Dense)            (None, 64)                7618624   \n",
      "                                                                 \n",
      " dense_25 (Dense)            (None, 16)                1040      \n",
      "                                                                 \n",
      " dense_26 (Dense)            (None, 1)                 17        \n",
      "                                                                 \n",
      "=================================================================\n",
      "Total params: 7,697,057\n",
      "Trainable params: 7,697,057\n",
      "Non-trainable params: 0\n",
      "_________________________________________________________________\n"
     ]
    }
   ],
   "source": [
    "model.summary()"
   ]
  },
  {
   "cell_type": "code",
   "execution_count": 41,
   "metadata": {
    "colab": {
     "base_uri": "https://localhost:8080/",
     "height": 265
    },
    "id": "qXvXf9fgKcaw",
    "outputId": "809d40ab-242d-4ebc-f723-d60499fbe5f1"
   },
   "outputs": [
    {
     "data": {
      "image/png": "[encoded data removed]",
      "text/plain": [
       "<Figure size 432x288 with 1 Axes>"
      ]
     },
     "metadata": {
      "needs_background": "light"
     },
     "output_type": "display_data"
    }
   ],
   "source": [
    "# Plot history\n",
    "import matplotlib.pyplot as plt\n",
    "plt.plot(history.history['acc'], color='b')\n",
    "plt.plot(history.history['val_acc'], color='g')\n",
    "plt.show()"
   ]
  },
  {
   "cell_type": "code",
   "execution_count": 42,
   "metadata": {
    "colab": {
     "base_uri": "https://localhost:8080/"
    },
    "id": "xRNfQ_UVKefD",
    "outputId": "9f47b589-2cbe-43aa-805c-7c6c600057bf"
   },
   "outputs": [
    {
     "name": "stdout",
     "output_type": "stream",
     "text": [
      "180/180 [==============================] - 25s 141ms/step - loss: 0.1314 - acc: 0.9708\n"
     ]
    },
    {
     "data": {
      "text/plain": [
       "[0.1314014345407486, 0.9707724452018738]"
      ]
     },
     "execution_count": 42,
     "metadata": {},
     "output_type": "execute_result"
    }
   ],
   "source": [
    "# Evaluate test data accuracy.\n",
    "model.evaluate(test_gen)"
   ]
  },
  {
   "cell_type": "markdown",
   "metadata": {
    "id": "SH8uSs1PwYUZ"
   },
   "source": [
    "### Underfitting and Overfitting"
   ]
  },
  {
   "cell_type": "markdown",
   "metadata": {
    "id": "0Xj-IzBcwU9L"
   },
   "source": [
    "![Imgur](https://i.imgur.com/pQedNv0.png)"
   ]
  },
  {
   "cell_type": "markdown",
   "metadata": {
    "id": "ifqs-XXcTl0K"
   },
   "source": [
    "### Convolution Model"
   ]
  },
  {
   "cell_type": "code",
   "execution_count": 43,
   "metadata": {
    "colab": {
     "base_uri": "https://localhost:8080/"
    },
    "id": "Y-CdF-ZJKgkn",
    "outputId": "fe4e9dca-48d4-47b7-9efb-43fd9609af1d"
   },
   "outputs": [
    {
     "name": "stdout",
     "output_type": "stream",
     "text": [
      "Epoch 1/10\n",
      "100/100 [==============================] - 34s 328ms/step - loss: 3.3323 - acc: 0.7166 - val_loss: 1.1208 - val_acc: 0.9438\n",
      "Epoch 2/10\n",
      "100/100 [==============================] - 32s 324ms/step - loss: 0.8440 - acc: 0.9159 - val_loss: 0.6939 - val_acc: 0.9375\n",
      "Epoch 3/10\n",
      "100/100 [==============================] - 33s 326ms/step - loss: 0.7301 - acc: 0.9219 - val_loss: 0.6822 - val_acc: 0.9506\n",
      "Epoch 4/10\n",
      "100/100 [==============================] - 32s 325ms/step - loss: 0.7409 - acc: 0.9275 - val_loss: 0.6622 - val_acc: 0.9503\n",
      "Epoch 5/10\n",
      "100/100 [==============================] - 33s 327ms/step - loss: 0.6845 - acc: 0.9362 - val_loss: 0.6028 - val_acc: 0.9634\n",
      "Epoch 6/10\n",
      "100/100 [==============================] - 33s 326ms/step - loss: 0.6896 - acc: 0.9441 - val_loss: 0.6513 - val_acc: 0.9616\n",
      "Epoch 7/10\n",
      "100/100 [==============================] - 33s 326ms/step - loss: 0.6924 - acc: 0.9428 - val_loss: 0.6047 - val_acc: 0.9594\n"
     ]
    }
   ],
   "source": [
    "# Final version\n",
    "# Build sequential model\n",
    "model=Sequential()\n",
    "model.add(Conv2D(128, 3,input_shape=(128,256,3),activation=\"relu\"))\n",
    "model.add(MaxPooling2D(2))\n",
    "#model.add(Conv2D(64, 3,activation=\"relu\"))\n",
    "#model.add(MaxPooling2D(2))\n",
    "model.add(Flatten())\n",
    "model.add(Dropout(0.5))                                                         # Add Dropout layer, randomly drops 50% neurons from propagation.\n",
    "model.add(Dense(64,activation=\"relu\", kernel_regularizer=\"l2\"))\n",
    "model.add(Dense(1,activation=\"sigmoid\"))\n",
    "\n",
    "model.compile(loss=\"binary_crossentropy\",\n",
    "              optimizer=\"adam\",\n",
    "              metrics=['acc'])\n",
    "\n",
    "# Configure EarlyStopping object\n",
    "Es=EarlyStopping(monitor='val_loss', patience=2,restore_best_weights=True)      # EarlyStopping with patience 2: if in 2 consecutive epochs, the validation loss didn't hit the record, training will stop.\n",
    "\n",
    "# Fit the model and record the training history for plotting purpose\n",
    "history=model.fit(train_gen,\n",
    "      steps_per_epoch=100, #train_gen.n//train_gen.batch_size\n",
    "      epochs=10,\n",
    "      validation_data=val_gen,\n",
    "      validation_steps=100, #val_gen.n//val_gen.batch_size\n",
    "      callbacks=[Es])                                                           # Here is how we use EarlyStopping"
   ]
  },
  {
   "cell_type": "code",
   "execution_count": 44,
   "metadata": {
    "colab": {
     "base_uri": "https://localhost:8080/",
     "height": 265
    },
    "id": "fU12O6EhKin-",
    "outputId": "7473ba5c-06f1-4dd6-f406-c4b4635f99f6"
   },
   "outputs": [
    {
     "data": {
      "image/png": "[encoded data removed]",
      "text/plain": [
       "<Figure size 432x288 with 1 Axes>"
      ]
     },
     "metadata": {
      "needs_background": "light"
     },
     "output_type": "display_data"
    }
   ],
   "source": [
    "# Plot history\n",
    "import matplotlib.pyplot as plt\n",
    "plt.plot(history.history['acc'], color='b')\n",
    "plt.plot(history.history['val_acc'], color='g')\n",
    "plt.show()"
   ]
  },
  {
   "cell_type": "markdown",
   "metadata": {
    "id": "8i64YRYRVhSp"
   },
   "source": [
    "This simple convolution model's performance is similar to dense model. "
   ]
  },
  {
   "cell_type": "markdown",
   "metadata": {
    "id": "u_yhW9o0TXqE"
   },
   "source": [
    "###This basic convolution Model"
   ]
  },
  {
   "cell_type": "code",
   "execution_count": 45,
   "metadata": {
    "colab": {
     "base_uri": "https://localhost:8080/"
    },
    "id": "uDwokoQ1KkQk",
    "outputId": "9b375747-a049-44bf-c95d-e83bcf50ae6b"
   },
   "outputs": [
    {
     "name": "stdout",
     "output_type": "stream",
     "text": [
      "Epoch 1/10\n",
      "100/100 [==============================] - 31s 299ms/step - loss: 1.5089 - acc: 0.7641 - val_loss: 0.1572 - val_acc: 0.9494\n",
      "Epoch 2/10\n",
      "100/100 [==============================] - 29s 294ms/step - loss: 0.0962 - acc: 0.9737 - val_loss: 0.0430 - val_acc: 0.9909\n",
      "Epoch 3/10\n",
      "100/100 [==============================] - 29s 293ms/step - loss: 0.0218 - acc: 0.9956 - val_loss: 0.0159 - val_acc: 0.9962\n",
      "Epoch 4/10\n",
      "100/100 [==============================] - 30s 295ms/step - loss: 0.0157 - acc: 0.9972 - val_loss: 0.0091 - val_acc: 0.9997\n",
      "Epoch 5/10\n",
      "100/100 [==============================] - 29s 295ms/step - loss: 0.0040 - acc: 0.9997 - val_loss: 0.0017 - val_acc: 1.0000\n",
      "Epoch 6/10\n",
      "100/100 [==============================] - 30s 296ms/step - loss: 9.7197e-04 - acc: 1.0000 - val_loss: 7.3225e-04 - val_acc: 1.0000\n",
      "Epoch 7/10\n",
      "100/100 [==============================] - 30s 296ms/step - loss: 6.1161e-04 - acc: 1.0000 - val_loss: 5.0702e-04 - val_acc: 1.0000\n",
      "Epoch 8/10\n",
      "100/100 [==============================] - 30s 300ms/step - loss: 3.7452e-04 - acc: 1.0000 - val_loss: 3.3645e-04 - val_acc: 1.0000\n",
      "Epoch 9/10\n",
      "100/100 [==============================] - 30s 296ms/step - loss: 2.5587e-04 - acc: 1.0000 - val_loss: 2.6292e-04 - val_acc: 1.0000\n",
      "Epoch 10/10\n",
      "100/100 [==============================] - 30s 296ms/step - loss: 2.2582e-04 - acc: 1.0000 - val_loss: 2.1104e-04 - val_acc: 1.0000\n"
     ]
    }
   ],
   "source": [
    "# Intermediate version\n",
    "from tensorflow.keras.models import Sequential\n",
    "from tensorflow.keras.layers import Conv2D, Dense, Dropout, MaxPooling2D, Flatten\n",
    "from tensorflow.keras.callbacks import EarlyStopping, Callback\n",
    "\n",
    "model=Sequential()                                                      \n",
    "model.add(Conv2D(128, 3,input_shape=(128, 256,3),activation=\"relu\"))     # The first convolution layer: 16 filters with size 3x3.\n",
    "model.add(MaxPooling2D(2))                                              # Pooling: MaxPooling\n",
    "model.add(Flatten())                                                    # Flatten the output of pooling layer i.e. create a long array\n",
    "model.add(Dense(64,activation=\"relu\"))\n",
    "model.add(Dense(16,activation=\"relu\"))\n",
    "model.add(Dense(1,activation=\"sigmoid\"))\n",
    "\n",
    "model.compile(loss=\"binary_crossentropy\",                               # This is binary classification\n",
    "              optimizer=\"adam\",                                         # Adam optimizer\n",
    "              metrics=['acc'])                                          # Monitoring the accuracy\n",
    "\n",
    "# Fit the model and record the training history for plotting purpose\n",
    "history=model.fit(train_gen,\n",
    "      steps_per_epoch=100, #train_gen.n//train_gen.batch_size\n",
    "      epochs=10,\n",
    "      validation_data=val_gen,\n",
    "      validation_steps=100) #val_gen.n//val_gen.batch_size"
   ]
  },
  {
   "cell_type": "code",
   "execution_count": 46,
   "metadata": {
    "colab": {
     "base_uri": "https://localhost:8080/"
    },
    "id": "iYfCLxoLKmgl",
    "outputId": "965e6f60-ba9d-4c83-e9ea-659d2a924d36"
   },
   "outputs": [
    {
     "name": "stdout",
     "output_type": "stream",
     "text": [
      "Model: \"sequential_11\"\n",
      "_________________________________________________________________\n",
      " Layer (type)                Output Shape              Param #   \n",
      "=================================================================\n",
      " conv2d_13 (Conv2D)          (None, 126, 254, 128)     3584      \n",
      "                                                                 \n",
      " max_pooling2d_13 (MaxPoolin  (None, 63, 127, 128)     0         \n",
      " g2D)                                                            \n",
      "                                                                 \n",
      " flatten_11 (Flatten)        (None, 1024128)           0         \n",
      "                                                                 \n",
      " dense_29 (Dense)            (None, 64)                65544256  \n",
      "                                                                 \n",
      " dense_30 (Dense)            (None, 16)                1040      \n",
      "                                                                 \n",
      " dense_31 (Dense)            (None, 1)                 17        \n",
      "                                                                 \n",
      "=================================================================\n",
      "Total params: 65,548,897\n",
      "Trainable params: 65,548,897\n",
      "Non-trainable params: 0\n",
      "_________________________________________________________________\n"
     ]
    }
   ],
   "source": [
    "model.summary()"
   ]
  },
  {
   "cell_type": "code",
   "execution_count": 47,
   "metadata": {
    "colab": {
     "base_uri": "https://localhost:8080/",
     "height": 265
    },
    "id": "XcaJZ8ICKoXF",
    "outputId": "99ddc59d-1259-4be7-c183-9a2a7d7cc951"
   },
   "outputs": [
    {
     "data": {
      "image/png": "[encoded data removed]",
      "text/plain": [
       "<Figure size 432x288 with 1 Axes>"
      ]
     },
     "metadata": {
      "needs_background": "light"
     },
     "output_type": "display_data"
    }
   ],
   "source": [
    "# Plot history\n",
    "import matplotlib.pyplot as plt\n",
    "plt.plot(history.history['acc'], color='b')\n",
    "plt.plot(history.history['val_acc'], color='g')\n",
    "plt.show()"
   ]
  },
  {
   "cell_type": "code",
   "execution_count": 48,
   "metadata": {
    "colab": {
     "base_uri": "https://localhost:8080/"
    },
    "id": "L4JV3OLFKqIC",
    "outputId": "47e544ba-36a3-4313-d134-11690cda7fbd"
   },
   "outputs": [
    {
     "name": "stdout",
     "output_type": "stream",
     "text": [
      "180/180 [==============================] - 26s 142ms/step - loss: 2.3039e-04 - acc: 1.0000\n"
     ]
    },
    {
     "data": {
      "text/plain": [
       "[0.00023039108782541007, 1.0]"
      ]
     },
     "execution_count": 48,
     "metadata": {},
     "output_type": "execute_result"
    }
   ],
   "source": [
    "model.evaluate(test_gen)"
   ]
  },
  {
   "cell_type": "code",
   "execution_count": 20,
   "metadata": {
    "id": "EYazZzl4j-FK"
   },
   "outputs": [],
   "source": [
    "model.save('/content/modelsign.h5')"
   ]
  },
  {
   "cell_type": "markdown",
   "metadata": {
    "id": "L4Pwu5tWDN9z"
   },
   "source": [
    "At the end, please make sure that you explain how to optimized the parameters and we solved the problem. "
   ]
  },
  {
   "cell_type": "markdown",
   "metadata": {
    "id": "sw5Nqiwfe_La"
   },
   "source": [
    "The first model we used is dense neural networks, and the results showed that there might be a underfitting problem due to the low training and validation accuracy rate.  To improve it, we used two convolutional models, and we added drop out and l2 regularization to avoid potential overfitting problems. Indeed, the results showed overall higher accuracy rate and lower loss rate. However, there are gaps between the validation accuracy and the training accuracy, and the reason might be that the drop-out method caused lost of information. The basic convolution model without drop-out helped mitigate this problem, as we can see there are smaller gaps between the validation accuracy and the training accuracy."
   ]
  },
  {
   "cell_type": "markdown",
   "metadata": {
    "id": "lgSSqOqyCFWg"
   },
   "source": [
    "If you have any questions, please contact me by using salihtutun@wustl.edu. \n",
    "\n",
    "Salih Tutun, Ph.D. "
   ]
  }
 ],
 "metadata": {
  "accelerator": "GPU",
  "colab": {
   "collapsed_sections": [],
   "name": "499820 Lab Assignment 3.ipynb",
   "provenance": []
  },
  "kernelspec": {
   "display_name": "Python 3",
   "language": "python",
   "name": "python3"
  },
  "language_info": {
   "codemirror_mode": {
    "name": "ipython",
    "version": 3
   },
   "file_extension": ".py",
   "mimetype": "text/x-python",
   "name": "python",
   "nbconvert_exporter": "python",
   "pygments_lexer": "ipython3",
   "version": "3.8.5"
  }
 },
 "nbformat": 4,
 "nbformat_minor": 1
}
