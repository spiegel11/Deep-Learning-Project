{
 "cells": [
  {
   "cell_type": "markdown",
   "metadata": {
    "id": "g58RiWKbubVa"
   },
   "source": [
    "# **DAT565E-Deep Learning for Prediction of Business Outcomes**"
   ]
  },
  {
   "cell_type": "markdown",
   "metadata": {
    "id": "WFZG5F7AuXM3"
   },
   "source": [
    "<div class=\"LI-profile-badge\"  data-version=\"v1\" data-size=\"large\" data-locale=\"en_US\" data-type=\"horizontal\" data-theme=\"light\" data-vanity=\"drsalihtutun\"><a class=\"LI-simple-link\" href='https://www.linkedin.com/in/drsalihtutun/en-us?trk=profile-badge'>Salih Tutun, PhD</a></div>"
   ]
  },
  {
   "cell_type": "markdown",
   "metadata": {
    "id": "FHoR-PCerhAN"
   },
   "source": [
    "![Imgur](https://i.imgur.com/4HJknC2.png)"
   ]
  },
  {
   "cell_type": "markdown",
   "metadata": {
    "id": "b31OA7fMueFe"
   },
   "source": [
    "# Lab-based Group Assignment 2:\n",
    "## Customer Churning Prediction in the Telecommunications Sector"
   ]
  },
  {
   "cell_type": "markdown",
   "metadata": {
    "cell_id": "00001-0f93a4fd-6b2c-4fe1-878f-263385719d95",
    "id": "90TpmaKcVTQ2",
    "tags": []
   },
   "source": [
    "Tele-communication business suffers from customer churning. Those companies are especially interested in a customer churn early warning system. One of the most important components in such a system, is to predict whether a customer will churn with existing information. Companies are working hard to survive in this competitive market by using three main strategies:(1) acquire new customers, (2) upsell the existing customers, and (3) increase the retention period of customers. "
   ]
  },
  {
   "cell_type": "markdown",
   "metadata": {
    "id": "AIo-Y0F-VyNF"
   },
   "source": [
    "**Credit:** Ahmad, Abdelrahim Kasem, Assef Jafar, and Kadan Aljoumaa. \"Customer churn prediction in telecom using machine learning in big data platform.\" Journal of Big Data 6, no. 1 (2019): 28."
   ]
  },
  {
   "cell_type": "markdown",
   "metadata": {
    "cell_id": "00001-e7a0f509-e254-4e2b-9d6c-06583eb155d1",
    "id": "xWg6PNC8VTQ-",
    "tags": []
   },
   "source": [
    "<img src=\"https://miro.medium.com/max/1400/1*Xap6OxaZvD7C7eMQKkaHYQ.jpeg\">"
   ]
  },
  {
   "cell_type": "markdown",
   "metadata": {
    "id": "IPW4z6PYp9x_"
   },
   "source": [
    "### Business Problem"
   ]
  },
  {
   "cell_type": "markdown",
   "metadata": {
    "cell_id": "00002-f83269f7-02c7-4cf9-9025-b947673f6c46",
    "id": "rf7kMlzVVTQ4",
    "tags": []
   },
   "source": [
    "The problem is to detect the potential of customer’s churn for decreasing the potential of customer’s churn, known as “the customer movement from one provider to another”. Therefore, finding factors that increase customer churn is important to take necessary actions to reduce this churn."
   ]
  },
  {
   "cell_type": "markdown",
   "metadata": {
    "id": "LgYidMycxyWZ"
   },
   "source": [
    "## *Please fill the below codes and find the best accuracy for training dataset and validation dataset based on the below questions. At the end, please explain how to improve the results!*\n",
    "\n",
    "Note: Both accuracies are supposed to close to 0.9 or greater than this value. We will grade the assignment based on how your results close. For example, if your result is training = 0.89 and validation = 0.89, you will lose 2 points of the total grades.\n",
    "\n",
    "- You can use L2 and dropout\n",
    "- You can change the architecture (number of hidden layers or neurons)\n",
    "- You can use early stoping\n",
    "- You can change the batch size or epochs\n",
    "\n",
    "Let's start to design our model!"
   ]
  },
  {
   "cell_type": "markdown",
   "metadata": {
    "id": "wLnBXg2BCFJV"
   },
   "source": [
    "## Q1: Please read and load the dataset?"
   ]
  },
  {
   "cell_type": "code",
   "execution_count": 1,
   "metadata": {
    "colab": {
     "base_uri": "https://localhost:8080/"
    },
    "id": "VLj2WO5EoRcc",
    "outputId": "2055aa36-4f57-4a5e-dc05-69d59b45d6e6"
   },
   "outputs": [
    {
     "name": "stdout",
     "output_type": "stream",
     "text": [
      "Mounted at /content/drive\n"
     ]
    }
   ],
   "source": [
    "# Mount with Google Drive\n",
    "\n",
    "from google.colab import drive\n",
    "drive.mount('/content/drive')"
   ]
  },
  {
   "cell_type": "markdown",
   "metadata": {
    "cell_id": "00002-8114fccd-052e-4f1d-af7e-a97e7849051a",
    "id": "ct5S6gu9VTQ_",
    "tags": []
   },
   "source": [
    "Load Data"
   ]
  },
  {
   "cell_type": "code",
   "execution_count": 2,
   "metadata": {
    "cell_id": "00000-b2c3ac94-aff0-4050-ace0-3200a0eefd98",
    "execution_millis": 10,
    "execution_start": 1605416432785,
    "id": "kPQNyvt4VTRB",
    "output_cleared": false,
    "source_hash": "f4ded9e6",
    "tags": []
   },
   "outputs": [],
   "source": [
    "import pandas as pd\n",
    "\n",
    "# read csv\n",
    "df = pd.read_csv(\"/content/drive/MyDrive/Colab Notebooks/DAT565/2/Lab based Group Assignment 2/churn-dataset.csv\")"
   ]
  },
  {
   "cell_type": "code",
   "execution_count": 3,
   "metadata": {
    "colab": {
     "base_uri": "https://localhost:8080/",
     "height": 522
    },
    "id": "tTpDNRzxug0R",
    "outputId": "75fea242-4645-4a2a-d0d9-7d997202d81e"
   },
   "outputs": [
    {
     "data": {
      "text/html": [
       "\n",
       "  <div id=\"df-fa19a1e2-6737-493f-8638-60a88f90a516\">\n",
       "    <div class=\"colab-df-container\">\n",
       "      <div>\n",
       "<style scoped>\n",
       "    .dataframe tbody tr th:only-of-type {\n",
       "        vertical-align: middle;\n",
       "    }\n",
       "\n",
       "    .dataframe tbody tr th {\n",
       "        vertical-align: top;\n",
       "    }\n",
       "\n",
       "    .dataframe thead th {\n",
       "        text-align: right;\n",
       "    }\n",
       "</style>\n",
       "<table border=\"1\" class=\"dataframe\">\n",
       "  <thead>\n",
       "    <tr style=\"text-align: right;\">\n",
       "      <th></th>\n",
       "      <th>State</th>\n",
       "      <th>Account length</th>\n",
       "      <th>Area code</th>\n",
       "      <th>International plan</th>\n",
       "      <th>Voice mail plan</th>\n",
       "      <th>Number vmail messages</th>\n",
       "      <th>Total day minutes</th>\n",
       "      <th>Total day calls</th>\n",
       "      <th>Total day charge</th>\n",
       "      <th>Total eve minutes</th>\n",
       "      <th>Total eve calls</th>\n",
       "      <th>Total eve charge</th>\n",
       "      <th>Total night minutes</th>\n",
       "      <th>Total night calls</th>\n",
       "      <th>Total night charge</th>\n",
       "      <th>Total intl minutes</th>\n",
       "      <th>Total intl calls</th>\n",
       "      <th>Total intl charge</th>\n",
       "      <th>Customer service calls</th>\n",
       "      <th>Churn</th>\n",
       "    </tr>\n",
       "  </thead>\n",
       "  <tbody>\n",
       "    <tr>\n",
       "      <th>0</th>\n",
       "      <td>KS</td>\n",
       "      <td>128</td>\n",
       "      <td>415</td>\n",
       "      <td>No</td>\n",
       "      <td>Yes</td>\n",
       "      <td>25</td>\n",
       "      <td>265.1</td>\n",
       "      <td>110</td>\n",
       "      <td>45.07</td>\n",
       "      <td>197.4</td>\n",
       "      <td>99</td>\n",
       "      <td>16.78</td>\n",
       "      <td>244.7</td>\n",
       "      <td>91</td>\n",
       "      <td>11.01</td>\n",
       "      <td>10.0</td>\n",
       "      <td>3</td>\n",
       "      <td>2.70</td>\n",
       "      <td>1</td>\n",
       "      <td>False</td>\n",
       "    </tr>\n",
       "    <tr>\n",
       "      <th>1</th>\n",
       "      <td>OH</td>\n",
       "      <td>107</td>\n",
       "      <td>415</td>\n",
       "      <td>No</td>\n",
       "      <td>Yes</td>\n",
       "      <td>26</td>\n",
       "      <td>161.6</td>\n",
       "      <td>123</td>\n",
       "      <td>27.47</td>\n",
       "      <td>195.5</td>\n",
       "      <td>103</td>\n",
       "      <td>16.62</td>\n",
       "      <td>254.4</td>\n",
       "      <td>103</td>\n",
       "      <td>11.45</td>\n",
       "      <td>13.7</td>\n",
       "      <td>3</td>\n",
       "      <td>3.70</td>\n",
       "      <td>1</td>\n",
       "      <td>False</td>\n",
       "    </tr>\n",
       "    <tr>\n",
       "      <th>2</th>\n",
       "      <td>NJ</td>\n",
       "      <td>137</td>\n",
       "      <td>415</td>\n",
       "      <td>No</td>\n",
       "      <td>No</td>\n",
       "      <td>0</td>\n",
       "      <td>243.4</td>\n",
       "      <td>114</td>\n",
       "      <td>41.38</td>\n",
       "      <td>121.2</td>\n",
       "      <td>110</td>\n",
       "      <td>10.30</td>\n",
       "      <td>162.6</td>\n",
       "      <td>104</td>\n",
       "      <td>7.32</td>\n",
       "      <td>12.2</td>\n",
       "      <td>5</td>\n",
       "      <td>3.29</td>\n",
       "      <td>0</td>\n",
       "      <td>False</td>\n",
       "    </tr>\n",
       "    <tr>\n",
       "      <th>3</th>\n",
       "      <td>OH</td>\n",
       "      <td>84</td>\n",
       "      <td>408</td>\n",
       "      <td>Yes</td>\n",
       "      <td>No</td>\n",
       "      <td>0</td>\n",
       "      <td>299.4</td>\n",
       "      <td>71</td>\n",
       "      <td>50.90</td>\n",
       "      <td>61.9</td>\n",
       "      <td>88</td>\n",
       "      <td>5.26</td>\n",
       "      <td>196.9</td>\n",
       "      <td>89</td>\n",
       "      <td>8.86</td>\n",
       "      <td>6.6</td>\n",
       "      <td>7</td>\n",
       "      <td>1.78</td>\n",
       "      <td>2</td>\n",
       "      <td>False</td>\n",
       "    </tr>\n",
       "    <tr>\n",
       "      <th>4</th>\n",
       "      <td>OK</td>\n",
       "      <td>75</td>\n",
       "      <td>415</td>\n",
       "      <td>Yes</td>\n",
       "      <td>No</td>\n",
       "      <td>0</td>\n",
       "      <td>166.7</td>\n",
       "      <td>113</td>\n",
       "      <td>28.34</td>\n",
       "      <td>148.3</td>\n",
       "      <td>122</td>\n",
       "      <td>12.61</td>\n",
       "      <td>186.9</td>\n",
       "      <td>121</td>\n",
       "      <td>8.41</td>\n",
       "      <td>10.1</td>\n",
       "      <td>3</td>\n",
       "      <td>2.73</td>\n",
       "      <td>3</td>\n",
       "      <td>False</td>\n",
       "    </tr>\n",
       "    <tr>\n",
       "      <th>...</th>\n",
       "      <td>...</td>\n",
       "      <td>...</td>\n",
       "      <td>...</td>\n",
       "      <td>...</td>\n",
       "      <td>...</td>\n",
       "      <td>...</td>\n",
       "      <td>...</td>\n",
       "      <td>...</td>\n",
       "      <td>...</td>\n",
       "      <td>...</td>\n",
       "      <td>...</td>\n",
       "      <td>...</td>\n",
       "      <td>...</td>\n",
       "      <td>...</td>\n",
       "      <td>...</td>\n",
       "      <td>...</td>\n",
       "      <td>...</td>\n",
       "      <td>...</td>\n",
       "      <td>...</td>\n",
       "      <td>...</td>\n",
       "    </tr>\n",
       "    <tr>\n",
       "      <th>2661</th>\n",
       "      <td>SC</td>\n",
       "      <td>79</td>\n",
       "      <td>415</td>\n",
       "      <td>No</td>\n",
       "      <td>No</td>\n",
       "      <td>0</td>\n",
       "      <td>134.7</td>\n",
       "      <td>98</td>\n",
       "      <td>22.90</td>\n",
       "      <td>189.7</td>\n",
       "      <td>68</td>\n",
       "      <td>16.12</td>\n",
       "      <td>221.4</td>\n",
       "      <td>128</td>\n",
       "      <td>9.96</td>\n",
       "      <td>11.8</td>\n",
       "      <td>5</td>\n",
       "      <td>3.19</td>\n",
       "      <td>2</td>\n",
       "      <td>False</td>\n",
       "    </tr>\n",
       "    <tr>\n",
       "      <th>2662</th>\n",
       "      <td>AZ</td>\n",
       "      <td>192</td>\n",
       "      <td>415</td>\n",
       "      <td>No</td>\n",
       "      <td>Yes</td>\n",
       "      <td>36</td>\n",
       "      <td>156.2</td>\n",
       "      <td>77</td>\n",
       "      <td>26.55</td>\n",
       "      <td>215.5</td>\n",
       "      <td>126</td>\n",
       "      <td>18.32</td>\n",
       "      <td>279.1</td>\n",
       "      <td>83</td>\n",
       "      <td>12.56</td>\n",
       "      <td>9.9</td>\n",
       "      <td>6</td>\n",
       "      <td>2.67</td>\n",
       "      <td>2</td>\n",
       "      <td>False</td>\n",
       "    </tr>\n",
       "    <tr>\n",
       "      <th>2663</th>\n",
       "      <td>WV</td>\n",
       "      <td>68</td>\n",
       "      <td>415</td>\n",
       "      <td>No</td>\n",
       "      <td>No</td>\n",
       "      <td>0</td>\n",
       "      <td>231.1</td>\n",
       "      <td>57</td>\n",
       "      <td>39.29</td>\n",
       "      <td>153.4</td>\n",
       "      <td>55</td>\n",
       "      <td>13.04</td>\n",
       "      <td>191.3</td>\n",
       "      <td>123</td>\n",
       "      <td>8.61</td>\n",
       "      <td>9.6</td>\n",
       "      <td>4</td>\n",
       "      <td>2.59</td>\n",
       "      <td>3</td>\n",
       "      <td>False</td>\n",
       "    </tr>\n",
       "    <tr>\n",
       "      <th>2664</th>\n",
       "      <td>RI</td>\n",
       "      <td>28</td>\n",
       "      <td>510</td>\n",
       "      <td>No</td>\n",
       "      <td>No</td>\n",
       "      <td>0</td>\n",
       "      <td>180.8</td>\n",
       "      <td>109</td>\n",
       "      <td>30.74</td>\n",
       "      <td>288.8</td>\n",
       "      <td>58</td>\n",
       "      <td>24.55</td>\n",
       "      <td>191.9</td>\n",
       "      <td>91</td>\n",
       "      <td>8.64</td>\n",
       "      <td>14.1</td>\n",
       "      <td>6</td>\n",
       "      <td>3.81</td>\n",
       "      <td>2</td>\n",
       "      <td>False</td>\n",
       "    </tr>\n",
       "    <tr>\n",
       "      <th>2665</th>\n",
       "      <td>TN</td>\n",
       "      <td>74</td>\n",
       "      <td>415</td>\n",
       "      <td>No</td>\n",
       "      <td>Yes</td>\n",
       "      <td>25</td>\n",
       "      <td>234.4</td>\n",
       "      <td>113</td>\n",
       "      <td>39.85</td>\n",
       "      <td>265.9</td>\n",
       "      <td>82</td>\n",
       "      <td>22.60</td>\n",
       "      <td>241.4</td>\n",
       "      <td>77</td>\n",
       "      <td>10.86</td>\n",
       "      <td>13.7</td>\n",
       "      <td>4</td>\n",
       "      <td>3.70</td>\n",
       "      <td>0</td>\n",
       "      <td>False</td>\n",
       "    </tr>\n",
       "  </tbody>\n",
       "</table>\n",
       "<p>2666 rows × 20 columns</p>\n",
       "</div>\n",
       "      <button class=\"colab-df-convert\" onclick=\"convertToInteractive('df-fa19a1e2-6737-493f-8638-60a88f90a516')\"\n",
       "              title=\"Convert this dataframe to an interactive table.\"\n",
       "              style=\"display:none;\">\n",
       "        \n",
       "  <svg xmlns=\"http://www.w3.org/2000/svg\" height=\"24px\"viewBox=\"0 0 24 24\"\n",
       "       width=\"24px\">\n",
       "    <path d=\"M0 0h24v24H0V0z\" fill=\"none\"/>\n",
       "    <path d=\"M18.56 5.44l.94 2.06.94-2.06 2.06-.94-2.06-.94-.94-2.06-.94 2.06-2.06.94zm-11 1L8.5 8.5l.94-2.06 2.06-.94-2.06-.94L8.5 2.5l-.94 2.06-2.06.94zm10 10l.94 2.06.94-2.06 2.06-.94-2.06-.94-.94-2.06-.94 2.06-2.06.94z\"/><path d=\"M17.41 7.96l-1.37-1.37c-.4-.4-.92-.59-1.43-.59-.52 0-1.04.2-1.43.59L10.3 9.45l-7.72 7.72c-.78.78-.78 2.05 0 2.83L4 21.41c.39.39.9.59 1.41.59.51 0 1.02-.2 1.41-.59l7.78-7.78 2.81-2.81c.8-.78.8-2.07 0-2.86zM5.41 20L4 18.59l7.72-7.72 1.47 1.35L5.41 20z\"/>\n",
       "  </svg>\n",
       "      </button>\n",
       "      \n",
       "  <style>\n",
       "    .colab-df-container {\n",
       "      display:flex;\n",
       "      flex-wrap:wrap;\n",
       "      gap: 12px;\n",
       "    }\n",
       "\n",
       "    .colab-df-convert {\n",
       "      background-color: #E8F0FE;\n",
       "      border: none;\n",
       "      border-radius: 50%;\n",
       "      cursor: pointer;\n",
       "      display: none;\n",
       "      fill: #1967D2;\n",
       "      height: 32px;\n",
       "      padding: 0 0 0 0;\n",
       "      width: 32px;\n",
       "    }\n",
       "\n",
       "    .colab-df-convert:hover {\n",
       "      background-color: #E2EBFA;\n",
       "      box-shadow: 0px 1px 2px rgba(60, 64, 67, 0.3), 0px 1px 3px 1px rgba(60, 64, 67, 0.15);\n",
       "      fill: #174EA6;\n",
       "    }\n",
       "\n",
       "    [theme=dark] .colab-df-convert {\n",
       "      background-color: #3B4455;\n",
       "      fill: #D2E3FC;\n",
       "    }\n",
       "\n",
       "    [theme=dark] .colab-df-convert:hover {\n",
       "      background-color: #434B5C;\n",
       "      box-shadow: 0px 1px 3px 1px rgba(0, 0, 0, 0.15);\n",
       "      filter: drop-shadow(0px 1px 2px rgba(0, 0, 0, 0.3));\n",
       "      fill: #FFFFFF;\n",
       "    }\n",
       "  </style>\n",
       "\n",
       "      <script>\n",
       "        const buttonEl =\n",
       "          document.querySelector('#df-fa19a1e2-6737-493f-8638-60a88f90a516 button.colab-df-convert');\n",
       "        buttonEl.style.display =\n",
       "          google.colab.kernel.accessAllowed ? 'block' : 'none';\n",
       "\n",
       "        async function convertToInteractive(key) {\n",
       "          const element = document.querySelector('#df-fa19a1e2-6737-493f-8638-60a88f90a516');\n",
       "          const dataTable =\n",
       "            await google.colab.kernel.invokeFunction('convertToInteractive',\n",
       "                                                     [key], {});\n",
       "          if (!dataTable) return;\n",
       "\n",
       "          const docLinkHtml = 'Like what you see? Visit the ' +\n",
       "            '<a target=\"_blank\" href=https://colab.research.google.com/notebooks/data_table.ipynb>data table notebook</a>'\n",
       "            + ' to learn more about interactive tables.';\n",
       "          element.innerHTML = '';\n",
       "          dataTable['output_type'] = 'display_data';\n",
       "          await google.colab.output.renderOutput(dataTable, element);\n",
       "          const docLink = document.createElement('div');\n",
       "          docLink.innerHTML = docLinkHtml;\n",
       "          element.appendChild(docLink);\n",
       "        }\n",
       "      </script>\n",
       "    </div>\n",
       "  </div>\n",
       "  "
      ],
      "text/plain": [
       "     State  Account length  Area code International plan Voice mail plan  \\\n",
       "0       KS             128        415                 No             Yes   \n",
       "1       OH             107        415                 No             Yes   \n",
       "2       NJ             137        415                 No              No   \n",
       "3       OH              84        408                Yes              No   \n",
       "4       OK              75        415                Yes              No   \n",
       "...    ...             ...        ...                ...             ...   \n",
       "2661    SC              79        415                 No              No   \n",
       "2662    AZ             192        415                 No             Yes   \n",
       "2663    WV              68        415                 No              No   \n",
       "2664    RI              28        510                 No              No   \n",
       "2665    TN              74        415                 No             Yes   \n",
       "\n",
       "      Number vmail messages  Total day minutes  Total day calls  \\\n",
       "0                        25              265.1              110   \n",
       "1                        26              161.6              123   \n",
       "2                         0              243.4              114   \n",
       "3                         0              299.4               71   \n",
       "4                         0              166.7              113   \n",
       "...                     ...                ...              ...   \n",
       "2661                      0              134.7               98   \n",
       "2662                     36              156.2               77   \n",
       "2663                      0              231.1               57   \n",
       "2664                      0              180.8              109   \n",
       "2665                     25              234.4              113   \n",
       "\n",
       "      Total day charge  Total eve minutes  Total eve calls  Total eve charge  \\\n",
       "0                45.07              197.4               99             16.78   \n",
       "1                27.47              195.5              103             16.62   \n",
       "2                41.38              121.2              110             10.30   \n",
       "3                50.90               61.9               88              5.26   \n",
       "4                28.34              148.3              122             12.61   \n",
       "...                ...                ...              ...               ...   \n",
       "2661             22.90              189.7               68             16.12   \n",
       "2662             26.55              215.5              126             18.32   \n",
       "2663             39.29              153.4               55             13.04   \n",
       "2664             30.74              288.8               58             24.55   \n",
       "2665             39.85              265.9               82             22.60   \n",
       "\n",
       "      Total night minutes  Total night calls  Total night charge  \\\n",
       "0                   244.7                 91               11.01   \n",
       "1                   254.4                103               11.45   \n",
       "2                   162.6                104                7.32   \n",
       "3                   196.9                 89                8.86   \n",
       "4                   186.9                121                8.41   \n",
       "...                   ...                ...                 ...   \n",
       "2661                221.4                128                9.96   \n",
       "2662                279.1                 83               12.56   \n",
       "2663                191.3                123                8.61   \n",
       "2664                191.9                 91                8.64   \n",
       "2665                241.4                 77               10.86   \n",
       "\n",
       "      Total intl minutes  Total intl calls  Total intl charge  \\\n",
       "0                   10.0                 3               2.70   \n",
       "1                   13.7                 3               3.70   \n",
       "2                   12.2                 5               3.29   \n",
       "3                    6.6                 7               1.78   \n",
       "4                   10.1                 3               2.73   \n",
       "...                  ...               ...                ...   \n",
       "2661                11.8                 5               3.19   \n",
       "2662                 9.9                 6               2.67   \n",
       "2663                 9.6                 4               2.59   \n",
       "2664                14.1                 6               3.81   \n",
       "2665                13.7                 4               3.70   \n",
       "\n",
       "      Customer service calls  Churn  \n",
       "0                          1  False  \n",
       "1                          1  False  \n",
       "2                          0  False  \n",
       "3                          2  False  \n",
       "4                          3  False  \n",
       "...                      ...    ...  \n",
       "2661                       2  False  \n",
       "2662                       2  False  \n",
       "2663                       3  False  \n",
       "2664                       2  False  \n",
       "2665                       0  False  \n",
       "\n",
       "[2666 rows x 20 columns]"
      ]
     },
     "execution_count": 3,
     "metadata": {},
     "output_type": "execute_result"
    }
   ],
   "source": [
    "df"
   ]
  },
  {
   "cell_type": "markdown",
   "metadata": {
    "id": "G7LrXunnCQqP"
   },
   "source": [
    "## Q2: Please preprocess the dataset for the analysis?"
   ]
  },
  {
   "cell_type": "markdown",
   "metadata": {
    "cell_id": "00004-772790d9-69c3-4135-b171-a6819e58676e",
    "id": "Od3vxq4UVTRH",
    "tags": []
   },
   "source": [
    "Preprocessing"
   ]
  },
  {
   "cell_type": "code",
   "execution_count": 4,
   "metadata": {
    "cell_id": "00003-6d760188-2613-4802-b5da-228a054b7aec",
    "execution_millis": 105,
    "execution_start": 1605416435230,
    "id": "BJ5cAlV3VTRI",
    "output_cleared": false,
    "source_hash": "26b46c30",
    "tags": []
   },
   "outputs": [],
   "source": [
    "# Categorical -> dummy variables\n",
    "df=pd.concat([df,pd.get_dummies(df.State)],axis=1)\n",
    "\n",
    "# Categorical -> 0,1\n",
    "df.applymap(lambda x: 0 if x==\"No\" else (1 if x==\"Yes\" else x))\n",
    "\n",
    "# Drop the columns\n",
    "df.drop([\"State\",\"International plan\",\"Voice mail plan\"],axis=1,inplace=True)\n",
    "\n",
    "# Min-max scaling\n",
    "for col in df.columns[:16]:\n",
    "    df.loc[:,col]=(df.loc[:,col]-df.loc[:,col].min())/(df.loc[:,col].max()-df.loc[:,col].min())"
   ]
  },
  {
   "cell_type": "code",
   "execution_count": 5,
   "metadata": {
    "colab": {
     "base_uri": "https://localhost:8080/",
     "height": 485
    },
    "id": "Ymn3rPn4vSFX",
    "outputId": "c798a6f4-e2ef-4237-fcaa-08dd53320eb6"
   },
   "outputs": [
    {
     "data": {
      "text/html": [
       "\n",
       "  <div id=\"df-331bd356-7c22-4ccd-a461-69976efe3427\">\n",
       "    <div class=\"colab-df-container\">\n",
       "      <div>\n",
       "<style scoped>\n",
       "    .dataframe tbody tr th:only-of-type {\n",
       "        vertical-align: middle;\n",
       "    }\n",
       "\n",
       "    .dataframe tbody tr th {\n",
       "        vertical-align: top;\n",
       "    }\n",
       "\n",
       "    .dataframe thead th {\n",
       "        text-align: right;\n",
       "    }\n",
       "</style>\n",
       "<table border=\"1\" class=\"dataframe\">\n",
       "  <thead>\n",
       "    <tr style=\"text-align: right;\">\n",
       "      <th></th>\n",
       "      <th>Account length</th>\n",
       "      <th>Area code</th>\n",
       "      <th>Number vmail messages</th>\n",
       "      <th>Total day minutes</th>\n",
       "      <th>Total day calls</th>\n",
       "      <th>Total day charge</th>\n",
       "      <th>Total eve minutes</th>\n",
       "      <th>Total eve calls</th>\n",
       "      <th>Total eve charge</th>\n",
       "      <th>Total night minutes</th>\n",
       "      <th>...</th>\n",
       "      <th>SD</th>\n",
       "      <th>TN</th>\n",
       "      <th>TX</th>\n",
       "      <th>UT</th>\n",
       "      <th>VA</th>\n",
       "      <th>VT</th>\n",
       "      <th>WA</th>\n",
       "      <th>WI</th>\n",
       "      <th>WV</th>\n",
       "      <th>WY</th>\n",
       "    </tr>\n",
       "  </thead>\n",
       "  <tbody>\n",
       "    <tr>\n",
       "      <th>0</th>\n",
       "      <td>0.524793</td>\n",
       "      <td>0.068627</td>\n",
       "      <td>0.50</td>\n",
       "      <td>0.755701</td>\n",
       "      <td>0.68750</td>\n",
       "      <td>0.755701</td>\n",
       "      <td>0.542755</td>\n",
       "      <td>0.582353</td>\n",
       "      <td>0.542866</td>\n",
       "      <td>0.572161</td>\n",
       "      <td>...</td>\n",
       "      <td>0</td>\n",
       "      <td>0</td>\n",
       "      <td>0</td>\n",
       "      <td>0</td>\n",
       "      <td>0</td>\n",
       "      <td>0</td>\n",
       "      <td>0</td>\n",
       "      <td>0</td>\n",
       "      <td>0</td>\n",
       "      <td>0</td>\n",
       "    </tr>\n",
       "    <tr>\n",
       "      <th>1</th>\n",
       "      <td>0.438017</td>\n",
       "      <td>0.068627</td>\n",
       "      <td>0.52</td>\n",
       "      <td>0.460661</td>\n",
       "      <td>0.76875</td>\n",
       "      <td>0.460597</td>\n",
       "      <td>0.537531</td>\n",
       "      <td>0.605882</td>\n",
       "      <td>0.537690</td>\n",
       "      <td>0.599772</td>\n",
       "      <td>...</td>\n",
       "      <td>0</td>\n",
       "      <td>0</td>\n",
       "      <td>0</td>\n",
       "      <td>0</td>\n",
       "      <td>0</td>\n",
       "      <td>0</td>\n",
       "      <td>0</td>\n",
       "      <td>0</td>\n",
       "      <td>0</td>\n",
       "      <td>0</td>\n",
       "    </tr>\n",
       "    <tr>\n",
       "      <th>2</th>\n",
       "      <td>0.561983</td>\n",
       "      <td>0.068627</td>\n",
       "      <td>0.00</td>\n",
       "      <td>0.693843</td>\n",
       "      <td>0.71250</td>\n",
       "      <td>0.693830</td>\n",
       "      <td>0.333242</td>\n",
       "      <td>0.647059</td>\n",
       "      <td>0.333225</td>\n",
       "      <td>0.338457</td>\n",
       "      <td>...</td>\n",
       "      <td>0</td>\n",
       "      <td>0</td>\n",
       "      <td>0</td>\n",
       "      <td>0</td>\n",
       "      <td>0</td>\n",
       "      <td>0</td>\n",
       "      <td>0</td>\n",
       "      <td>0</td>\n",
       "      <td>0</td>\n",
       "      <td>0</td>\n",
       "    </tr>\n",
       "    <tr>\n",
       "      <th>3</th>\n",
       "      <td>0.342975</td>\n",
       "      <td>0.000000</td>\n",
       "      <td>0.00</td>\n",
       "      <td>0.853478</td>\n",
       "      <td>0.44375</td>\n",
       "      <td>0.853454</td>\n",
       "      <td>0.170195</td>\n",
       "      <td>0.517647</td>\n",
       "      <td>0.170171</td>\n",
       "      <td>0.436095</td>\n",
       "      <td>...</td>\n",
       "      <td>0</td>\n",
       "      <td>0</td>\n",
       "      <td>0</td>\n",
       "      <td>0</td>\n",
       "      <td>0</td>\n",
       "      <td>0</td>\n",
       "      <td>0</td>\n",
       "      <td>0</td>\n",
       "      <td>0</td>\n",
       "      <td>0</td>\n",
       "    </tr>\n",
       "    <tr>\n",
       "      <th>4</th>\n",
       "      <td>0.305785</td>\n",
       "      <td>0.068627</td>\n",
       "      <td>0.00</td>\n",
       "      <td>0.475200</td>\n",
       "      <td>0.70625</td>\n",
       "      <td>0.475184</td>\n",
       "      <td>0.407754</td>\n",
       "      <td>0.717647</td>\n",
       "      <td>0.407959</td>\n",
       "      <td>0.407629</td>\n",
       "      <td>...</td>\n",
       "      <td>0</td>\n",
       "      <td>0</td>\n",
       "      <td>0</td>\n",
       "      <td>0</td>\n",
       "      <td>0</td>\n",
       "      <td>0</td>\n",
       "      <td>0</td>\n",
       "      <td>0</td>\n",
       "      <td>0</td>\n",
       "      <td>0</td>\n",
       "    </tr>\n",
       "    <tr>\n",
       "      <th>...</th>\n",
       "      <td>...</td>\n",
       "      <td>...</td>\n",
       "      <td>...</td>\n",
       "      <td>...</td>\n",
       "      <td>...</td>\n",
       "      <td>...</td>\n",
       "      <td>...</td>\n",
       "      <td>...</td>\n",
       "      <td>...</td>\n",
       "      <td>...</td>\n",
       "      <td>...</td>\n",
       "      <td>...</td>\n",
       "      <td>...</td>\n",
       "      <td>...</td>\n",
       "      <td>...</td>\n",
       "      <td>...</td>\n",
       "      <td>...</td>\n",
       "      <td>...</td>\n",
       "      <td>...</td>\n",
       "      <td>...</td>\n",
       "      <td>...</td>\n",
       "    </tr>\n",
       "    <tr>\n",
       "      <th>2661</th>\n",
       "      <td>0.322314</td>\n",
       "      <td>0.068627</td>\n",
       "      <td>0.00</td>\n",
       "      <td>0.383979</td>\n",
       "      <td>0.61250</td>\n",
       "      <td>0.383970</td>\n",
       "      <td>0.521584</td>\n",
       "      <td>0.400000</td>\n",
       "      <td>0.521514</td>\n",
       "      <td>0.505835</td>\n",
       "      <td>...</td>\n",
       "      <td>0</td>\n",
       "      <td>0</td>\n",
       "      <td>0</td>\n",
       "      <td>0</td>\n",
       "      <td>0</td>\n",
       "      <td>0</td>\n",
       "      <td>0</td>\n",
       "      <td>0</td>\n",
       "      <td>0</td>\n",
       "      <td>0</td>\n",
       "    </tr>\n",
       "    <tr>\n",
       "      <th>2662</th>\n",
       "      <td>0.789256</td>\n",
       "      <td>0.068627</td>\n",
       "      <td>0.72</td>\n",
       "      <td>0.445268</td>\n",
       "      <td>0.48125</td>\n",
       "      <td>0.445171</td>\n",
       "      <td>0.592521</td>\n",
       "      <td>0.741176</td>\n",
       "      <td>0.592688</td>\n",
       "      <td>0.670083</td>\n",
       "      <td>...</td>\n",
       "      <td>0</td>\n",
       "      <td>0</td>\n",
       "      <td>0</td>\n",
       "      <td>0</td>\n",
       "      <td>0</td>\n",
       "      <td>0</td>\n",
       "      <td>0</td>\n",
       "      <td>0</td>\n",
       "      <td>0</td>\n",
       "      <td>0</td>\n",
       "    </tr>\n",
       "    <tr>\n",
       "      <th>2663</th>\n",
       "      <td>0.276860</td>\n",
       "      <td>0.068627</td>\n",
       "      <td>0.00</td>\n",
       "      <td>0.658780</td>\n",
       "      <td>0.35625</td>\n",
       "      <td>0.658786</td>\n",
       "      <td>0.421776</td>\n",
       "      <td>0.323529</td>\n",
       "      <td>0.421870</td>\n",
       "      <td>0.420154</td>\n",
       "      <td>...</td>\n",
       "      <td>0</td>\n",
       "      <td>0</td>\n",
       "      <td>0</td>\n",
       "      <td>0</td>\n",
       "      <td>0</td>\n",
       "      <td>0</td>\n",
       "      <td>0</td>\n",
       "      <td>0</td>\n",
       "      <td>1</td>\n",
       "      <td>0</td>\n",
       "    </tr>\n",
       "    <tr>\n",
       "      <th>2664</th>\n",
       "      <td>0.111570</td>\n",
       "      <td>1.000000</td>\n",
       "      <td>0.00</td>\n",
       "      <td>0.515393</td>\n",
       "      <td>0.68125</td>\n",
       "      <td>0.515426</td>\n",
       "      <td>0.794061</td>\n",
       "      <td>0.341176</td>\n",
       "      <td>0.794241</td>\n",
       "      <td>0.421862</td>\n",
       "      <td>...</td>\n",
       "      <td>0</td>\n",
       "      <td>0</td>\n",
       "      <td>0</td>\n",
       "      <td>0</td>\n",
       "      <td>0</td>\n",
       "      <td>0</td>\n",
       "      <td>0</td>\n",
       "      <td>0</td>\n",
       "      <td>0</td>\n",
       "      <td>0</td>\n",
       "    </tr>\n",
       "    <tr>\n",
       "      <th>2665</th>\n",
       "      <td>0.301653</td>\n",
       "      <td>0.068627</td>\n",
       "      <td>0.50</td>\n",
       "      <td>0.668187</td>\n",
       "      <td>0.70625</td>\n",
       "      <td>0.668176</td>\n",
       "      <td>0.731097</td>\n",
       "      <td>0.482353</td>\n",
       "      <td>0.731155</td>\n",
       "      <td>0.562767</td>\n",
       "      <td>...</td>\n",
       "      <td>0</td>\n",
       "      <td>1</td>\n",
       "      <td>0</td>\n",
       "      <td>0</td>\n",
       "      <td>0</td>\n",
       "      <td>0</td>\n",
       "      <td>0</td>\n",
       "      <td>0</td>\n",
       "      <td>0</td>\n",
       "      <td>0</td>\n",
       "    </tr>\n",
       "  </tbody>\n",
       "</table>\n",
       "<p>2666 rows × 68 columns</p>\n",
       "</div>\n",
       "      <button class=\"colab-df-convert\" onclick=\"convertToInteractive('df-331bd356-7c22-4ccd-a461-69976efe3427')\"\n",
       "              title=\"Convert this dataframe to an interactive table.\"\n",
       "              style=\"display:none;\">\n",
       "        \n",
       "  <svg xmlns=\"http://www.w3.org/2000/svg\" height=\"24px\"viewBox=\"0 0 24 24\"\n",
       "       width=\"24px\">\n",
       "    <path d=\"M0 0h24v24H0V0z\" fill=\"none\"/>\n",
       "    <path d=\"M18.56 5.44l.94 2.06.94-2.06 2.06-.94-2.06-.94-.94-2.06-.94 2.06-2.06.94zm-11 1L8.5 8.5l.94-2.06 2.06-.94-2.06-.94L8.5 2.5l-.94 2.06-2.06.94zm10 10l.94 2.06.94-2.06 2.06-.94-2.06-.94-.94-2.06-.94 2.06-2.06.94z\"/><path d=\"M17.41 7.96l-1.37-1.37c-.4-.4-.92-.59-1.43-.59-.52 0-1.04.2-1.43.59L10.3 9.45l-7.72 7.72c-.78.78-.78 2.05 0 2.83L4 21.41c.39.39.9.59 1.41.59.51 0 1.02-.2 1.41-.59l7.78-7.78 2.81-2.81c.8-.78.8-2.07 0-2.86zM5.41 20L4 18.59l7.72-7.72 1.47 1.35L5.41 20z\"/>\n",
       "  </svg>\n",
       "      </button>\n",
       "      \n",
       "  <style>\n",
       "    .colab-df-container {\n",
       "      display:flex;\n",
       "      flex-wrap:wrap;\n",
       "      gap: 12px;\n",
       "    }\n",
       "\n",
       "    .colab-df-convert {\n",
       "      background-color: #E8F0FE;\n",
       "      border: none;\n",
       "      border-radius: 50%;\n",
       "      cursor: pointer;\n",
       "      display: none;\n",
       "      fill: #1967D2;\n",
       "      height: 32px;\n",
       "      padding: 0 0 0 0;\n",
       "      width: 32px;\n",
       "    }\n",
       "\n",
       "    .colab-df-convert:hover {\n",
       "      background-color: #E2EBFA;\n",
       "      box-shadow: 0px 1px 2px rgba(60, 64, 67, 0.3), 0px 1px 3px 1px rgba(60, 64, 67, 0.15);\n",
       "      fill: #174EA6;\n",
       "    }\n",
       "\n",
       "    [theme=dark] .colab-df-convert {\n",
       "      background-color: #3B4455;\n",
       "      fill: #D2E3FC;\n",
       "    }\n",
       "\n",
       "    [theme=dark] .colab-df-convert:hover {\n",
       "      background-color: #434B5C;\n",
       "      box-shadow: 0px 1px 3px 1px rgba(0, 0, 0, 0.15);\n",
       "      filter: drop-shadow(0px 1px 2px rgba(0, 0, 0, 0.3));\n",
       "      fill: #FFFFFF;\n",
       "    }\n",
       "  </style>\n",
       "\n",
       "      <script>\n",
       "        const buttonEl =\n",
       "          document.querySelector('#df-331bd356-7c22-4ccd-a461-69976efe3427 button.colab-df-convert');\n",
       "        buttonEl.style.display =\n",
       "          google.colab.kernel.accessAllowed ? 'block' : 'none';\n",
       "\n",
       "        async function convertToInteractive(key) {\n",
       "          const element = document.querySelector('#df-331bd356-7c22-4ccd-a461-69976efe3427');\n",
       "          const dataTable =\n",
       "            await google.colab.kernel.invokeFunction('convertToInteractive',\n",
       "                                                     [key], {});\n",
       "          if (!dataTable) return;\n",
       "\n",
       "          const docLinkHtml = 'Like what you see? Visit the ' +\n",
       "            '<a target=\"_blank\" href=https://colab.research.google.com/notebooks/data_table.ipynb>data table notebook</a>'\n",
       "            + ' to learn more about interactive tables.';\n",
       "          element.innerHTML = '';\n",
       "          dataTable['output_type'] = 'display_data';\n",
       "          await google.colab.output.renderOutput(dataTable, element);\n",
       "          const docLink = document.createElement('div');\n",
       "          docLink.innerHTML = docLinkHtml;\n",
       "          element.appendChild(docLink);\n",
       "        }\n",
       "      </script>\n",
       "    </div>\n",
       "  </div>\n",
       "  "
      ],
      "text/plain": [
       "      Account length  Area code  Number vmail messages  Total day minutes  \\\n",
       "0           0.524793   0.068627                   0.50           0.755701   \n",
       "1           0.438017   0.068627                   0.52           0.460661   \n",
       "2           0.561983   0.068627                   0.00           0.693843   \n",
       "3           0.342975   0.000000                   0.00           0.853478   \n",
       "4           0.305785   0.068627                   0.00           0.475200   \n",
       "...              ...        ...                    ...                ...   \n",
       "2661        0.322314   0.068627                   0.00           0.383979   \n",
       "2662        0.789256   0.068627                   0.72           0.445268   \n",
       "2663        0.276860   0.068627                   0.00           0.658780   \n",
       "2664        0.111570   1.000000                   0.00           0.515393   \n",
       "2665        0.301653   0.068627                   0.50           0.668187   \n",
       "\n",
       "      Total day calls  Total day charge  Total eve minutes  Total eve calls  \\\n",
       "0             0.68750          0.755701           0.542755         0.582353   \n",
       "1             0.76875          0.460597           0.537531         0.605882   \n",
       "2             0.71250          0.693830           0.333242         0.647059   \n",
       "3             0.44375          0.853454           0.170195         0.517647   \n",
       "4             0.70625          0.475184           0.407754         0.717647   \n",
       "...               ...               ...                ...              ...   \n",
       "2661          0.61250          0.383970           0.521584         0.400000   \n",
       "2662          0.48125          0.445171           0.592521         0.741176   \n",
       "2663          0.35625          0.658786           0.421776         0.323529   \n",
       "2664          0.68125          0.515426           0.794061         0.341176   \n",
       "2665          0.70625          0.668176           0.731097         0.482353   \n",
       "\n",
       "      Total eve charge  Total night minutes  ...  SD  TN  TX  UT  VA  VT  WA  \\\n",
       "0             0.542866             0.572161  ...   0   0   0   0   0   0   0   \n",
       "1             0.537690             0.599772  ...   0   0   0   0   0   0   0   \n",
       "2             0.333225             0.338457  ...   0   0   0   0   0   0   0   \n",
       "3             0.170171             0.436095  ...   0   0   0   0   0   0   0   \n",
       "4             0.407959             0.407629  ...   0   0   0   0   0   0   0   \n",
       "...                ...                  ...  ...  ..  ..  ..  ..  ..  ..  ..   \n",
       "2661          0.521514             0.505835  ...   0   0   0   0   0   0   0   \n",
       "2662          0.592688             0.670083  ...   0   0   0   0   0   0   0   \n",
       "2663          0.421870             0.420154  ...   0   0   0   0   0   0   0   \n",
       "2664          0.794241             0.421862  ...   0   0   0   0   0   0   0   \n",
       "2665          0.731155             0.562767  ...   0   1   0   0   0   0   0   \n",
       "\n",
       "      WI  WV  WY  \n",
       "0      0   0   0  \n",
       "1      0   0   0  \n",
       "2      0   0   0  \n",
       "3      0   0   0  \n",
       "4      0   0   0  \n",
       "...   ..  ..  ..  \n",
       "2661   0   0   0  \n",
       "2662   0   0   0  \n",
       "2663   0   1   0  \n",
       "2664   0   0   0  \n",
       "2665   0   0   0  \n",
       "\n",
       "[2666 rows x 68 columns]"
      ]
     },
     "execution_count": 5,
     "metadata": {},
     "output_type": "execute_result"
    }
   ],
   "source": [
    "df\n"
   ]
  },
  {
   "cell_type": "markdown",
   "metadata": {
    "cell_id": "00006-2bceecaf-89a8-40d3-9df9-02ffc1b90cdf",
    "id": "SW7i9_AKVTRP",
    "tags": []
   },
   "source": [
    "Train-Validation-Test-Split"
   ]
  },
  {
   "cell_type": "code",
   "execution_count": 6,
   "metadata": {
    "cell_id": "00004-df38ae87-3117-4ba6-a0c2-4379201aba22",
    "colab": {
     "base_uri": "https://localhost:8080/"
    },
    "execution_millis": 438,
    "execution_start": 1605416438753,
    "id": "PvXq2713VTRQ",
    "outputId": "34594859-7f09-415b-bd66-434b4fd0a62e",
    "output_cleared": false,
    "source_hash": "65cadc16",
    "tags": []
   },
   "outputs": [
    {
     "name": "stdout",
     "output_type": "stream",
     "text": [
      "(2132, 68) (267, 68) (267, 68)\n"
     ]
    }
   ],
   "source": [
    "from sklearn.model_selection import train_test_split\n",
    "\n",
    "# Train-test-validation split\n",
    "train,_=train_test_split(df,test_size=0.2,stratify=df[\"Churn\"])\n",
    "validation,test=train_test_split(_,test_size=0.5)\n",
    "print(train.shape,validation.shape,test.shape)\n",
    "#2132->train 267->validation 267->test\n",
    "#?68?16\n",
    "#"
   ]
  },
  {
   "cell_type": "markdown",
   "metadata": {
    "id": "bxd_qx9gCclz"
   },
   "source": [
    "## Q3: Please design your model **without using regularization** and explain why the results like this?"
   ]
  },
  {
   "cell_type": "markdown",
   "metadata": {
    "cell_id": "00008-92ff768a-599d-4646-8acd-81937bc3cdd9",
    "id": "4vhy-u0iVTRU",
    "tags": []
   },
   "source": [
    "### Please design your model without regularization. "
   ]
  },
  {
   "cell_type": "code",
   "execution_count": null,
   "metadata": {
    "id": "y3bJRdY0apbz"
   },
   "outputs": [],
   "source": [
    "!pip install keras_visualizer"
   ]
  },
  {
   "cell_type": "code",
   "execution_count": 30,
   "metadata": {
    "colab": {
     "base_uri": "https://localhost:8080/"
    },
    "id": "B3yR-HxMEp45",
    "outputId": "a0e7cc02-e3e4-4d23-acbd-4a74dc366870"
   },
   "outputs": [
    {
     "name": "stdout",
     "output_type": "stream",
     "text": [
      "Epoch 1/100\n",
      "134/134 [==============================] - 2s 6ms/step - loss: 0.4270 - accuracy: 0.8546 - val_loss: 0.3575 - val_accuracy: 0.8876\n",
      "Epoch 2/100\n",
      "134/134 [==============================] - 1s 5ms/step - loss: 0.4124 - accuracy: 0.8546 - val_loss: 0.3600 - val_accuracy: 0.8876\n",
      "Epoch 3/100\n",
      "134/134 [==============================] - 1s 5ms/step - loss: 0.3967 - accuracy: 0.8546 - val_loss: 0.3527 - val_accuracy: 0.8876\n",
      "Epoch 4/100\n",
      "134/134 [==============================] - 1s 5ms/step - loss: 0.3778 - accuracy: 0.8546 - val_loss: 0.3694 - val_accuracy: 0.8876\n",
      "Epoch 5/100\n",
      "134/134 [==============================] - 1s 5ms/step - loss: 0.3666 - accuracy: 0.8546 - val_loss: 0.3603 - val_accuracy: 0.8876\n",
      "Epoch 6/100\n",
      "134/134 [==============================] - 1s 5ms/step - loss: 0.3593 - accuracy: 0.8574 - val_loss: 0.3445 - val_accuracy: 0.8839\n",
      "Epoch 7/100\n",
      "134/134 [==============================] - 1s 5ms/step - loss: 0.3543 - accuracy: 0.8593 - val_loss: 0.3741 - val_accuracy: 0.8614\n",
      "Epoch 8/100\n",
      "134/134 [==============================] - 1s 5ms/step - loss: 0.3516 - accuracy: 0.8635 - val_loss: 0.3510 - val_accuracy: 0.8801\n",
      "Epoch 9/100\n",
      "134/134 [==============================] - 1s 5ms/step - loss: 0.3472 - accuracy: 0.8659 - val_loss: 0.3397 - val_accuracy: 0.8801\n",
      "Epoch 10/100\n",
      "134/134 [==============================] - 1s 5ms/step - loss: 0.3451 - accuracy: 0.8663 - val_loss: 0.3450 - val_accuracy: 0.8801\n",
      "Epoch 11/100\n",
      "134/134 [==============================] - 1s 5ms/step - loss: 0.3403 - accuracy: 0.8640 - val_loss: 0.3582 - val_accuracy: 0.8614\n",
      "Epoch 12/100\n",
      "134/134 [==============================] - 1s 5ms/step - loss: 0.3383 - accuracy: 0.8691 - val_loss: 0.3448 - val_accuracy: 0.8727\n",
      "Epoch 13/100\n",
      "134/134 [==============================] - 1s 5ms/step - loss: 0.3333 - accuracy: 0.8691 - val_loss: 0.3511 - val_accuracy: 0.8689\n",
      "Epoch 14/100\n",
      "134/134 [==============================] - 1s 5ms/step - loss: 0.3306 - accuracy: 0.8701 - val_loss: 0.3413 - val_accuracy: 0.8801\n",
      "Epoch 15/100\n",
      "134/134 [==============================] - 1s 5ms/step - loss: 0.3294 - accuracy: 0.8762 - val_loss: 0.3444 - val_accuracy: 0.8801\n",
      "Epoch 16/100\n",
      "134/134 [==============================] - 1s 5ms/step - loss: 0.3230 - accuracy: 0.8795 - val_loss: 0.4036 - val_accuracy: 0.8165\n",
      "Epoch 17/100\n",
      "134/134 [==============================] - 1s 5ms/step - loss: 0.3201 - accuracy: 0.8720 - val_loss: 0.3404 - val_accuracy: 0.8764\n",
      "Epoch 18/100\n",
      "134/134 [==============================] - 1s 5ms/step - loss: 0.3128 - accuracy: 0.8780 - val_loss: 0.3426 - val_accuracy: 0.8764\n",
      "Epoch 19/100\n",
      "134/134 [==============================] - 1s 5ms/step - loss: 0.3111 - accuracy: 0.8823 - val_loss: 0.3482 - val_accuracy: 0.8764\n",
      "Epoch 20/100\n",
      "134/134 [==============================] - 1s 5ms/step - loss: 0.3046 - accuracy: 0.8841 - val_loss: 0.3398 - val_accuracy: 0.8801\n",
      "Epoch 21/100\n",
      "134/134 [==============================] - 1s 5ms/step - loss: 0.3029 - accuracy: 0.8856 - val_loss: 0.3374 - val_accuracy: 0.8801\n",
      "Epoch 22/100\n",
      "134/134 [==============================] - 1s 5ms/step - loss: 0.2957 - accuracy: 0.8884 - val_loss: 0.3369 - val_accuracy: 0.8801\n",
      "Epoch 23/100\n",
      "134/134 [==============================] - 1s 5ms/step - loss: 0.2875 - accuracy: 0.8968 - val_loss: 0.3352 - val_accuracy: 0.8727\n",
      "Epoch 24/100\n",
      "134/134 [==============================] - 1s 5ms/step - loss: 0.2836 - accuracy: 0.8987 - val_loss: 0.4238 - val_accuracy: 0.8052\n",
      "Epoch 25/100\n",
      "134/134 [==============================] - 1s 5ms/step - loss: 0.2768 - accuracy: 0.9034 - val_loss: 0.3419 - val_accuracy: 0.8727\n",
      "Epoch 26/100\n",
      "134/134 [==============================] - 1s 5ms/step - loss: 0.2713 - accuracy: 0.9020 - val_loss: 0.3799 - val_accuracy: 0.8427\n",
      "Epoch 27/100\n",
      "134/134 [==============================] - 1s 5ms/step - loss: 0.2648 - accuracy: 0.9076 - val_loss: 0.3317 - val_accuracy: 0.8839\n",
      "Epoch 28/100\n",
      "134/134 [==============================] - 1s 5ms/step - loss: 0.2573 - accuracy: 0.9104 - val_loss: 0.3419 - val_accuracy: 0.8727\n",
      "Epoch 29/100\n",
      "134/134 [==============================] - 1s 5ms/step - loss: 0.2527 - accuracy: 0.9081 - val_loss: 0.3620 - val_accuracy: 0.8614\n",
      "Epoch 30/100\n",
      "134/134 [==============================] - 1s 5ms/step - loss: 0.2460 - accuracy: 0.9156 - val_loss: 0.3328 - val_accuracy: 0.8801\n",
      "Epoch 31/100\n",
      "134/134 [==============================] - 1s 5ms/step - loss: 0.2402 - accuracy: 0.9240 - val_loss: 0.3898 - val_accuracy: 0.8352\n",
      "Epoch 32/100\n",
      "134/134 [==============================] - 1s 5ms/step - loss: 0.2365 - accuracy: 0.9212 - val_loss: 0.3775 - val_accuracy: 0.8539\n",
      "Epoch 33/100\n",
      "134/134 [==============================] - 1s 5ms/step - loss: 0.2363 - accuracy: 0.9170 - val_loss: 0.3962 - val_accuracy: 0.8464\n",
      "Epoch 34/100\n",
      "134/134 [==============================] - 1s 5ms/step - loss: 0.2270 - accuracy: 0.9278 - val_loss: 0.3728 - val_accuracy: 0.8614\n",
      "Epoch 35/100\n",
      "134/134 [==============================] - 1s 5ms/step - loss: 0.2249 - accuracy: 0.9235 - val_loss: 0.3517 - val_accuracy: 0.8764\n",
      "Epoch 36/100\n",
      "134/134 [==============================] - 1s 5ms/step - loss: 0.2180 - accuracy: 0.9296 - val_loss: 0.3172 - val_accuracy: 0.9101\n",
      "Epoch 37/100\n",
      "134/134 [==============================] - 1s 5ms/step - loss: 0.2170 - accuracy: 0.9287 - val_loss: 0.3221 - val_accuracy: 0.8989\n",
      "Epoch 38/100\n",
      "134/134 [==============================] - 1s 5ms/step - loss: 0.2071 - accuracy: 0.9357 - val_loss: 0.3210 - val_accuracy: 0.8989\n",
      "Epoch 39/100\n",
      "134/134 [==============================] - 1s 5ms/step - loss: 0.2036 - accuracy: 0.9348 - val_loss: 0.3492 - val_accuracy: 0.8689\n",
      "Epoch 40/100\n",
      "134/134 [==============================] - 1s 5ms/step - loss: 0.1997 - accuracy: 0.9386 - val_loss: 0.3964 - val_accuracy: 0.8577\n",
      "Epoch 41/100\n",
      "134/134 [==============================] - 1s 5ms/step - loss: 0.1962 - accuracy: 0.9386 - val_loss: 0.3474 - val_accuracy: 0.8727\n",
      "Epoch 42/100\n",
      "134/134 [==============================] - 1s 5ms/step - loss: 0.1896 - accuracy: 0.9414 - val_loss: 0.3293 - val_accuracy: 0.9026\n",
      "Epoch 43/100\n",
      "134/134 [==============================] - 1s 5ms/step - loss: 0.1869 - accuracy: 0.9447 - val_loss: 0.3658 - val_accuracy: 0.8764\n",
      "Epoch 44/100\n",
      "134/134 [==============================] - 1s 5ms/step - loss: 0.1851 - accuracy: 0.9432 - val_loss: 0.3464 - val_accuracy: 0.8839\n",
      "Epoch 45/100\n",
      "134/134 [==============================] - 1s 5ms/step - loss: 0.1821 - accuracy: 0.9456 - val_loss: 0.3513 - val_accuracy: 0.8876\n",
      "Epoch 46/100\n",
      "134/134 [==============================] - 1s 5ms/step - loss: 0.1750 - accuracy: 0.9442 - val_loss: 0.3962 - val_accuracy: 0.8689\n",
      "Epoch 47/100\n",
      "134/134 [==============================] - 1s 5ms/step - loss: 0.1705 - accuracy: 0.9531 - val_loss: 0.6878 - val_accuracy: 0.7603\n",
      "Epoch 48/100\n",
      "134/134 [==============================] - 1s 5ms/step - loss: 0.1705 - accuracy: 0.9503 - val_loss: 0.3574 - val_accuracy: 0.8914\n",
      "Epoch 49/100\n",
      "134/134 [==============================] - 1s 5ms/step - loss: 0.1689 - accuracy: 0.9508 - val_loss: 0.3293 - val_accuracy: 0.9064\n",
      "Epoch 50/100\n",
      "134/134 [==============================] - 1s 5ms/step - loss: 0.1664 - accuracy: 0.9508 - val_loss: 0.3337 - val_accuracy: 0.8839\n",
      "Epoch 51/100\n",
      "134/134 [==============================] - 1s 5ms/step - loss: 0.1616 - accuracy: 0.9531 - val_loss: 0.3622 - val_accuracy: 0.8801\n",
      "Epoch 52/100\n",
      "134/134 [==============================] - 1s 5ms/step - loss: 0.1609 - accuracy: 0.9559 - val_loss: 0.5608 - val_accuracy: 0.8015\n",
      "Epoch 53/100\n",
      "134/134 [==============================] - 1s 5ms/step - loss: 0.1556 - accuracy: 0.9578 - val_loss: 0.3523 - val_accuracy: 0.8951\n",
      "Epoch 54/100\n",
      "134/134 [==============================] - 1s 5ms/step - loss: 0.1600 - accuracy: 0.9550 - val_loss: 0.3671 - val_accuracy: 0.8914\n",
      "Epoch 55/100\n",
      "134/134 [==============================] - 1s 5ms/step - loss: 0.1574 - accuracy: 0.9559 - val_loss: 0.3332 - val_accuracy: 0.9026\n",
      "Epoch 56/100\n",
      "134/134 [==============================] - 1s 5ms/step - loss: 0.1500 - accuracy: 0.9587 - val_loss: 0.3968 - val_accuracy: 0.8839\n",
      "Epoch 57/100\n",
      "134/134 [==============================] - 1s 5ms/step - loss: 0.1519 - accuracy: 0.9578 - val_loss: 0.3657 - val_accuracy: 0.8876\n",
      "Epoch 58/100\n",
      "134/134 [==============================] - 1s 5ms/step - loss: 0.1503 - accuracy: 0.9597 - val_loss: 0.3470 - val_accuracy: 0.9026\n",
      "Epoch 59/100\n",
      "134/134 [==============================] - 1s 5ms/step - loss: 0.1481 - accuracy: 0.9606 - val_loss: 0.3437 - val_accuracy: 0.9064\n",
      "Epoch 60/100\n",
      "134/134 [==============================] - 1s 5ms/step - loss: 0.1509 - accuracy: 0.9573 - val_loss: 0.3559 - val_accuracy: 0.9026\n",
      "Epoch 61/100\n",
      "134/134 [==============================] - 1s 5ms/step - loss: 0.1435 - accuracy: 0.9601 - val_loss: 0.3647 - val_accuracy: 0.8914\n",
      "Epoch 62/100\n",
      "134/134 [==============================] - 1s 5ms/step - loss: 0.1421 - accuracy: 0.9634 - val_loss: 0.3599 - val_accuracy: 0.9026\n",
      "Epoch 63/100\n",
      "134/134 [==============================] - 1s 5ms/step - loss: 0.1460 - accuracy: 0.9611 - val_loss: 0.3679 - val_accuracy: 0.8951\n",
      "Epoch 64/100\n",
      "134/134 [==============================] - 1s 5ms/step - loss: 0.1414 - accuracy: 0.9625 - val_loss: 0.3621 - val_accuracy: 0.9064\n",
      "Epoch 65/100\n",
      "134/134 [==============================] - 1s 5ms/step - loss: 0.1350 - accuracy: 0.9634 - val_loss: 0.3686 - val_accuracy: 0.8914\n",
      "Epoch 66/100\n",
      "134/134 [==============================] - 1s 5ms/step - loss: 0.1327 - accuracy: 0.9648 - val_loss: 0.4179 - val_accuracy: 0.8764\n",
      "Epoch 67/100\n",
      "134/134 [==============================] - 1s 5ms/step - loss: 0.1364 - accuracy: 0.9629 - val_loss: 0.5033 - val_accuracy: 0.8502\n",
      "Epoch 68/100\n",
      "134/134 [==============================] - 1s 5ms/step - loss: 0.1336 - accuracy: 0.9629 - val_loss: 0.3567 - val_accuracy: 0.9064\n",
      "Epoch 69/100\n",
      "134/134 [==============================] - 1s 5ms/step - loss: 0.1311 - accuracy: 0.9644 - val_loss: 0.3712 - val_accuracy: 0.9026\n",
      "Epoch 70/100\n",
      "134/134 [==============================] - 1s 5ms/step - loss: 0.1275 - accuracy: 0.9644 - val_loss: 0.3731 - val_accuracy: 0.9026\n",
      "Epoch 71/100\n",
      "134/134 [==============================] - 1s 5ms/step - loss: 0.1327 - accuracy: 0.9653 - val_loss: 0.3983 - val_accuracy: 0.8951\n",
      "Epoch 72/100\n",
      "134/134 [==============================] - 1s 5ms/step - loss: 0.1273 - accuracy: 0.9634 - val_loss: 0.4576 - val_accuracy: 0.8727\n",
      "Epoch 73/100\n",
      "134/134 [==============================] - 1s 5ms/step - loss: 0.1271 - accuracy: 0.9662 - val_loss: 0.3607 - val_accuracy: 0.9064\n",
      "Epoch 74/100\n",
      "134/134 [==============================] - 1s 5ms/step - loss: 0.1235 - accuracy: 0.9658 - val_loss: 0.4462 - val_accuracy: 0.8727\n",
      "Epoch 75/100\n",
      "134/134 [==============================] - 1s 5ms/step - loss: 0.1150 - accuracy: 0.9695 - val_loss: 0.3928 - val_accuracy: 0.8914\n",
      "Epoch 76/100\n",
      "134/134 [==============================] - 1s 5ms/step - loss: 0.1132 - accuracy: 0.9705 - val_loss: 0.3823 - val_accuracy: 0.8989\n",
      "Epoch 77/100\n",
      "134/134 [==============================] - 1s 5ms/step - loss: 0.1138 - accuracy: 0.9705 - val_loss: 0.3650 - val_accuracy: 0.9101\n",
      "Epoch 78/100\n",
      "134/134 [==============================] - 1s 5ms/step - loss: 0.1224 - accuracy: 0.9662 - val_loss: 0.5066 - val_accuracy: 0.8577\n",
      "Epoch 79/100\n",
      "134/134 [==============================] - 1s 5ms/step - loss: 0.1086 - accuracy: 0.9728 - val_loss: 0.5997 - val_accuracy: 0.8352\n",
      "Epoch 80/100\n",
      "134/134 [==============================] - 1s 5ms/step - loss: 0.1136 - accuracy: 0.9676 - val_loss: 0.4290 - val_accuracy: 0.8764\n",
      "Epoch 81/100\n",
      "134/134 [==============================] - 1s 5ms/step - loss: 0.1120 - accuracy: 0.9695 - val_loss: 0.4345 - val_accuracy: 0.8764\n",
      "Epoch 82/100\n",
      "134/134 [==============================] - 1s 5ms/step - loss: 0.1070 - accuracy: 0.9742 - val_loss: 0.4002 - val_accuracy: 0.8876\n",
      "Epoch 83/100\n",
      "134/134 [==============================] - 1s 5ms/step - loss: 0.1045 - accuracy: 0.9742 - val_loss: 0.4239 - val_accuracy: 0.8989\n",
      "Epoch 84/100\n",
      "134/134 [==============================] - 1s 5ms/step - loss: 0.1032 - accuracy: 0.9733 - val_loss: 0.6493 - val_accuracy: 0.8277\n",
      "Epoch 85/100\n",
      "134/134 [==============================] - 1s 5ms/step - loss: 0.1017 - accuracy: 0.9719 - val_loss: 0.5143 - val_accuracy: 0.8539\n",
      "Epoch 86/100\n",
      "134/134 [==============================] - 1s 5ms/step - loss: 0.1016 - accuracy: 0.9723 - val_loss: 0.5371 - val_accuracy: 0.8539\n",
      "Epoch 87/100\n",
      "134/134 [==============================] - 1s 5ms/step - loss: 0.1029 - accuracy: 0.9709 - val_loss: 0.4595 - val_accuracy: 0.8727\n",
      "Epoch 88/100\n",
      "134/134 [==============================] - 1s 5ms/step - loss: 0.1013 - accuracy: 0.9728 - val_loss: 0.4476 - val_accuracy: 0.8764\n",
      "Epoch 89/100\n",
      "134/134 [==============================] - 1s 5ms/step - loss: 0.0995 - accuracy: 0.9733 - val_loss: 0.4443 - val_accuracy: 0.8876\n",
      "Epoch 90/100\n",
      "134/134 [==============================] - 1s 5ms/step - loss: 0.1033 - accuracy: 0.9705 - val_loss: 0.4989 - val_accuracy: 0.8652\n",
      "Epoch 91/100\n",
      "134/134 [==============================] - 1s 5ms/step - loss: 0.0949 - accuracy: 0.9747 - val_loss: 0.4371 - val_accuracy: 0.8914\n",
      "Epoch 92/100\n",
      "134/134 [==============================] - 1s 5ms/step - loss: 0.0976 - accuracy: 0.9723 - val_loss: 0.5473 - val_accuracy: 0.8539\n",
      "Epoch 93/100\n",
      "134/134 [==============================] - 1s 5ms/step - loss: 0.0960 - accuracy: 0.9751 - val_loss: 0.6797 - val_accuracy: 0.8240\n",
      "Epoch 94/100\n",
      "134/134 [==============================] - 1s 5ms/step - loss: 0.0937 - accuracy: 0.9742 - val_loss: 0.6400 - val_accuracy: 0.8315\n",
      "Epoch 95/100\n",
      "134/134 [==============================] - 1s 5ms/step - loss: 0.0931 - accuracy: 0.9756 - val_loss: 0.5913 - val_accuracy: 0.8502\n",
      "Epoch 96/100\n",
      "134/134 [==============================] - 1s 5ms/step - loss: 0.0934 - accuracy: 0.9756 - val_loss: 0.5593 - val_accuracy: 0.8614\n",
      "Epoch 97/100\n",
      "134/134 [==============================] - 1s 5ms/step - loss: 0.0900 - accuracy: 0.9756 - val_loss: 0.5596 - val_accuracy: 0.8614\n",
      "Epoch 98/100\n",
      "134/134 [==============================] - 1s 5ms/step - loss: 0.0937 - accuracy: 0.9733 - val_loss: 0.5483 - val_accuracy: 0.8464\n",
      "Epoch 99/100\n",
      "134/134 [==============================] - 1s 5ms/step - loss: 0.0874 - accuracy: 0.9751 - val_loss: 0.5580 - val_accuracy: 0.8764\n",
      "Epoch 100/100\n",
      "134/134 [==============================] - 1s 5ms/step - loss: 0.0877 - accuracy: 0.9747 - val_loss: 0.4796 - val_accuracy: 0.8764\n"
     ]
    }
   ],
   "source": [
    "from keras.models import Sequential #\n",
    "from keras.layers import Dense, Dropout #\n",
    "from keras.regularizers import l2 #\n",
    "from tensorflow.keras.optimizers import SGD, RMSprop, Adam #\n",
    "from keras_visualizer import visualizer #\n",
    "\n",
    "model=Sequential()\n",
    "model.add(Dense(128,input_shape=(df.shape[1]-1,), activation='relu')) #67\n",
    "model.add(Dense(32, activation='relu'))\n",
    "model.add(Dense(32, activation='relu'))\n",
    "model.add(Dense(8, activation='sigmoid')) #get the value between 0-1\n",
    "model.add(Dense(1,activation=\"sigmoid\"))\n",
    "visualizer(model, filename='graph01', format='png', view=True)\n",
    "\n",
    "\n",
    "# Used rmsprop optimizer, binary_crossentropy loss\n",
    "# you can use adam and SGD instead of rmsprop as well\n",
    "model.compile(optimizer='rmsprop', loss='binary_crossentropy', metrics=['accuracy'])\n",
    "history = model.fit(train.drop(\"Churn\",axis=1),train[\"Churn\"],\n",
    "                    validation_data=(validation.drop(\"Churn\",axis=1),validation[\"Churn\"]),\n",
    "          batch_size=16, epochs=100)\n",
    "#The batch size is a hyperparameter that defines the number of samples to work through before updating the internal \n",
    "#model parameters. The network will update once a batch is finished.\n",
    "#The number of epochs is a hyperparameter that defines the number times that the learning algorithm will work \n",
    "#through the entire training dataset."
   ]
  },
  {
   "cell_type": "code",
   "execution_count": 31,
   "metadata": {
    "colab": {
     "base_uri": "https://localhost:8080/",
     "height": 283
    },
    "id": "LHQyDxtygwak",
    "outputId": "31d9abac-8b08-48a2-ba7c-c19c22bbf602"
   },
   "outputs": [
    {
     "data": {
      "text/plain": [
       "<function matplotlib.pyplot.imshow>"
      ]
     },
     "execution_count": 31,
     "metadata": {},
     "output_type": "execute_result"
    },
    {
     "data": {
      "image/png": "[encoded data removed]",
      "text/plain": [
       "<Figure size 432x288 with 1 Axes>"
      ]
     },
     "metadata": {
      "needs_background": "light"
     },
     "output_type": "display_data"
    }
   ],
   "source": [
    "import matplotlib.pyplot as plt\n",
    "# Plot loss, val_loss\n",
    "plt.plot(history.history[\"loss\"])\n",
    "plt.plot(history.history[\"val_loss\"])\n",
    "plt.imshow\n",
    "\n",
    "# blue is test loss orange is validation loss\n",
    "# The gap between two line show overfitted problem"
   ]
  },
  {
   "cell_type": "code",
   "execution_count": 32,
   "metadata": {
    "colab": {
     "base_uri": "https://localhost:8080/"
    },
    "id": "IKm7w8vqp2X9",
    "outputId": "310ba74f-399b-4505-8e67-d6939192a37b"
   },
   "outputs": [
    {
     "name": "stdout",
     "output_type": "stream",
     "text": [
      "Epoch 1/100\n",
      "34/34 [==============================] - 1s 12ms/step - loss: 0.4770 - accuracy: 0.8546 - val_loss: 0.3902 - val_accuracy: 0.8876\n",
      "Epoch 2/100\n",
      "34/34 [==============================] - 0s 6ms/step - loss: 0.4226 - accuracy: 0.8546 - val_loss: 0.3634 - val_accuracy: 0.8876\n",
      "Epoch 3/100\n",
      "34/34 [==============================] - 0s 6ms/step - loss: 0.4156 - accuracy: 0.8546 - val_loss: 0.3574 - val_accuracy: 0.8876\n",
      "Epoch 4/100\n",
      "34/34 [==============================] - 0s 5ms/step - loss: 0.4149 - accuracy: 0.8546 - val_loss: 0.3569 - val_accuracy: 0.8876\n",
      "Epoch 5/100\n",
      "34/34 [==============================] - 0s 6ms/step - loss: 0.4151 - accuracy: 0.8546 - val_loss: 0.3558 - val_accuracy: 0.8876\n",
      "Epoch 6/100\n",
      "34/34 [==============================] - 0s 6ms/step - loss: 0.4149 - accuracy: 0.8546 - val_loss: 0.3563 - val_accuracy: 0.8876\n",
      "Epoch 7/100\n",
      "34/34 [==============================] - 0s 5ms/step - loss: 0.4150 - accuracy: 0.8546 - val_loss: 0.3555 - val_accuracy: 0.8876\n",
      "Epoch 8/100\n",
      "34/34 [==============================] - 0s 6ms/step - loss: 0.4146 - accuracy: 0.8546 - val_loss: 0.3548 - val_accuracy: 0.8876\n",
      "Epoch 9/100\n",
      "34/34 [==============================] - 0s 5ms/step - loss: 0.4147 - accuracy: 0.8546 - val_loss: 0.3539 - val_accuracy: 0.8876\n",
      "Epoch 10/100\n",
      "34/34 [==============================] - 0s 6ms/step - loss: 0.4145 - accuracy: 0.8546 - val_loss: 0.3557 - val_accuracy: 0.8876\n",
      "Epoch 11/100\n",
      "34/34 [==============================] - 0s 6ms/step - loss: 0.4142 - accuracy: 0.8546 - val_loss: 0.3555 - val_accuracy: 0.8876\n",
      "Epoch 12/100\n",
      "34/34 [==============================] - 0s 5ms/step - loss: 0.4136 - accuracy: 0.8546 - val_loss: 0.3549 - val_accuracy: 0.8876\n",
      "Epoch 13/100\n",
      "34/34 [==============================] - 0s 6ms/step - loss: 0.4127 - accuracy: 0.8546 - val_loss: 0.3562 - val_accuracy: 0.8876\n",
      "Epoch 14/100\n",
      "34/34 [==============================] - 0s 6ms/step - loss: 0.4103 - accuracy: 0.8546 - val_loss: 0.3560 - val_accuracy: 0.8876\n",
      "Epoch 15/100\n",
      "34/34 [==============================] - 0s 6ms/step - loss: 0.4090 - accuracy: 0.8546 - val_loss: 0.3586 - val_accuracy: 0.8876\n",
      "Epoch 16/100\n",
      "34/34 [==============================] - 0s 6ms/step - loss: 0.4063 - accuracy: 0.8546 - val_loss: 0.3495 - val_accuracy: 0.8876\n",
      "Epoch 17/100\n",
      "34/34 [==============================] - 0s 6ms/step - loss: 0.4046 - accuracy: 0.8546 - val_loss: 0.3496 - val_accuracy: 0.8876\n",
      "Epoch 18/100\n",
      "34/34 [==============================] - 0s 6ms/step - loss: 0.4003 - accuracy: 0.8546 - val_loss: 0.3621 - val_accuracy: 0.8876\n",
      "Epoch 19/100\n",
      "34/34 [==============================] - 0s 5ms/step - loss: 0.3958 - accuracy: 0.8546 - val_loss: 0.3473 - val_accuracy: 0.8876\n",
      "Epoch 20/100\n",
      "34/34 [==============================] - 0s 6ms/step - loss: 0.3910 - accuracy: 0.8546 - val_loss: 0.3460 - val_accuracy: 0.8876\n",
      "Epoch 21/100\n",
      "34/34 [==============================] - 0s 6ms/step - loss: 0.3868 - accuracy: 0.8546 - val_loss: 0.3536 - val_accuracy: 0.8876\n",
      "Epoch 22/100\n",
      "34/34 [==============================] - 0s 5ms/step - loss: 0.3802 - accuracy: 0.8546 - val_loss: 0.3454 - val_accuracy: 0.8876\n",
      "Epoch 23/100\n",
      "34/34 [==============================] - 0s 6ms/step - loss: 0.3769 - accuracy: 0.8546 - val_loss: 0.3477 - val_accuracy: 0.8876\n",
      "Epoch 24/100\n",
      "34/34 [==============================] - 0s 5ms/step - loss: 0.3713 - accuracy: 0.8546 - val_loss: 0.3419 - val_accuracy: 0.8876\n",
      "Epoch 25/100\n",
      "34/34 [==============================] - 0s 6ms/step - loss: 0.3670 - accuracy: 0.8546 - val_loss: 0.3532 - val_accuracy: 0.8876\n",
      "Epoch 26/100\n",
      "34/34 [==============================] - 0s 6ms/step - loss: 0.3646 - accuracy: 0.8546 - val_loss: 0.3538 - val_accuracy: 0.8876\n",
      "Epoch 27/100\n",
      "34/34 [==============================] - 0s 6ms/step - loss: 0.3587 - accuracy: 0.8546 - val_loss: 0.3387 - val_accuracy: 0.8876\n",
      "Epoch 28/100\n",
      "34/34 [==============================] - 0s 6ms/step - loss: 0.3600 - accuracy: 0.8560 - val_loss: 0.3426 - val_accuracy: 0.8876\n",
      "Epoch 29/100\n",
      "34/34 [==============================] - 0s 6ms/step - loss: 0.3570 - accuracy: 0.8574 - val_loss: 0.3391 - val_accuracy: 0.8876\n",
      "Epoch 30/100\n",
      "34/34 [==============================] - 0s 5ms/step - loss: 0.3569 - accuracy: 0.8569 - val_loss: 0.3554 - val_accuracy: 0.8876\n",
      "Epoch 31/100\n",
      "34/34 [==============================] - 0s 6ms/step - loss: 0.3535 - accuracy: 0.8593 - val_loss: 0.3401 - val_accuracy: 0.8876\n",
      "Epoch 32/100\n",
      "34/34 [==============================] - 0s 5ms/step - loss: 0.3537 - accuracy: 0.8602 - val_loss: 0.3537 - val_accuracy: 0.8801\n",
      "Epoch 33/100\n",
      "34/34 [==============================] - 0s 6ms/step - loss: 0.3524 - accuracy: 0.8626 - val_loss: 0.3617 - val_accuracy: 0.8764\n",
      "Epoch 34/100\n",
      "34/34 [==============================] - 0s 6ms/step - loss: 0.3501 - accuracy: 0.8644 - val_loss: 0.3489 - val_accuracy: 0.8801\n",
      "Epoch 35/100\n",
      "34/34 [==============================] - 0s 7ms/step - loss: 0.3492 - accuracy: 0.8644 - val_loss: 0.3401 - val_accuracy: 0.8876\n",
      "Epoch 36/100\n",
      "34/34 [==============================] - 0s 5ms/step - loss: 0.3497 - accuracy: 0.8630 - val_loss: 0.3467 - val_accuracy: 0.8801\n",
      "Epoch 37/100\n",
      "34/34 [==============================] - 0s 5ms/step - loss: 0.3487 - accuracy: 0.8630 - val_loss: 0.3406 - val_accuracy: 0.8876\n",
      "Epoch 38/100\n",
      "34/34 [==============================] - 0s 6ms/step - loss: 0.3487 - accuracy: 0.8640 - val_loss: 0.3450 - val_accuracy: 0.8801\n",
      "Epoch 39/100\n",
      "34/34 [==============================] - 0s 6ms/step - loss: 0.3462 - accuracy: 0.8649 - val_loss: 0.3563 - val_accuracy: 0.8614\n",
      "Epoch 40/100\n",
      "34/34 [==============================] - 0s 6ms/step - loss: 0.3471 - accuracy: 0.8659 - val_loss: 0.3404 - val_accuracy: 0.8876\n",
      "Epoch 41/100\n",
      "34/34 [==============================] - 0s 5ms/step - loss: 0.3466 - accuracy: 0.8677 - val_loss: 0.3430 - val_accuracy: 0.8839\n",
      "Epoch 42/100\n",
      "34/34 [==============================] - 0s 6ms/step - loss: 0.3453 - accuracy: 0.8659 - val_loss: 0.3456 - val_accuracy: 0.8801\n",
      "Epoch 43/100\n",
      "34/34 [==============================] - 0s 6ms/step - loss: 0.3472 - accuracy: 0.8654 - val_loss: 0.3552 - val_accuracy: 0.8689\n",
      "Epoch 44/100\n",
      "34/34 [==============================] - 0s 6ms/step - loss: 0.3439 - accuracy: 0.8677 - val_loss: 0.3423 - val_accuracy: 0.8801\n",
      "Epoch 45/100\n",
      "34/34 [==============================] - 0s 6ms/step - loss: 0.3465 - accuracy: 0.8677 - val_loss: 0.3623 - val_accuracy: 0.8502\n",
      "Epoch 46/100\n",
      "34/34 [==============================] - 0s 5ms/step - loss: 0.3424 - accuracy: 0.8673 - val_loss: 0.3772 - val_accuracy: 0.8427\n",
      "Epoch 47/100\n",
      "34/34 [==============================] - 0s 6ms/step - loss: 0.3449 - accuracy: 0.8668 - val_loss: 0.3760 - val_accuracy: 0.8427\n",
      "Epoch 48/100\n",
      "34/34 [==============================] - 0s 6ms/step - loss: 0.3432 - accuracy: 0.8705 - val_loss: 0.3967 - val_accuracy: 0.8127\n",
      "Epoch 49/100\n",
      "34/34 [==============================] - 0s 6ms/step - loss: 0.3436 - accuracy: 0.8640 - val_loss: 0.3564 - val_accuracy: 0.8577\n",
      "Epoch 50/100\n",
      "34/34 [==============================] - 0s 7ms/step - loss: 0.3431 - accuracy: 0.8635 - val_loss: 0.3398 - val_accuracy: 0.8839\n",
      "Epoch 51/100\n",
      "34/34 [==============================] - 0s 5ms/step - loss: 0.3445 - accuracy: 0.8616 - val_loss: 0.3546 - val_accuracy: 0.8577\n",
      "Epoch 52/100\n",
      "34/34 [==============================] - 0s 5ms/step - loss: 0.3450 - accuracy: 0.8654 - val_loss: 0.3521 - val_accuracy: 0.8614\n",
      "Epoch 53/100\n",
      "34/34 [==============================] - 0s 5ms/step - loss: 0.3424 - accuracy: 0.8663 - val_loss: 0.3481 - val_accuracy: 0.8614\n",
      "Epoch 54/100\n",
      "34/34 [==============================] - 0s 6ms/step - loss: 0.3433 - accuracy: 0.8663 - val_loss: 0.3621 - val_accuracy: 0.8464\n",
      "Epoch 55/100\n",
      "34/34 [==============================] - 0s 6ms/step - loss: 0.3432 - accuracy: 0.8649 - val_loss: 0.3528 - val_accuracy: 0.8614\n",
      "Epoch 56/100\n",
      "34/34 [==============================] - 0s 6ms/step - loss: 0.3434 - accuracy: 0.8626 - val_loss: 0.3436 - val_accuracy: 0.8689\n",
      "Epoch 57/100\n",
      "34/34 [==============================] - 0s 5ms/step - loss: 0.3414 - accuracy: 0.8663 - val_loss: 0.3403 - val_accuracy: 0.8839\n",
      "Epoch 58/100\n",
      "34/34 [==============================] - 0s 6ms/step - loss: 0.3418 - accuracy: 0.8644 - val_loss: 0.3554 - val_accuracy: 0.8614\n",
      "Epoch 59/100\n",
      "34/34 [==============================] - 0s 5ms/step - loss: 0.3421 - accuracy: 0.8659 - val_loss: 0.3575 - val_accuracy: 0.8577\n",
      "Epoch 60/100\n",
      "34/34 [==============================] - 0s 6ms/step - loss: 0.3409 - accuracy: 0.8630 - val_loss: 0.3412 - val_accuracy: 0.8801\n",
      "Epoch 61/100\n",
      "34/34 [==============================] - 0s 6ms/step - loss: 0.3425 - accuracy: 0.8649 - val_loss: 0.3406 - val_accuracy: 0.8839\n",
      "Epoch 62/100\n",
      "34/34 [==============================] - 0s 5ms/step - loss: 0.3424 - accuracy: 0.8682 - val_loss: 0.3441 - val_accuracy: 0.8652\n",
      "Epoch 63/100\n",
      "34/34 [==============================] - 0s 6ms/step - loss: 0.3438 - accuracy: 0.8649 - val_loss: 0.3550 - val_accuracy: 0.8577\n",
      "Epoch 64/100\n",
      "34/34 [==============================] - 0s 6ms/step - loss: 0.3398 - accuracy: 0.8668 - val_loss: 0.3407 - val_accuracy: 0.8801\n",
      "Epoch 65/100\n",
      "34/34 [==============================] - 0s 6ms/step - loss: 0.3391 - accuracy: 0.8687 - val_loss: 0.3593 - val_accuracy: 0.8427\n",
      "Epoch 66/100\n",
      "34/34 [==============================] - 0s 6ms/step - loss: 0.3411 - accuracy: 0.8654 - val_loss: 0.3400 - val_accuracy: 0.8839\n",
      "Epoch 67/100\n",
      "34/34 [==============================] - 0s 6ms/step - loss: 0.3410 - accuracy: 0.8668 - val_loss: 0.3665 - val_accuracy: 0.8390\n",
      "Epoch 68/100\n",
      "34/34 [==============================] - 0s 6ms/step - loss: 0.3408 - accuracy: 0.8663 - val_loss: 0.3673 - val_accuracy: 0.8390\n",
      "Epoch 69/100\n",
      "34/34 [==============================] - 0s 6ms/step - loss: 0.3407 - accuracy: 0.8691 - val_loss: 0.3632 - val_accuracy: 0.8427\n",
      "Epoch 70/100\n",
      "34/34 [==============================] - 0s 6ms/step - loss: 0.3402 - accuracy: 0.8659 - val_loss: 0.3677 - val_accuracy: 0.8427\n",
      "Epoch 71/100\n",
      "34/34 [==============================] - 0s 6ms/step - loss: 0.3411 - accuracy: 0.8640 - val_loss: 0.3604 - val_accuracy: 0.8427\n",
      "Epoch 72/100\n",
      "34/34 [==============================] - 0s 5ms/step - loss: 0.3405 - accuracy: 0.8696 - val_loss: 0.3422 - val_accuracy: 0.8652\n",
      "Epoch 73/100\n",
      "34/34 [==============================] - 0s 6ms/step - loss: 0.3433 - accuracy: 0.8644 - val_loss: 0.3500 - val_accuracy: 0.8577\n",
      "Epoch 74/100\n",
      "34/34 [==============================] - 0s 5ms/step - loss: 0.3391 - accuracy: 0.8616 - val_loss: 0.3399 - val_accuracy: 0.8727\n",
      "Epoch 75/100\n",
      "34/34 [==============================] - 0s 6ms/step - loss: 0.3402 - accuracy: 0.8654 - val_loss: 0.3513 - val_accuracy: 0.8614\n",
      "Epoch 76/100\n",
      "34/34 [==============================] - 0s 5ms/step - loss: 0.3429 - accuracy: 0.8635 - val_loss: 0.3682 - val_accuracy: 0.8427\n",
      "Epoch 77/100\n",
      "34/34 [==============================] - 0s 6ms/step - loss: 0.3396 - accuracy: 0.8677 - val_loss: 0.3384 - val_accuracy: 0.8839\n",
      "Epoch 78/100\n",
      "34/34 [==============================] - 0s 6ms/step - loss: 0.3413 - accuracy: 0.8644 - val_loss: 0.3386 - val_accuracy: 0.8839\n",
      "Epoch 79/100\n",
      "34/34 [==============================] - 0s 6ms/step - loss: 0.3398 - accuracy: 0.8654 - val_loss: 0.3399 - val_accuracy: 0.8727\n",
      "Epoch 80/100\n",
      "34/34 [==============================] - 0s 6ms/step - loss: 0.3408 - accuracy: 0.8654 - val_loss: 0.3568 - val_accuracy: 0.8464\n",
      "Epoch 81/100\n",
      "34/34 [==============================] - 0s 6ms/step - loss: 0.3400 - accuracy: 0.8696 - val_loss: 0.3401 - val_accuracy: 0.8727\n",
      "Epoch 82/100\n",
      "34/34 [==============================] - 0s 6ms/step - loss: 0.3404 - accuracy: 0.8673 - val_loss: 0.3526 - val_accuracy: 0.8502\n",
      "Epoch 83/100\n",
      "34/34 [==============================] - 0s 5ms/step - loss: 0.3422 - accuracy: 0.8640 - val_loss: 0.3650 - val_accuracy: 0.8427\n",
      "Epoch 84/100\n",
      "34/34 [==============================] - 0s 6ms/step - loss: 0.3415 - accuracy: 0.8668 - val_loss: 0.3484 - val_accuracy: 0.8577\n",
      "Epoch 85/100\n",
      "34/34 [==============================] - 0s 6ms/step - loss: 0.3408 - accuracy: 0.8635 - val_loss: 0.3507 - val_accuracy: 0.8539\n",
      "Epoch 86/100\n",
      "34/34 [==============================] - 0s 5ms/step - loss: 0.3411 - accuracy: 0.8635 - val_loss: 0.3415 - val_accuracy: 0.8689\n",
      "Epoch 87/100\n",
      "34/34 [==============================] - 0s 6ms/step - loss: 0.3387 - accuracy: 0.8663 - val_loss: 0.3880 - val_accuracy: 0.8165\n",
      "Epoch 88/100\n",
      "34/34 [==============================] - 0s 6ms/step - loss: 0.3414 - accuracy: 0.8626 - val_loss: 0.3391 - val_accuracy: 0.8801\n",
      "Epoch 89/100\n",
      "34/34 [==============================] - 0s 6ms/step - loss: 0.3404 - accuracy: 0.8673 - val_loss: 0.3392 - val_accuracy: 0.8801\n",
      "Epoch 90/100\n",
      "34/34 [==============================] - 0s 6ms/step - loss: 0.3389 - accuracy: 0.8635 - val_loss: 0.3468 - val_accuracy: 0.8689\n",
      "Epoch 91/100\n",
      "34/34 [==============================] - 0s 5ms/step - loss: 0.3421 - accuracy: 0.8691 - val_loss: 0.3667 - val_accuracy: 0.8427\n",
      "Epoch 92/100\n",
      "34/34 [==============================] - 0s 6ms/step - loss: 0.3386 - accuracy: 0.8649 - val_loss: 0.3546 - val_accuracy: 0.8464\n",
      "Epoch 93/100\n",
      "34/34 [==============================] - 0s 8ms/step - loss: 0.3410 - accuracy: 0.8673 - val_loss: 0.3587 - val_accuracy: 0.8427\n",
      "Epoch 94/100\n",
      "34/34 [==============================] - 0s 10ms/step - loss: 0.3387 - accuracy: 0.8696 - val_loss: 0.3519 - val_accuracy: 0.8577\n",
      "Epoch 95/100\n",
      "34/34 [==============================] - 0s 9ms/step - loss: 0.3397 - accuracy: 0.8677 - val_loss: 0.3900 - val_accuracy: 0.8090\n",
      "Epoch 96/100\n",
      "34/34 [==============================] - 0s 11ms/step - loss: 0.3420 - accuracy: 0.8626 - val_loss: 0.3488 - val_accuracy: 0.8614\n",
      "Epoch 97/100\n",
      "34/34 [==============================] - 0s 12ms/step - loss: 0.3393 - accuracy: 0.8649 - val_loss: 0.3503 - val_accuracy: 0.8614\n",
      "Epoch 98/100\n",
      "34/34 [==============================] - 0s 10ms/step - loss: 0.3408 - accuracy: 0.8640 - val_loss: 0.3386 - val_accuracy: 0.8839\n",
      "Epoch 99/100\n",
      "34/34 [==============================] - 0s 11ms/step - loss: 0.3407 - accuracy: 0.8715 - val_loss: 0.3755 - val_accuracy: 0.8277\n",
      "Epoch 100/100\n",
      "34/34 [==============================] - 0s 13ms/step - loss: 0.3406 - accuracy: 0.8635 - val_loss: 0.3396 - val_accuracy: 0.8727\n"
     ]
    }
   ],
   "source": [
    "#more linear with sigmoid\n",
    "from tensorflow.keras.models import Sequential\n",
    "from tensorflow.keras.layers import Dense, Dropout\n",
    "from tensorflow.keras.regularizers import l2\n",
    "from tensorflow.keras.optimizers import SGD\n",
    "from keras_visualizer import visualizer \n",
    "\n",
    "model=Sequential()\n",
    "model.add(Dense(256,input_shape=(df.shape[1]-1,), activation='sigmoid'))#if change 128 into 256,for 1st hidden layer, loss more information.ift will not improve the accuracy\n",
    "model.add(Dense(32, activation='sigmoid'))\n",
    "model.add(Dense(32, activation='sigmoid'))\n",
    "model.add(Dense(8, activation='sigmoid'))\n",
    "model.add(Dense(1,activation=\"sigmoid\"))\n",
    "visualizer(model, filename='graph01', format='png', view=True)\n",
    "## change the num from 128 to 256\n",
    "# Used rmsprop optimizer, binary_crossentropy loss\n",
    "# you can use adam and SGD instead of rmsprop as well\n",
    "model.compile(optimizer='rmsprop', loss='binary_crossentropy', metrics=['accuracy'])\n",
    "history = model.fit(train.drop(\"Churn\",axis=1),train[\"Churn\"],\n",
    "                    validation_data=(validation.drop(\"Churn\",axis=1),validation[\"Churn\"]),\n",
    "          batch_size=64, epochs=100)#less sample\n",
    "\n",
    "          # what is accuracy and val accuracy"
   ]
  },
  {
   "cell_type": "code",
   "execution_count": 33,
   "metadata": {
    "colab": {
     "base_uri": "https://localhost:8080/",
     "height": 283
    },
    "id": "sfvDlNkKgyfA",
    "outputId": "49b85fe7-e2e0-420b-cfaf-f9d53ea43e7b"
   },
   "outputs": [
    {
     "data": {
      "text/plain": [
       "<function matplotlib.pyplot.imshow>"
      ]
     },
     "execution_count": 33,
     "metadata": {},
     "output_type": "execute_result"
    },
    {
     "data": {
      "image/png": "[encoded data removed]",
      "text/plain": [
       "<Figure size 432x288 with 1 Axes>"
      ]
     },
     "metadata": {
      "needs_background": "light"
     },
     "output_type": "display_data"
    }
   ],
   "source": [
    "import matplotlib.pyplot as plt\n",
    "# Plot loss, val_loss\n",
    "plt.plot(history.history[\"accuracy\"])\n",
    "plt.plot(history.history[\"val_accuracy\"])\n",
    "plt.imshow"
   ]
  },
  {
   "cell_type": "code",
   "execution_count": 34,
   "metadata": {
    "colab": {
     "base_uri": "https://localhost:8080/"
    },
    "id": "zYe8p_ofg4HH",
    "outputId": "d5b69ee2-4556-4a8c-f33d-71ef1bbd0c31"
   },
   "outputs": [
    {
     "name": "stdout",
     "output_type": "stream",
     "text": [
      "0.4196617305278778\n"
     ]
    }
   ],
   "source": [
    "from keras.losses import binary_crossentropy\n",
    "\n",
    "# real y\n",
    "real = test.Churn.astype(\"int\").values\n",
    "# predicted y\n",
    "pred = model.predict(test.drop(\"Churn\",axis=1)).flatten()\n",
    "# binary_crossentropy\n",
    "print(float(binary_crossentropy(real,pred)))"
   ]
  },
  {
   "cell_type": "code",
   "execution_count": 35,
   "metadata": {
    "colab": {
     "base_uri": "https://localhost:8080/"
    },
    "id": "W-akbGNVg6cV",
    "outputId": "c4a86421-cc5e-4aa7-b920-c6da56e7931a"
   },
   "outputs": [
    {
     "name": "stdout",
     "output_type": "stream",
     "text": [
      "0.8426966292134831\n"
     ]
    }
   ],
   "source": [
    "# calculate accuracy\n",
    "pred = [1 if i>0.5 else 0 for i in pred]\n",
    "print(sum(pred==real)/len(pred))"
   ]
  },
  {
   "cell_type": "markdown",
   "metadata": {
    "id": "5MI-zm84jRnI"
   },
   "source": [
    "Comment: Please explain your model and why the results like this. "
   ]
  },
  {
   "cell_type": "code",
   "execution_count": null,
   "metadata": {},
   "outputs": [],
   "source": [
    "#When epoch is equals around 40, the fluctuation of validation accuracy is becoming unstable and gap between loss functions are \n",
    "#becoming bigger. It means we are facing the overfitting problem. The validation accuracy even become worse when epoch is greater\n",
    "#than 40. "
   ]
  },
  {
   "cell_type": "markdown",
   "metadata": {
    "id": "lyiLE77Qs3U1"
   },
   "source": [
    "# Please use **Early Stopping** and show how to improve the results. \n"
   ]
  },
  {
   "cell_type": "code",
   "execution_count": 38,
   "metadata": {
    "colab": {
     "base_uri": "https://localhost:8080/"
    },
    "id": "Ie-NPcQVEuxT",
    "outputId": "ea699e68-f15d-4340-84c0-ff15d06911b1"
   },
   "outputs": [
    {
     "name": "stdout",
     "output_type": "stream",
     "text": [
      "Epoch 1/40\n",
      "134/134 [==============================] - 2s 6ms/step - loss: 0.5016 - accuracy: 0.8124 - val_loss: 0.3744 - val_accuracy: 0.8876\n",
      "Epoch 2/40\n",
      "134/134 [==============================] - 1s 5ms/step - loss: 0.4168 - accuracy: 0.8546 - val_loss: 0.3576 - val_accuracy: 0.8876\n",
      "Epoch 3/40\n",
      "134/134 [==============================] - 1s 5ms/step - loss: 0.4149 - accuracy: 0.8546 - val_loss: 0.3554 - val_accuracy: 0.8876\n",
      "Epoch 4/40\n",
      "134/134 [==============================] - 1s 5ms/step - loss: 0.4148 - accuracy: 0.8546 - val_loss: 0.3564 - val_accuracy: 0.8876\n",
      "Epoch 5/40\n",
      "134/134 [==============================] - 1s 5ms/step - loss: 0.4148 - accuracy: 0.8546 - val_loss: 0.3553 - val_accuracy: 0.8876\n",
      "Epoch 6/40\n",
      "134/134 [==============================] - 1s 5ms/step - loss: 0.4147 - accuracy: 0.8546 - val_loss: 0.3550 - val_accuracy: 0.8876\n",
      "Epoch 7/40\n",
      "134/134 [==============================] - 1s 5ms/step - loss: 0.4146 - accuracy: 0.8546 - val_loss: 0.3551 - val_accuracy: 0.8876\n",
      "Epoch 8/40\n",
      "134/134 [==============================] - 1s 5ms/step - loss: 0.4135 - accuracy: 0.8546 - val_loss: 0.3547 - val_accuracy: 0.8876\n",
      "Epoch 9/40\n",
      "134/134 [==============================] - 1s 5ms/step - loss: 0.4093 - accuracy: 0.8546 - val_loss: 0.3534 - val_accuracy: 0.8876\n",
      "Epoch 10/40\n",
      "134/134 [==============================] - 1s 5ms/step - loss: 0.3966 - accuracy: 0.8546 - val_loss: 0.3478 - val_accuracy: 0.8876\n",
      "Epoch 11/40\n",
      "134/134 [==============================] - 1s 5ms/step - loss: 0.3820 - accuracy: 0.8546 - val_loss: 0.3512 - val_accuracy: 0.8876\n",
      "Epoch 12/40\n",
      "134/134 [==============================] - 1s 5ms/step - loss: 0.3710 - accuracy: 0.8546 - val_loss: 0.3528 - val_accuracy: 0.8876\n",
      "Epoch 13/40\n",
      "134/134 [==============================] - 1s 5ms/step - loss: 0.3653 - accuracy: 0.8546 - val_loss: 0.3462 - val_accuracy: 0.8876\n",
      "Epoch 14/40\n",
      "134/134 [==============================] - 1s 5ms/step - loss: 0.3595 - accuracy: 0.8546 - val_loss: 0.3473 - val_accuracy: 0.8876\n",
      "Epoch 15/40\n",
      "134/134 [==============================] - 1s 5ms/step - loss: 0.3570 - accuracy: 0.8546 - val_loss: 0.3420 - val_accuracy: 0.8876\n",
      "Epoch 16/40\n",
      "134/134 [==============================] - 1s 5ms/step - loss: 0.3538 - accuracy: 0.8546 - val_loss: 0.3410 - val_accuracy: 0.8876\n",
      "Epoch 17/40\n",
      "134/134 [==============================] - 1s 5ms/step - loss: 0.3530 - accuracy: 0.8546 - val_loss: 0.3427 - val_accuracy: 0.8876\n",
      "Epoch 18/40\n",
      "134/134 [==============================] - 1s 5ms/step - loss: 0.3508 - accuracy: 0.8546 - val_loss: 0.3623 - val_accuracy: 0.8876\n",
      "Epoch 19/40\n",
      "134/134 [==============================] - 1s 5ms/step - loss: 0.3487 - accuracy: 0.8546 - val_loss: 0.3590 - val_accuracy: 0.8876\n",
      "Epoch 20/40\n",
      "134/134 [==============================] - 1s 5ms/step - loss: 0.3466 - accuracy: 0.8551 - val_loss: 0.3414 - val_accuracy: 0.8876\n",
      "Epoch 21/40\n",
      "134/134 [==============================] - 1s 5ms/step - loss: 0.3470 - accuracy: 0.8551 - val_loss: 0.3511 - val_accuracy: 0.8876\n",
      "Epoch 22/40\n",
      "134/134 [==============================] - 1s 5ms/step - loss: 0.3447 - accuracy: 0.8560 - val_loss: 0.3416 - val_accuracy: 0.8876\n",
      "Epoch 23/40\n",
      "134/134 [==============================] - 1s 5ms/step - loss: 0.3439 - accuracy: 0.8569 - val_loss: 0.3459 - val_accuracy: 0.8839\n",
      "Epoch 24/40\n",
      "134/134 [==============================] - 1s 5ms/step - loss: 0.3437 - accuracy: 0.8607 - val_loss: 0.3527 - val_accuracy: 0.8764\n",
      "Epoch 25/40\n",
      "134/134 [==============================] - 1s 5ms/step - loss: 0.3415 - accuracy: 0.8621 - val_loss: 0.3897 - val_accuracy: 0.8315\n",
      "Epoch 26/40\n",
      "134/134 [==============================] - 1s 5ms/step - loss: 0.3411 - accuracy: 0.8612 - val_loss: 0.3465 - val_accuracy: 0.8689\n",
      "Epoch 27/40\n",
      "134/134 [==============================] - 1s 5ms/step - loss: 0.3397 - accuracy: 0.8626 - val_loss: 0.3491 - val_accuracy: 0.8614\n",
      "Epoch 28/40\n",
      "134/134 [==============================] - 1s 5ms/step - loss: 0.3363 - accuracy: 0.8616 - val_loss: 0.3462 - val_accuracy: 0.8689\n",
      "Epoch 29/40\n",
      "134/134 [==============================] - 1s 5ms/step - loss: 0.3336 - accuracy: 0.8677 - val_loss: 0.3388 - val_accuracy: 0.8801\n",
      "Epoch 30/40\n",
      "134/134 [==============================] - 1s 5ms/step - loss: 0.3306 - accuracy: 0.8677 - val_loss: 0.3397 - val_accuracy: 0.8689\n",
      "Epoch 31/40\n",
      "134/134 [==============================] - 1s 6ms/step - loss: 0.3289 - accuracy: 0.8734 - val_loss: 0.3726 - val_accuracy: 0.8390\n",
      "Epoch 32/40\n",
      "134/134 [==============================] - 1s 6ms/step - loss: 0.3252 - accuracy: 0.8729 - val_loss: 0.3364 - val_accuracy: 0.8727\n",
      "Epoch 33/40\n",
      "134/134 [==============================] - 1s 7ms/step - loss: 0.3222 - accuracy: 0.8748 - val_loss: 0.3602 - val_accuracy: 0.8427\n",
      "Epoch 34/40\n",
      "134/134 [==============================] - 1s 6ms/step - loss: 0.3163 - accuracy: 0.8757 - val_loss: 0.3329 - val_accuracy: 0.8764\n",
      "Epoch 35/40\n",
      "134/134 [==============================] - 1s 8ms/step - loss: 0.3120 - accuracy: 0.8780 - val_loss: 0.3296 - val_accuracy: 0.8801\n",
      "Epoch 36/40\n",
      "134/134 [==============================] - 1s 9ms/step - loss: 0.3063 - accuracy: 0.8813 - val_loss: 0.3296 - val_accuracy: 0.8689\n",
      "Epoch 37/40\n",
      "134/134 [==============================] - 1s 5ms/step - loss: 0.2994 - accuracy: 0.8856 - val_loss: 0.3248 - val_accuracy: 0.8764\n",
      "Epoch 38/40\n",
      "134/134 [==============================] - 1s 8ms/step - loss: 0.2939 - accuracy: 0.8959 - val_loss: 0.3238 - val_accuracy: 0.8801\n",
      "Epoch 39/40\n",
      "134/134 [==============================] - 1s 6ms/step - loss: 0.2866 - accuracy: 0.8982 - val_loss: 0.3236 - val_accuracy: 0.8801\n",
      "Epoch 40/40\n",
      "134/134 [==============================] - 1s 7ms/step - loss: 0.2795 - accuracy: 0.9024 - val_loss: 0.3205 - val_accuracy: 0.8839\n"
     ]
    }
   ],
   "source": [
    "from keras.models import Sequential\n",
    "from keras.layers import Dense, Dropout\n",
    "from keras.regularizers import l2\n",
    "\n",
    "model=Sequential()\n",
    "model.add(Dense(128,input_shape=(df.shape[1]-1,), activation='relu'))\n",
    "model.add(Dense(32, activation='sigmoid'))\n",
    "model.add(Dense(32, activation='sigmoid'))\n",
    "model.add(Dense(8, activation='sigmoid'))\n",
    "model.add(Dense(1,activation=\"sigmoid\"))\n",
    "visualizer(model, filename='graph01', format='png', view=True)\n",
    "\n",
    "# Used rmsprop optimizer, binary_crossentropy loss\n",
    "\n",
    "model.compile(optimizer='rmsprop', loss='binary_crossentropy', metrics=['accuracy'])\n",
    "history = model.fit(train.drop(\"Churn\",axis=1),train[\"Churn\"],\n",
    "                    validation_data=(validation.drop(\"Churn\",axis=1),validation[\"Churn\"]),\n",
    "          batch_size=16, epochs=40)\n",
    "# change epochs from 100 to 40\n",
    " #We can realize \"early stop\" by reducing the parameter \"epoch\". The training will stop after finishing the number of epoch you set."
   ]
  },
  {
   "cell_type": "code",
   "execution_count": 39,
   "metadata": {
    "colab": {
     "base_uri": "https://localhost:8080/",
     "height": 283
    },
    "id": "1m06md5BtSZe",
    "outputId": "b0fe8954-f6c5-447c-ea5f-95358387debf"
   },
   "outputs": [
    {
     "data": {
      "text/plain": [
       "<function matplotlib.pyplot.imshow>"
      ]
     },
     "execution_count": 39,
     "metadata": {},
     "output_type": "execute_result"
    },
    {
     "data": {
      "image/png": "[encoded data removed]",
      "text/plain": [
       "<Figure size 432x288 with 1 Axes>"
      ]
     },
     "metadata": {
      "needs_background": "light"
     },
     "output_type": "display_data"
    }
   ],
   "source": [
    "import matplotlib.pyplot as plt\n",
    "# Plot loss, val_loss\n",
    "plt.plot(history.history[\"loss\"])\n",
    "plt.plot(history.history[\"val_loss\"])\n",
    "plt.imshow"
   ]
  },
  {
   "cell_type": "code",
   "execution_count": 40,
   "metadata": {
    "colab": {
     "base_uri": "https://localhost:8080/",
     "height": 283
    },
    "id": "DS1WOtRlh7dj",
    "outputId": "3243f312-a965-4deb-a51e-e50344c3573b"
   },
   "outputs": [
    {
     "data": {
      "text/plain": [
       "<function matplotlib.pyplot.imshow>"
      ]
     },
     "execution_count": 40,
     "metadata": {},
     "output_type": "execute_result"
    },
    {
     "data": {
      "image/png": "[encoded data removed]",
      "text/plain": [
       "<Figure size 432x288 with 1 Axes>"
      ]
     },
     "metadata": {
      "needs_background": "light"
     },
     "output_type": "display_data"
    }
   ],
   "source": [
    "import matplotlib.pyplot as plt\n",
    "# Plot loss, val_loss\n",
    "plt.plot(history.history[\"accuracy\"])\n",
    "plt.plot(history.history[\"val_accuracy\"])\n",
    "plt.imshow"
   ]
  },
  {
   "cell_type": "code",
   "execution_count": 41,
   "metadata": {
    "colab": {
     "base_uri": "https://localhost:8080/"
    },
    "id": "0OETtuAHh-J1",
    "outputId": "5540c135-e2b1-4915-9562-b2a87b3ad9e8"
   },
   "outputs": [
    {
     "name": "stdout",
     "output_type": "stream",
     "text": [
      "0.3995743691921234\n"
     ]
    }
   ],
   "source": [
    "from keras.losses import binary_crossentropy\n",
    "\n",
    "# real y\n",
    "real = test.Churn.astype(\"int\").values\n",
    "# predicted y\n",
    "pred = model.predict(test.drop(\"Churn\",axis=1)).flatten()\n",
    "# binary_crossentropy\n",
    "print(float(binary_crossentropy(real,pred)))"
   ]
  },
  {
   "cell_type": "code",
   "execution_count": 42,
   "metadata": {
    "colab": {
     "base_uri": "https://localhost:8080/"
    },
    "id": "Zntibjo4h3PE",
    "outputId": "577376e2-077b-429b-db74-1c737e75d402"
   },
   "outputs": [
    {
     "name": "stdout",
     "output_type": "stream",
     "text": [
      "0.8651685393258427\n"
     ]
    }
   ],
   "source": [
    "# calculate accuracy\n",
    "pred = [1 if i>0.5 else 0 for i in pred]\n",
    "print(sum(pred==real)/len(pred))"
   ]
  },
  {
   "cell_type": "markdown",
   "metadata": {
    "id": "DxGKmEBwkLsz"
   },
   "source": [
    "Comment: Please explain your model and why the results are like this. \n",
    "By changing the epochs from 100 to 40. We improve the model accuracy from 0.84 to 0.86"
   ]
  },
  {
   "cell_type": "code",
   "execution_count": null,
   "metadata": {},
   "outputs": [],
   "source": [
    "#We improve the model accuracy by stopping training model early when epoch = 40. It is a good choice as I mention above, when\n",
    "#the epoch = 40, the validation accuracy become unstable, if we stop at epoch = 40, it can help model to avoid overfitting \n",
    "#probelm. As the result shows, our accuracy improves 0.02%. "
   ]
  },
  {
   "cell_type": "markdown",
   "metadata": {
    "id": "qZZfIe1-Ctqe"
   },
   "source": [
    "## Q4: How you can solve the problem and improve your model?"
   ]
  },
  {
   "cell_type": "markdown",
   "metadata": {
    "cell_id": "00012-8942aa20-c103-4078-9e3f-473e4f204319",
    "id": "s8T83i1sVTRn",
    "tags": []
   },
   "source": [
    "### Please add the **Dropout** on your model. "
   ]
  },
  {
   "cell_type": "code",
   "execution_count": 52,
   "metadata": {
    "colab": {
     "base_uri": "https://localhost:8080/"
    },
    "id": "rlKAHsKlExw5",
    "outputId": "bfcdbe81-092b-4320-9018-837111678c7e"
   },
   "outputs": [
    {
     "name": "stdout",
     "output_type": "stream",
     "text": [
      "Epoch 1/40\n",
      "89/89 [==============================] - 2s 8ms/step - loss: 0.4355 - accuracy: 0.8541 - val_loss: 0.3675 - val_accuracy: 0.8876\n",
      "Epoch 2/40\n",
      "89/89 [==============================] - 1s 7ms/step - loss: 0.4066 - accuracy: 0.8546 - val_loss: 0.3567 - val_accuracy: 0.8876\n",
      "Epoch 3/40\n",
      "89/89 [==============================] - 1s 9ms/step - loss: 0.3937 - accuracy: 0.8546 - val_loss: 0.3493 - val_accuracy: 0.8876\n",
      "Epoch 4/40\n",
      "89/89 [==============================] - 1s 11ms/step - loss: 0.3788 - accuracy: 0.8546 - val_loss: 0.3446 - val_accuracy: 0.8876\n",
      "Epoch 5/40\n",
      "89/89 [==============================] - 1s 10ms/step - loss: 0.3702 - accuracy: 0.8546 - val_loss: 0.3441 - val_accuracy: 0.8876\n",
      "Epoch 6/40\n",
      "89/89 [==============================] - 1s 9ms/step - loss: 0.3644 - accuracy: 0.8541 - val_loss: 0.3405 - val_accuracy: 0.8876\n",
      "Epoch 7/40\n",
      "89/89 [==============================] - 1s 10ms/step - loss: 0.3615 - accuracy: 0.8560 - val_loss: 0.3463 - val_accuracy: 0.8801\n",
      "Epoch 8/40\n",
      "89/89 [==============================] - 1s 9ms/step - loss: 0.3538 - accuracy: 0.8583 - val_loss: 0.3405 - val_accuracy: 0.8839\n",
      "Epoch 9/40\n",
      "89/89 [==============================] - 1s 9ms/step - loss: 0.3500 - accuracy: 0.8588 - val_loss: 0.3431 - val_accuracy: 0.8801\n",
      "Epoch 10/40\n",
      "89/89 [==============================] - 1s 10ms/step - loss: 0.3463 - accuracy: 0.8630 - val_loss: 0.3415 - val_accuracy: 0.8801\n",
      "Epoch 11/40\n",
      "89/89 [==============================] - 1s 11ms/step - loss: 0.3387 - accuracy: 0.8720 - val_loss: 0.3362 - val_accuracy: 0.8801\n",
      "Epoch 12/40\n",
      "89/89 [==============================] - 1s 9ms/step - loss: 0.3366 - accuracy: 0.8691 - val_loss: 0.3317 - val_accuracy: 0.8839\n",
      "Epoch 13/40\n",
      "89/89 [==============================] - 1s 10ms/step - loss: 0.3253 - accuracy: 0.8738 - val_loss: 0.3401 - val_accuracy: 0.8839\n",
      "Epoch 14/40\n",
      "89/89 [==============================] - 1s 8ms/step - loss: 0.3187 - accuracy: 0.8734 - val_loss: 0.3295 - val_accuracy: 0.8801\n",
      "Epoch 15/40\n",
      "89/89 [==============================] - 1s 8ms/step - loss: 0.3204 - accuracy: 0.8691 - val_loss: 0.3325 - val_accuracy: 0.8914\n",
      "Epoch 16/40\n",
      "89/89 [==============================] - 1s 10ms/step - loss: 0.3080 - accuracy: 0.8757 - val_loss: 0.3340 - val_accuracy: 0.8801\n",
      "Epoch 17/40\n",
      "89/89 [==============================] - 1s 9ms/step - loss: 0.3024 - accuracy: 0.8813 - val_loss: 0.3508 - val_accuracy: 0.8577\n",
      "Epoch 18/40\n",
      "89/89 [==============================] - 1s 10ms/step - loss: 0.3034 - accuracy: 0.8804 - val_loss: 0.3194 - val_accuracy: 0.8951\n",
      "Epoch 19/40\n",
      "89/89 [==============================] - 1s 9ms/step - loss: 0.2857 - accuracy: 0.8874 - val_loss: 0.3631 - val_accuracy: 0.8539\n",
      "Epoch 20/40\n",
      "89/89 [==============================] - 1s 8ms/step - loss: 0.2833 - accuracy: 0.8879 - val_loss: 0.3241 - val_accuracy: 0.8801\n",
      "Epoch 21/40\n",
      "89/89 [==============================] - 0s 5ms/step - loss: 0.2752 - accuracy: 0.8968 - val_loss: 0.3271 - val_accuracy: 0.8914\n",
      "Epoch 22/40\n",
      "89/89 [==============================] - 0s 5ms/step - loss: 0.2636 - accuracy: 0.9006 - val_loss: 0.3193 - val_accuracy: 0.8914\n",
      "Epoch 23/40\n",
      "89/89 [==============================] - 0s 5ms/step - loss: 0.2678 - accuracy: 0.8949 - val_loss: 0.3244 - val_accuracy: 0.8801\n",
      "Epoch 24/40\n",
      "89/89 [==============================] - 0s 6ms/step - loss: 0.2530 - accuracy: 0.9015 - val_loss: 0.3351 - val_accuracy: 0.8914\n",
      "Epoch 25/40\n",
      "89/89 [==============================] - 0s 5ms/step - loss: 0.2545 - accuracy: 0.9053 - val_loss: 0.3307 - val_accuracy: 0.8951\n",
      "Epoch 26/40\n",
      "89/89 [==============================] - 1s 6ms/step - loss: 0.2337 - accuracy: 0.9184 - val_loss: 0.3161 - val_accuracy: 0.8876\n",
      "Epoch 27/40\n",
      "89/89 [==============================] - 0s 5ms/step - loss: 0.2361 - accuracy: 0.9123 - val_loss: 0.3568 - val_accuracy: 0.8914\n",
      "Epoch 28/40\n",
      "89/89 [==============================] - 0s 5ms/step - loss: 0.2334 - accuracy: 0.9104 - val_loss: 0.3249 - val_accuracy: 0.8989\n",
      "Epoch 29/40\n",
      "89/89 [==============================] - 0s 5ms/step - loss: 0.2327 - accuracy: 0.9142 - val_loss: 0.3402 - val_accuracy: 0.8989\n",
      "Epoch 30/40\n",
      "89/89 [==============================] - 0s 5ms/step - loss: 0.2234 - accuracy: 0.9198 - val_loss: 0.3506 - val_accuracy: 0.8951\n",
      "Epoch 31/40\n",
      "89/89 [==============================] - 0s 5ms/step - loss: 0.2197 - accuracy: 0.9170 - val_loss: 0.3397 - val_accuracy: 0.8989\n",
      "Epoch 32/40\n",
      "89/89 [==============================] - 0s 5ms/step - loss: 0.2181 - accuracy: 0.9137 - val_loss: 0.3567 - val_accuracy: 0.8876\n",
      "Epoch 33/40\n",
      "89/89 [==============================] - 0s 5ms/step - loss: 0.2121 - accuracy: 0.9203 - val_loss: 0.3716 - val_accuracy: 0.9026\n",
      "Epoch 34/40\n",
      "89/89 [==============================] - 0s 5ms/step - loss: 0.2148 - accuracy: 0.9203 - val_loss: 0.3469 - val_accuracy: 0.9026\n",
      "Epoch 35/40\n",
      "89/89 [==============================] - 0s 6ms/step - loss: 0.2128 - accuracy: 0.9179 - val_loss: 0.3616 - val_accuracy: 0.8951\n",
      "Epoch 36/40\n",
      "89/89 [==============================] - 0s 5ms/step - loss: 0.2116 - accuracy: 0.9170 - val_loss: 0.3584 - val_accuracy: 0.9064\n",
      "Epoch 37/40\n",
      "89/89 [==============================] - 0s 5ms/step - loss: 0.2018 - accuracy: 0.9264 - val_loss: 0.3563 - val_accuracy: 0.9026\n",
      "Epoch 38/40\n",
      "89/89 [==============================] - 0s 5ms/step - loss: 0.1946 - accuracy: 0.9306 - val_loss: 0.4026 - val_accuracy: 0.9064\n",
      "Epoch 39/40\n",
      "89/89 [==============================] - 0s 5ms/step - loss: 0.1892 - accuracy: 0.9287 - val_loss: 0.3859 - val_accuracy: 0.8989\n",
      "Epoch 40/40\n",
      "89/89 [==============================] - 0s 5ms/step - loss: 0.1933 - accuracy: 0.9273 - val_loss: 0.3773 - val_accuracy: 0.9064\n"
     ]
    }
   ],
   "source": [
    "# Dropout\n",
    "from keras.models import Sequential\n",
    "from keras.layers import Dense, Dropout\n",
    "from keras.regularizers import l2\n",
    "\n",
    "# Drop out used at the first two layers\n",
    "model=Sequential()\n",
    "model.add(Dense(128,input_shape=(df.shape[1]-1,), activation='relu'))\n",
    "model.add(Dropout(0.2))\n",
    "model.add(Dense(64, activation='relu'))\n",
    "model.add(Dropout(0.1))\n",
    "model.add(Dense(32, activation='relu'))\n",
    "model.add(Dense(8, activation='relu'))\n",
    "model.add(Dense(1,activation=\"sigmoid\"))\n",
    "model.compile(optimizer='rmsprop', loss='binary_crossentropy', metrics=['accuracy'])\n",
    "history = model.fit(train.drop(\"Churn\",axis=1),train[\"Churn\"],\n",
    "                    validation_data=(validation.drop(\"Churn\",axis=1),validation[\"Churn\"]),\n",
    "          batch_size=24, epochs=40)"
   ]
  },
  {
   "cell_type": "code",
   "execution_count": 53,
   "metadata": {
    "colab": {
     "base_uri": "https://localhost:8080/",
     "height": 283
    },
    "id": "KUvUpS_FiD8T",
    "outputId": "a40123bf-dc5d-4dbc-d837-f0776ff30c09"
   },
   "outputs": [
    {
     "data": {
      "text/plain": [
       "<function matplotlib.pyplot.imshow>"
      ]
     },
     "execution_count": 53,
     "metadata": {},
     "output_type": "execute_result"
    },
    {
     "data": {
      "image/png": "[encoded data removed]",
      "text/plain": [
       "<Figure size 432x288 with 1 Axes>"
      ]
     },
     "metadata": {
      "needs_background": "light"
     },
     "output_type": "display_data"
    }
   ],
   "source": [
    "# same as above, plot loss, val_loss\n",
    "plt.plot(history.history[\"loss\"])\n",
    "plt.plot(history.history[\"val_loss\"])\n",
    "plt.imshow"
   ]
  },
  {
   "cell_type": "code",
   "execution_count": 54,
   "metadata": {
    "colab": {
     "base_uri": "https://localhost:8080/",
     "height": 283
    },
    "id": "HMHJt4EviGE3",
    "outputId": "86e2e4c1-7722-4f32-89f4-b424e8622ff7"
   },
   "outputs": [
    {
     "data": {
      "text/plain": [
       "<function matplotlib.pyplot.imshow>"
      ]
     },
     "execution_count": 54,
     "metadata": {},
     "output_type": "execute_result"
    },
    {
     "data": {
      "image/png": "[encoded data removed]",
      "text/plain": [
       "<Figure size 432x288 with 1 Axes>"
      ]
     },
     "metadata": {
      "needs_background": "light"
     },
     "output_type": "display_data"
    }
   ],
   "source": [
    "# same as above, plot accuracy, val_accuracy\n",
    "plt.plot(history.history[\"accuracy\"])\n",
    "plt.plot(history.history[\"val_accuracy\"])\n",
    "plt.imshow"
   ]
  },
  {
   "cell_type": "code",
   "execution_count": 55,
   "metadata": {
    "colab": {
     "base_uri": "https://localhost:8080/"
    },
    "id": "kF4RblsviINQ",
    "outputId": "cf272a84-0032-4883-fab3-da5967635727"
   },
   "outputs": [
    {
     "name": "stdout",
     "output_type": "stream",
     "text": [
      "0.5129240155220032\n"
     ]
    }
   ],
   "source": [
    "# same as above, calculate  binary_crossentropy\n",
    "from keras.losses import binary_crossentropy\n",
    "real = test.Churn.astype(\"int\").values\n",
    "pred = model.predict(test.drop(\"Churn\",axis=1)).flatten()\n",
    "print(float(binary_crossentropy(real,pred)))"
   ]
  },
  {
   "cell_type": "code",
   "execution_count": 56,
   "metadata": {
    "colab": {
     "base_uri": "https://localhost:8080/"
    },
    "id": "hXWkFNxniKYE",
    "outputId": "c60a4200-5dc2-4c05-c8f8-d31021d122d6"
   },
   "outputs": [
    {
     "name": "stdout",
     "output_type": "stream",
     "text": [
      "0.8651685393258427\n"
     ]
    }
   ],
   "source": [
    "# Again, calculate accuracy\n",
    "pred = [1 if i>0.5 else 0 for i in pred]\n",
    "print(sum(pred==real)/len(pred))"
   ]
  },
  {
   "cell_type": "markdown",
   "metadata": {
    "id": "gWRc4T2hkYrh"
   },
   "source": [
    "Comment: Please explain your model and why the results like this. "
   ]
  },
  {
   "cell_type": "code",
   "execution_count": null,
   "metadata": {},
   "outputs": [],
   "source": [
    "#The gap between two loss functions is still big,the binary_crossentropy is also big. It means we are suffering from \n",
    "#underfitting problem. It is because we use drop out and does not train model enough, the loss does not decrease through \n",
    "#40 epochs. So we might need to do weight regularization and use more epochs to improve our model. "
   ]
  },
  {
   "cell_type": "markdown",
   "metadata": {
    "cell_id": "00018-2cd9032d-4d32-4afa-83c4-1dc2fd0d5892",
    "id": "-q0qSj2AVTR3",
    "tags": []
   },
   "source": [
    "### Please add **L2 Weight Regularization**"
   ]
  },
  {
   "cell_type": "markdown",
   "metadata": {
    "id": "35kHoELaylfe"
   },
   "source": [
    "- Softmax, LR decay, optimizers, units, and layers"
   ]
  },
  {
   "cell_type": "code",
   "execution_count": 57,
   "metadata": {
    "colab": {
     "base_uri": "https://localhost:8080/"
    },
    "id": "GfNrAbA4E1HX",
    "outputId": "34ffd392-607b-48e9-9f88-6afd32fa4161"
   },
   "outputs": [
    {
     "name": "stdout",
     "output_type": "stream",
     "text": [
      "Epoch 1/60\n",
      "89/89 [==============================] - 2s 8ms/step - loss: 1.1501 - accuracy: 0.8523 - val_loss: 0.7170 - val_accuracy: 0.8876\n",
      "Epoch 2/60\n",
      "89/89 [==============================] - 0s 5ms/step - loss: 0.6095 - accuracy: 0.8546 - val_loss: 0.4576 - val_accuracy: 0.8876\n",
      "Epoch 3/60\n",
      "89/89 [==============================] - 0s 5ms/step - loss: 0.4740 - accuracy: 0.8546 - val_loss: 0.4042 - val_accuracy: 0.8876\n",
      "Epoch 4/60\n",
      "89/89 [==============================] - 0s 6ms/step - loss: 0.4400 - accuracy: 0.8546 - val_loss: 0.3789 - val_accuracy: 0.8876\n",
      "Epoch 5/60\n",
      "89/89 [==============================] - 0s 5ms/step - loss: 0.4230 - accuracy: 0.8546 - val_loss: 0.3830 - val_accuracy: 0.8876\n",
      "Epoch 6/60\n",
      "89/89 [==============================] - 0s 6ms/step - loss: 0.4098 - accuracy: 0.8546 - val_loss: 0.3736 - val_accuracy: 0.8876\n",
      "Epoch 7/60\n",
      "89/89 [==============================] - 0s 5ms/step - loss: 0.4044 - accuracy: 0.8546 - val_loss: 0.3628 - val_accuracy: 0.8876\n",
      "Epoch 8/60\n",
      "89/89 [==============================] - 0s 5ms/step - loss: 0.3969 - accuracy: 0.8546 - val_loss: 0.3583 - val_accuracy: 0.8876\n",
      "Epoch 9/60\n",
      "89/89 [==============================] - 0s 5ms/step - loss: 0.3957 - accuracy: 0.8546 - val_loss: 0.3564 - val_accuracy: 0.8876\n",
      "Epoch 10/60\n",
      "89/89 [==============================] - 0s 5ms/step - loss: 0.3907 - accuracy: 0.8569 - val_loss: 0.3791 - val_accuracy: 0.8727\n",
      "Epoch 11/60\n",
      "89/89 [==============================] - 0s 5ms/step - loss: 0.3862 - accuracy: 0.8612 - val_loss: 0.3590 - val_accuracy: 0.8876\n",
      "Epoch 12/60\n",
      "89/89 [==============================] - 0s 5ms/step - loss: 0.3845 - accuracy: 0.8598 - val_loss: 0.3575 - val_accuracy: 0.8839\n",
      "Epoch 13/60\n",
      "89/89 [==============================] - 0s 5ms/step - loss: 0.3796 - accuracy: 0.8644 - val_loss: 0.4089 - val_accuracy: 0.8390\n",
      "Epoch 14/60\n",
      "89/89 [==============================] - 0s 5ms/step - loss: 0.3781 - accuracy: 0.8691 - val_loss: 0.3430 - val_accuracy: 0.8914\n",
      "Epoch 15/60\n",
      "89/89 [==============================] - 0s 5ms/step - loss: 0.3732 - accuracy: 0.8691 - val_loss: 0.3399 - val_accuracy: 0.8914\n",
      "Epoch 16/60\n",
      "89/89 [==============================] - 0s 5ms/step - loss: 0.3701 - accuracy: 0.8715 - val_loss: 0.3427 - val_accuracy: 0.8876\n",
      "Epoch 17/60\n",
      "89/89 [==============================] - 0s 5ms/step - loss: 0.3685 - accuracy: 0.8729 - val_loss: 0.3328 - val_accuracy: 0.8914\n",
      "Epoch 18/60\n",
      "89/89 [==============================] - 0s 5ms/step - loss: 0.3604 - accuracy: 0.8771 - val_loss: 0.3270 - val_accuracy: 0.8914\n",
      "Epoch 19/60\n",
      "89/89 [==============================] - 0s 5ms/step - loss: 0.3520 - accuracy: 0.8823 - val_loss: 0.3284 - val_accuracy: 0.8839\n",
      "Epoch 20/60\n",
      "89/89 [==============================] - 0s 5ms/step - loss: 0.3483 - accuracy: 0.8865 - val_loss: 0.3151 - val_accuracy: 0.8914\n",
      "Epoch 21/60\n",
      "89/89 [==============================] - 0s 5ms/step - loss: 0.3421 - accuracy: 0.8879 - val_loss: 0.3156 - val_accuracy: 0.9064\n",
      "Epoch 22/60\n",
      "89/89 [==============================] - 0s 5ms/step - loss: 0.3342 - accuracy: 0.8954 - val_loss: 0.3437 - val_accuracy: 0.8839\n",
      "Epoch 23/60\n",
      "89/89 [==============================] - 0s 5ms/step - loss: 0.3366 - accuracy: 0.8973 - val_loss: 0.3101 - val_accuracy: 0.8989\n",
      "Epoch 24/60\n",
      "89/89 [==============================] - 0s 5ms/step - loss: 0.3225 - accuracy: 0.8977 - val_loss: 0.3218 - val_accuracy: 0.8989\n",
      "Epoch 25/60\n",
      "89/89 [==============================] - 0s 5ms/step - loss: 0.3286 - accuracy: 0.8907 - val_loss: 0.3178 - val_accuracy: 0.8989\n",
      "Epoch 26/60\n",
      "89/89 [==============================] - 0s 5ms/step - loss: 0.3251 - accuracy: 0.8973 - val_loss: 0.3273 - val_accuracy: 0.8951\n",
      "Epoch 27/60\n",
      "89/89 [==============================] - 0s 5ms/step - loss: 0.3204 - accuracy: 0.9048 - val_loss: 0.2994 - val_accuracy: 0.9064\n",
      "Epoch 28/60\n",
      "89/89 [==============================] - 0s 5ms/step - loss: 0.3176 - accuracy: 0.9038 - val_loss: 0.3125 - val_accuracy: 0.9026\n",
      "Epoch 29/60\n",
      "89/89 [==============================] - 0s 5ms/step - loss: 0.3207 - accuracy: 0.9081 - val_loss: 0.3144 - val_accuracy: 0.9064\n",
      "Epoch 30/60\n",
      "89/89 [==============================] - 0s 5ms/step - loss: 0.3175 - accuracy: 0.9071 - val_loss: 0.3098 - val_accuracy: 0.9101\n",
      "Epoch 31/60\n",
      "89/89 [==============================] - 0s 5ms/step - loss: 0.3100 - accuracy: 0.9085 - val_loss: 0.3122 - val_accuracy: 0.9026\n",
      "Epoch 32/60\n",
      "89/89 [==============================] - 0s 5ms/step - loss: 0.3143 - accuracy: 0.9015 - val_loss: 0.2999 - val_accuracy: 0.9139\n",
      "Epoch 33/60\n",
      "89/89 [==============================] - 0s 5ms/step - loss: 0.3126 - accuracy: 0.9109 - val_loss: 0.3046 - val_accuracy: 0.9064\n",
      "Epoch 34/60\n",
      "89/89 [==============================] - 0s 5ms/step - loss: 0.3090 - accuracy: 0.9071 - val_loss: 0.3064 - val_accuracy: 0.9139\n",
      "Epoch 35/60\n",
      "89/89 [==============================] - 0s 5ms/step - loss: 0.3028 - accuracy: 0.9085 - val_loss: 0.3097 - val_accuracy: 0.9101\n",
      "Epoch 36/60\n",
      "89/89 [==============================] - 0s 5ms/step - loss: 0.3048 - accuracy: 0.9099 - val_loss: 0.3070 - val_accuracy: 0.9064\n",
      "Epoch 37/60\n",
      "89/89 [==============================] - 0s 5ms/step - loss: 0.3026 - accuracy: 0.9156 - val_loss: 0.3052 - val_accuracy: 0.9213\n",
      "Epoch 38/60\n",
      "89/89 [==============================] - 0s 5ms/step - loss: 0.2996 - accuracy: 0.9184 - val_loss: 0.3162 - val_accuracy: 0.9064\n",
      "Epoch 39/60\n",
      "89/89 [==============================] - 0s 5ms/step - loss: 0.3018 - accuracy: 0.9137 - val_loss: 0.3109 - val_accuracy: 0.9139\n",
      "Epoch 40/60\n",
      "89/89 [==============================] - 0s 5ms/step - loss: 0.2976 - accuracy: 0.9118 - val_loss: 0.3119 - val_accuracy: 0.9213\n",
      "Epoch 41/60\n",
      "89/89 [==============================] - 0s 5ms/step - loss: 0.3009 - accuracy: 0.9128 - val_loss: 0.3249 - val_accuracy: 0.9101\n",
      "Epoch 42/60\n",
      "89/89 [==============================] - 0s 5ms/step - loss: 0.3025 - accuracy: 0.9151 - val_loss: 0.3211 - val_accuracy: 0.9176\n",
      "Epoch 43/60\n",
      "89/89 [==============================] - 0s 5ms/step - loss: 0.2955 - accuracy: 0.9193 - val_loss: 0.3215 - val_accuracy: 0.9064\n",
      "Epoch 44/60\n",
      "89/89 [==============================] - 0s 5ms/step - loss: 0.2990 - accuracy: 0.9151 - val_loss: 0.3308 - val_accuracy: 0.9026\n",
      "Epoch 45/60\n",
      "89/89 [==============================] - 0s 5ms/step - loss: 0.2916 - accuracy: 0.9259 - val_loss: 0.3949 - val_accuracy: 0.8989\n",
      "Epoch 46/60\n",
      "89/89 [==============================] - 0s 5ms/step - loss: 0.2972 - accuracy: 0.9151 - val_loss: 0.3309 - val_accuracy: 0.9064\n",
      "Epoch 47/60\n",
      "89/89 [==============================] - 0s 5ms/step - loss: 0.2889 - accuracy: 0.9226 - val_loss: 0.4221 - val_accuracy: 0.8652\n",
      "Epoch 48/60\n",
      "89/89 [==============================] - 0s 5ms/step - loss: 0.2913 - accuracy: 0.9203 - val_loss: 0.3365 - val_accuracy: 0.9176\n",
      "Epoch 49/60\n",
      "89/89 [==============================] - 0s 5ms/step - loss: 0.2909 - accuracy: 0.9132 - val_loss: 0.3338 - val_accuracy: 0.9213\n",
      "Epoch 50/60\n",
      "89/89 [==============================] - 0s 5ms/step - loss: 0.2872 - accuracy: 0.9217 - val_loss: 0.3414 - val_accuracy: 0.9176\n",
      "Epoch 51/60\n",
      "89/89 [==============================] - 0s 5ms/step - loss: 0.2881 - accuracy: 0.9250 - val_loss: 0.3535 - val_accuracy: 0.8989\n",
      "Epoch 52/60\n",
      "89/89 [==============================] - 0s 5ms/step - loss: 0.2905 - accuracy: 0.9156 - val_loss: 0.3484 - val_accuracy: 0.9064\n",
      "Epoch 53/60\n",
      "89/89 [==============================] - 0s 5ms/step - loss: 0.2825 - accuracy: 0.9240 - val_loss: 0.3669 - val_accuracy: 0.8914\n",
      "Epoch 54/60\n",
      "89/89 [==============================] - 0s 5ms/step - loss: 0.2909 - accuracy: 0.9231 - val_loss: 0.3533 - val_accuracy: 0.9176\n",
      "Epoch 55/60\n",
      "89/89 [==============================] - 0s 5ms/step - loss: 0.2841 - accuracy: 0.9217 - val_loss: 0.3607 - val_accuracy: 0.9064\n",
      "Epoch 56/60\n",
      "89/89 [==============================] - 0s 5ms/step - loss: 0.2862 - accuracy: 0.9198 - val_loss: 0.3702 - val_accuracy: 0.9064\n",
      "Epoch 57/60\n",
      "89/89 [==============================] - 0s 5ms/step - loss: 0.2837 - accuracy: 0.9217 - val_loss: 0.3525 - val_accuracy: 0.9064\n",
      "Epoch 58/60\n",
      "89/89 [==============================] - 0s 5ms/step - loss: 0.2817 - accuracy: 0.9198 - val_loss: 0.4019 - val_accuracy: 0.8801\n",
      "Epoch 59/60\n",
      "89/89 [==============================] - 1s 6ms/step - loss: 0.2893 - accuracy: 0.9203 - val_loss: 0.3527 - val_accuracy: 0.9176\n",
      "Epoch 60/60\n",
      "89/89 [==============================] - 1s 6ms/step - loss: 0.2813 - accuracy: 0.9207 - val_loss: 0.4451 - val_accuracy: 0.8689\n"
     ]
    }
   ],
   "source": [
    "# L2\n",
    "\n",
    "model=Sequential()\n",
    "# L2 regularization applied at the first hidden layer\n",
    "model.add(Dense(64,input_shape=(df.shape[1]-1,), activation='relu', kernel_regularizer=\"l2\"))\n",
    "model.add(Dense(64, activation='relu', kernel_regularizer=\"l2\"))\n",
    "model.add(Dense(32, activation='relu'))\n",
    "model.add(Dense(8, activation='relu'))\n",
    "model.add(Dense(1,activation=\"sigmoid\"))\n",
    "model.compile(optimizer='rmsprop', loss='binary_crossentropy', metrics=['accuracy'])\n",
    "history = model.fit(train.drop(\"Churn\",axis=1),train[\"Churn\"],\n",
    "                    validation_data=(validation.drop(\"Churn\",axis=1),validation[\"Churn\"]),\n",
    "          batch_size=24, epochs=60)"
   ]
  },
  {
   "cell_type": "code",
   "execution_count": 58,
   "metadata": {
    "colab": {
     "base_uri": "https://localhost:8080/",
     "height": 283
    },
    "id": "GHNq2v08iSXl",
    "outputId": "39802dd7-a712-4fed-981c-8e3e804c40df"
   },
   "outputs": [
    {
     "data": {
      "text/plain": [
       "<function matplotlib.pyplot.imshow>"
      ]
     },
     "execution_count": 58,
     "metadata": {},
     "output_type": "execute_result"
    },
    {
     "data": {
      "image/png": "[encoded data removed]",
      "text/plain": [
       "<Figure size 432x288 with 1 Axes>"
      ]
     },
     "metadata": {
      "needs_background": "light"
     },
     "output_type": "display_data"
    }
   ],
   "source": [
    "# same as above, plot loss, val_loss\n",
    "plt.plot(history.history[\"loss\"])\n",
    "plt.plot(history.history[\"val_loss\"])\n",
    "plt.imshow"
   ]
  },
  {
   "cell_type": "code",
   "execution_count": 59,
   "metadata": {
    "colab": {
     "base_uri": "https://localhost:8080/",
     "height": 283
    },
    "id": "zgXrNfkciUh9",
    "outputId": "329b3450-4534-4e55-9b29-4ca0983d62b0"
   },
   "outputs": [
    {
     "data": {
      "text/plain": [
       "<function matplotlib.pyplot.imshow>"
      ]
     },
     "execution_count": 59,
     "metadata": {},
     "output_type": "execute_result"
    },
    {
     "data": {
      "image/png": "[encoded data removed]",
      "text/plain": [
       "<Figure size 432x288 with 1 Axes>"
      ]
     },
     "metadata": {
      "needs_background": "light"
     },
     "output_type": "display_data"
    }
   ],
   "source": [
    "# same as above, plot accuracy, val_accuracy\n",
    "plt.plot(history.history[\"accuracy\"])\n",
    "plt.plot(history.history[\"val_accuracy\"])\n",
    "plt.imshow"
   ]
  },
  {
   "cell_type": "code",
   "execution_count": 60,
   "metadata": {
    "colab": {
     "base_uri": "https://localhost:8080/"
    },
    "id": "4ZFOaJV0iWv2",
    "outputId": "2981fc32-23db-4705-dfad-96d322a7b551"
   },
   "outputs": [
    {
     "name": "stdout",
     "output_type": "stream",
     "text": [
      "0.40830284357070923\n"
     ]
    }
   ],
   "source": [
    "# same as above, calculate binary_crossentropy\n",
    "from keras.losses import binary_crossentropy\n",
    "real = test.Churn.astype(\"int\").values\n",
    "pred = model.predict(test.drop(\"Churn\",axis=1)).flatten()\n",
    "print(float(binary_crossentropy(real,pred)))"
   ]
  },
  {
   "cell_type": "code",
   "execution_count": 61,
   "metadata": {
    "colab": {
     "base_uri": "https://localhost:8080/"
    },
    "id": "BvcybHhoiY3m",
    "outputId": "ed31523a-6b08-4e03-94d5-7405429c2f4b"
   },
   "outputs": [
    {
     "name": "stdout",
     "output_type": "stream",
     "text": [
      "0.846441947565543\n"
     ]
    }
   ],
   "source": [
    "# Again, calculate accuracy\n",
    "pred = [1 if i>0.5 else 0 for i in pred]\n",
    "print(sum(pred==real)/len(pred))"
   ]
  },
  {
   "cell_type": "markdown",
   "metadata": {
    "cell_id": "00016-eeb31530-ac08-472f-bbb9-83c9e497f73c",
    "id": "H-MRllZpVTSG",
    "tags": []
   },
   "source": [
    "### Please use **L2 + Dropout together**"
   ]
  },
  {
   "cell_type": "code",
   "execution_count": 62,
   "metadata": {
    "colab": {
     "base_uri": "https://localhost:8080/"
    },
    "id": "fKvP7l2_E4Bl",
    "outputId": "a3545fa4-50ef-4ec7-95eb-61c2326fddb6"
   },
   "outputs": [
    {
     "name": "stdout",
     "output_type": "stream",
     "text": [
      "Epoch 1/58\n",
      "107/107 [==============================] - 2s 7ms/step - loss: 0.8379 - accuracy: 0.8546 - val_loss: 0.5285 - val_accuracy: 0.8876\n",
      "Epoch 2/58\n",
      "107/107 [==============================] - 1s 5ms/step - loss: 0.4951 - accuracy: 0.8546 - val_loss: 0.4000 - val_accuracy: 0.8876\n",
      "Epoch 3/58\n",
      "107/107 [==============================] - 1s 5ms/step - loss: 0.4390 - accuracy: 0.8546 - val_loss: 0.3861 - val_accuracy: 0.8876\n",
      "Epoch 4/58\n",
      "107/107 [==============================] - 1s 5ms/step - loss: 0.4247 - accuracy: 0.8546 - val_loss: 0.3717 - val_accuracy: 0.8876\n",
      "Epoch 5/58\n",
      "107/107 [==============================] - 1s 5ms/step - loss: 0.4165 - accuracy: 0.8546 - val_loss: 0.3712 - val_accuracy: 0.8876\n",
      "Epoch 6/58\n",
      "107/107 [==============================] - 0s 5ms/step - loss: 0.4068 - accuracy: 0.8546 - val_loss: 0.3626 - val_accuracy: 0.8876\n",
      "Epoch 7/58\n",
      "107/107 [==============================] - 1s 5ms/step - loss: 0.4057 - accuracy: 0.8546 - val_loss: 0.4465 - val_accuracy: 0.8876\n",
      "Epoch 8/58\n",
      "107/107 [==============================] - 1s 5ms/step - loss: 0.4071 - accuracy: 0.8546 - val_loss: 0.3636 - val_accuracy: 0.8876\n",
      "Epoch 9/58\n",
      "107/107 [==============================] - 1s 5ms/step - loss: 0.4043 - accuracy: 0.8546 - val_loss: 0.3615 - val_accuracy: 0.8876\n",
      "Epoch 10/58\n",
      "107/107 [==============================] - 1s 5ms/step - loss: 0.4008 - accuracy: 0.8546 - val_loss: 0.3687 - val_accuracy: 0.8876\n",
      "Epoch 11/58\n",
      "107/107 [==============================] - 1s 5ms/step - loss: 0.3983 - accuracy: 0.8546 - val_loss: 0.3593 - val_accuracy: 0.8876\n",
      "Epoch 12/58\n",
      "107/107 [==============================] - 1s 5ms/step - loss: 0.3967 - accuracy: 0.8546 - val_loss: 0.3572 - val_accuracy: 0.8876\n",
      "Epoch 13/58\n",
      "107/107 [==============================] - 1s 5ms/step - loss: 0.3949 - accuracy: 0.8607 - val_loss: 0.3557 - val_accuracy: 0.8914\n",
      "Epoch 14/58\n",
      "107/107 [==============================] - 1s 5ms/step - loss: 0.3881 - accuracy: 0.8630 - val_loss: 0.3582 - val_accuracy: 0.8801\n",
      "Epoch 15/58\n",
      "107/107 [==============================] - 1s 5ms/step - loss: 0.3947 - accuracy: 0.8630 - val_loss: 0.3549 - val_accuracy: 0.8914\n",
      "Epoch 16/58\n",
      "107/107 [==============================] - 1s 5ms/step - loss: 0.3828 - accuracy: 0.8687 - val_loss: 0.3424 - val_accuracy: 0.8951\n",
      "Epoch 17/58\n",
      "107/107 [==============================] - 1s 5ms/step - loss: 0.3847 - accuracy: 0.8696 - val_loss: 0.3502 - val_accuracy: 0.8989\n",
      "Epoch 18/58\n",
      "107/107 [==============================] - 1s 5ms/step - loss: 0.3757 - accuracy: 0.8734 - val_loss: 0.3341 - val_accuracy: 0.8876\n",
      "Epoch 19/58\n",
      "107/107 [==============================] - 1s 5ms/step - loss: 0.3737 - accuracy: 0.8743 - val_loss: 0.3582 - val_accuracy: 0.8914\n",
      "Epoch 20/58\n",
      "107/107 [==============================] - 1s 5ms/step - loss: 0.3734 - accuracy: 0.8809 - val_loss: 0.3427 - val_accuracy: 0.8951\n",
      "Epoch 21/58\n",
      "107/107 [==============================] - 1s 5ms/step - loss: 0.3696 - accuracy: 0.8748 - val_loss: 0.3425 - val_accuracy: 0.8989\n",
      "Epoch 22/58\n",
      "107/107 [==============================] - 1s 5ms/step - loss: 0.3713 - accuracy: 0.8809 - val_loss: 0.3298 - val_accuracy: 0.8951\n",
      "Epoch 23/58\n",
      "107/107 [==============================] - 1s 5ms/step - loss: 0.3659 - accuracy: 0.8785 - val_loss: 0.3409 - val_accuracy: 0.8876\n",
      "Epoch 24/58\n",
      "107/107 [==============================] - 1s 5ms/step - loss: 0.3653 - accuracy: 0.8809 - val_loss: 0.3271 - val_accuracy: 0.8951\n",
      "Epoch 25/58\n",
      "107/107 [==============================] - 1s 5ms/step - loss: 0.3587 - accuracy: 0.8907 - val_loss: 0.3301 - val_accuracy: 0.9026\n",
      "Epoch 26/58\n",
      "107/107 [==============================] - 1s 5ms/step - loss: 0.3504 - accuracy: 0.8827 - val_loss: 0.3420 - val_accuracy: 0.8839\n",
      "Epoch 27/58\n",
      "107/107 [==============================] - 1s 5ms/step - loss: 0.3490 - accuracy: 0.8982 - val_loss: 0.3253 - val_accuracy: 0.9064\n",
      "Epoch 28/58\n",
      "107/107 [==============================] - 0s 5ms/step - loss: 0.3458 - accuracy: 0.8935 - val_loss: 0.3206 - val_accuracy: 0.9176\n",
      "Epoch 29/58\n",
      "107/107 [==============================] - 1s 5ms/step - loss: 0.3459 - accuracy: 0.8977 - val_loss: 0.3232 - val_accuracy: 0.8951\n",
      "Epoch 30/58\n",
      "107/107 [==============================] - 1s 5ms/step - loss: 0.3366 - accuracy: 0.8982 - val_loss: 0.3142 - val_accuracy: 0.9139\n",
      "Epoch 31/58\n",
      "107/107 [==============================] - 1s 5ms/step - loss: 0.3421 - accuracy: 0.9053 - val_loss: 0.3135 - val_accuracy: 0.9176\n",
      "Epoch 32/58\n",
      "107/107 [==============================] - 1s 5ms/step - loss: 0.3318 - accuracy: 0.9062 - val_loss: 0.3220 - val_accuracy: 0.9026\n",
      "Epoch 33/58\n",
      "107/107 [==============================] - 1s 5ms/step - loss: 0.3322 - accuracy: 0.9029 - val_loss: 0.3421 - val_accuracy: 0.9064\n",
      "Epoch 34/58\n",
      "107/107 [==============================] - 1s 5ms/step - loss: 0.3284 - accuracy: 0.9029 - val_loss: 0.3134 - val_accuracy: 0.9139\n",
      "Epoch 35/58\n",
      "107/107 [==============================] - 1s 5ms/step - loss: 0.3229 - accuracy: 0.9057 - val_loss: 0.3318 - val_accuracy: 0.9101\n",
      "Epoch 36/58\n",
      "107/107 [==============================] - 1s 5ms/step - loss: 0.3184 - accuracy: 0.9034 - val_loss: 0.3260 - val_accuracy: 0.9139\n",
      "Epoch 37/58\n",
      "107/107 [==============================] - 1s 5ms/step - loss: 0.3201 - accuracy: 0.9053 - val_loss: 0.4024 - val_accuracy: 0.8539\n",
      "Epoch 38/58\n",
      "107/107 [==============================] - 1s 5ms/step - loss: 0.3193 - accuracy: 0.9067 - val_loss: 0.3284 - val_accuracy: 0.9064\n",
      "Epoch 39/58\n",
      "107/107 [==============================] - 1s 5ms/step - loss: 0.3201 - accuracy: 0.9053 - val_loss: 0.3174 - val_accuracy: 0.9213\n",
      "Epoch 40/58\n",
      "107/107 [==============================] - 1s 5ms/step - loss: 0.3214 - accuracy: 0.9062 - val_loss: 0.3349 - val_accuracy: 0.9026\n",
      "Epoch 41/58\n",
      "107/107 [==============================] - 1s 5ms/step - loss: 0.3100 - accuracy: 0.9043 - val_loss: 0.3655 - val_accuracy: 0.8801\n",
      "Epoch 42/58\n",
      "107/107 [==============================] - 1s 5ms/step - loss: 0.3051 - accuracy: 0.9132 - val_loss: 0.3338 - val_accuracy: 0.9026\n",
      "Epoch 43/58\n",
      "107/107 [==============================] - 1s 5ms/step - loss: 0.3135 - accuracy: 0.9043 - val_loss: 0.3112 - val_accuracy: 0.9213\n",
      "Epoch 44/58\n",
      "107/107 [==============================] - 1s 5ms/step - loss: 0.3151 - accuracy: 0.9081 - val_loss: 0.3143 - val_accuracy: 0.9064\n",
      "Epoch 45/58\n",
      "107/107 [==============================] - 1s 5ms/step - loss: 0.3039 - accuracy: 0.9062 - val_loss: 0.3262 - val_accuracy: 0.9176\n",
      "Epoch 46/58\n",
      "107/107 [==============================] - 1s 5ms/step - loss: 0.3032 - accuracy: 0.9160 - val_loss: 0.3426 - val_accuracy: 0.8951\n",
      "Epoch 47/58\n",
      "107/107 [==============================] - 1s 5ms/step - loss: 0.3056 - accuracy: 0.9067 - val_loss: 0.2958 - val_accuracy: 0.9251\n",
      "Epoch 48/58\n",
      "107/107 [==============================] - 1s 5ms/step - loss: 0.2974 - accuracy: 0.9118 - val_loss: 0.3171 - val_accuracy: 0.9139\n",
      "Epoch 49/58\n",
      "107/107 [==============================] - 1s 5ms/step - loss: 0.2968 - accuracy: 0.9137 - val_loss: 0.3274 - val_accuracy: 0.9101\n",
      "Epoch 50/58\n",
      "107/107 [==============================] - 1s 5ms/step - loss: 0.3070 - accuracy: 0.9085 - val_loss: 0.3405 - val_accuracy: 0.9026\n",
      "Epoch 51/58\n",
      "107/107 [==============================] - 1s 5ms/step - loss: 0.3073 - accuracy: 0.9104 - val_loss: 0.3029 - val_accuracy: 0.9064\n",
      "Epoch 52/58\n",
      "107/107 [==============================] - 1s 5ms/step - loss: 0.2987 - accuracy: 0.9142 - val_loss: 0.3273 - val_accuracy: 0.9176\n",
      "Epoch 53/58\n",
      "107/107 [==============================] - 1s 5ms/step - loss: 0.3028 - accuracy: 0.9137 - val_loss: 0.3790 - val_accuracy: 0.8764\n",
      "Epoch 54/58\n",
      "107/107 [==============================] - 1s 5ms/step - loss: 0.3024 - accuracy: 0.9109 - val_loss: 0.3161 - val_accuracy: 0.9139\n",
      "Epoch 55/58\n",
      "107/107 [==============================] - 1s 5ms/step - loss: 0.3011 - accuracy: 0.9090 - val_loss: 0.3229 - val_accuracy: 0.9176\n",
      "Epoch 56/58\n",
      "107/107 [==============================] - 1s 5ms/step - loss: 0.2987 - accuracy: 0.9151 - val_loss: 0.3217 - val_accuracy: 0.9213\n",
      "Epoch 57/58\n",
      "107/107 [==============================] - 1s 5ms/step - loss: 0.3058 - accuracy: 0.9128 - val_loss: 0.3304 - val_accuracy: 0.9064\n",
      "Epoch 58/58\n",
      "107/107 [==============================] - 1s 5ms/step - loss: 0.3075 - accuracy: 0.9085 - val_loss: 0.3179 - val_accuracy: 0.9176\n"
     ]
    }
   ],
   "source": [
    "# Dropout + L2\n",
    "\n",
    "model=Sequential()\n",
    "model.add(Dense(128,input_shape=(df.shape[1]-1,), activation='relu', kernel_regularizer=\"l2\"))\n",
    "#model.add(Dense(128,input_shape=(df.shape[1]-1,), activation='relu', kernel_regularizer=\"12\"))\n",
    "model.add(Dropout(0.15))\n",
    "model.add(Dense(32, activation='relu'))\n",
    "model.add(Dropout(0.15))\n",
    "#model.add(Dense(32, activation='relu'))\n",
    "model.add(Dense(8, activation='relu'))\n",
    "model.add(Dense(1,activation=\"sigmoid\"))\n",
    "model.compile(optimizer='rmsprop', loss='binary_crossentropy', metrics=['accuracy'])\n",
    "history = model.fit(train.drop(\"Churn\",axis=1),train[\"Churn\"],\n",
    "                    validation_data=(validation.drop(\"Churn\",axis=1),validation[\"Churn\"]),\n",
    "          batch_size=20, epochs=58)\n"
   ]
  },
  {
   "cell_type": "code",
   "execution_count": 63,
   "metadata": {
    "colab": {
     "base_uri": "https://localhost:8080/",
     "height": 283
    },
    "id": "4Vm-M3IdiceC",
    "outputId": "0d019e11-441e-4e8e-9575-2a0f52dd62f1"
   },
   "outputs": [
    {
     "data": {
      "text/plain": [
       "<function matplotlib.pyplot.imshow>"
      ]
     },
     "execution_count": 63,
     "metadata": {},
     "output_type": "execute_result"
    },
    {
     "data": {
      "image/png": "[encoded data removed]",
      "text/plain": [
       "<Figure size 432x288 with 1 Axes>"
      ]
     },
     "metadata": {
      "needs_background": "light"
     },
     "output_type": "display_data"
    }
   ],
   "source": [
    "plt.plot(history.history[\"loss\"])\n",
    "plt.plot(history.history[\"val_loss\"])\n",
    "plt.imshow"
   ]
  },
  {
   "cell_type": "code",
   "execution_count": 64,
   "metadata": {
    "colab": {
     "base_uri": "https://localhost:8080/",
     "height": 283
    },
    "id": "mUHO3GDVieqj",
    "outputId": "8504ce0d-33d9-4829-c7ae-db9d2194bb9c"
   },
   "outputs": [
    {
     "data": {
      "text/plain": [
       "<function matplotlib.pyplot.imshow>"
      ]
     },
     "execution_count": 64,
     "metadata": {},
     "output_type": "execute_result"
    },
    {
     "data": {
      "image/png": "[encoded data removed]",
      "text/plain": [
       "<Figure size 432x288 with 1 Axes>"
      ]
     },
     "metadata": {
      "needs_background": "light"
     },
     "output_type": "display_data"
    }
   ],
   "source": [
    "plt.plot(history.history[\"accuracy\"])\n",
    "plt.plot(history.history[\"val_accuracy\"])\n",
    "plt.imshow"
   ]
  },
  {
   "cell_type": "code",
   "execution_count": 65,
   "metadata": {
    "colab": {
     "base_uri": "https://localhost:8080/"
    },
    "id": "WcNpuo4-ig9M",
    "outputId": "6135cfa8-9c09-4235-c158-69949a1e99b2"
   },
   "outputs": [
    {
     "name": "stdout",
     "output_type": "stream",
     "text": [
      "0.3703896999359131\n"
     ]
    }
   ],
   "source": [
    "from keras.losses import binary_crossentropy\n",
    "real = test.Churn.astype(\"int\").values\n",
    "pred = model.predict(test.drop(\"Churn\",axis=1)).flatten()\n",
    "print(float(binary_crossentropy(real,pred)))"
   ]
  },
  {
   "cell_type": "code",
   "execution_count": 66,
   "metadata": {
    "colab": {
     "base_uri": "https://localhost:8080/"
    },
    "id": "1nxVw63IijKR",
    "outputId": "6dbb9b31-ac97-4755-fd31-a12a657825d6"
   },
   "outputs": [
    {
     "name": "stdout",
     "output_type": "stream",
     "text": [
      "0.8838951310861424\n"
     ]
    }
   ],
   "source": [
    "# Again, calculate accuracy\n",
    "pred = [1 if i>0.5 else 0 for i in pred]\n",
    "print(sum(pred==real)/len(pred))"
   ]
  },
  {
   "cell_type": "markdown",
   "metadata": {
    "id": "OkuPBkhhks2q"
   },
   "source": [
    "Comment: Please explain your model and why the results like this. "
   ]
  },
  {
   "cell_type": "code",
   "execution_count": 1,
   "metadata": {},
   "outputs": [],
   "source": [
    "#This model has the best result of accuracy and also dispaly the least loss results. We add more epochs for this model and then\n",
    "#add wieght regularization, so we got a great result. "
   ]
  },
  {
   "cell_type": "markdown",
   "metadata": {
    "id": "UvUR54Neze2Y"
   },
   "source": [
    "## Q5: Please interpret all results here!"
   ]
  },
  {
   "cell_type": "markdown",
   "metadata": {
    "id": "JH5oDhD1zlpJ"
   },
   "source": [
    "Note: Please explain what did you see and how to improve the model. You can compare all models and show what we need to do if we have overfitting and underfitting in the model. \n",
    "\n",
    "Comment: For sure L2 + Dropout together is the best. It improve the acuuracy from 0.84 to 0.88"
   ]
  },
  {
   "cell_type": "markdown",
   "metadata": {
    "id": "bbdogwakzvIi"
   },
   "source": [
    "If you have questions, please contact with me.\n",
    "\n",
    "Salih Tutun, PhD\n",
    "\n",
    "salihtutun@wustl.edu"
   ]
  }
 ],
 "metadata": {
  "accelerator": "GPU",
  "colab": {
   "collapsed_sections": [],
   "name": "Lab-Based Group Assignment --2.ipynb",
   "provenance": []
  },
  "deepnote_execution_queue": [],
  "deepnote_notebook_id": "fc30075b-d035-4a92-901d-48b19f00b1a6",
  "kernelspec": {
   "display_name": "Python 3",
   "language": "python",
   "name": "python3"
  },
  "language_info": {
   "codemirror_mode": {
    "name": "ipython",
    "version": 3
   },
   "file_extension": ".py",
   "mimetype": "text/x-python",
   "name": "python",
   "nbconvert_exporter": "python",
   "pygments_lexer": "ipython3",
   "version": "3.8.5"
  }
 },
 "nbformat": 4,
 "nbformat_minor": 1
}
