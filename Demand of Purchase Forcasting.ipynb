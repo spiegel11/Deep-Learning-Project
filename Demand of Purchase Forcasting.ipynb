{
 "cells": [
  {
   "cell_type": "markdown",
   "metadata": {
    "id": "EpyTIP3Qk0R1"
   },
   "source": [
    "# Individual Assignment 1: \n",
    "## Forecasting the Demand of Purchasing during the Christmas Vacation"
   ]
  },
  {
   "cell_type": "markdown",
   "metadata": {
    "id": "weeWUm4ET9Eb"
   },
   "source": [
    "![Imgur](https://i.imgur.com/4HJknC2.png)"
   ]
  },
  {
   "cell_type": "markdown",
   "metadata": {
    "id": "Jgo1dpsP7a2e"
   },
   "source": [
    "Problem:For individual assignment 1, please design your neural network with two hidden layers. At the same time, you can change the parameters for improving accuracy. Please explain what to do in Colab notebook one by one."
   ]
  },
  {
   "cell_type": "markdown",
   "metadata": {
    "id": "QiKywKk5k0R2"
   },
   "source": [
    "## Business Objectives : Demand Forecasting\n",
    "\n",
    "This case study aims to identify <font color='green'>**the demand of purchasing** </font>  during the Christmas vacation. The cookie store can use the prediction result to send coupons to those customers with lower desire to purchase and thus improve the sale during the Christmas Vacation. It can also be used to foresee how many cookies are needed in the coming Christmas Vacation and therefore help the store better prepare for the busy season."
   ]
  },
  {
   "cell_type": "markdown",
   "metadata": {
    "id": "QLJRcr4uk0R1"
   },
   "source": [
    "![Imgur](https://i.imgur.com/t2G4BwY.png)\n",
    "\n",
    "**Credit:** Procurement Academy"
   ]
  },
  {
   "cell_type": "markdown",
   "metadata": {
    "id": "BzkGYNWxk0R3"
   },
   "source": [
    "### Business Problem and Question\n",
    "\n",
    "Please <font color='green'>**forecast the demand of purchase of a customer in the coming Christmas Vacation given his/her previous purchase information** </font> by using Artificial Neural Networks. You can find the dataset in the data folder, and explain the solution step by step below:"
   ]
  },
  {
   "cell_type": "code",
   "execution_count": null,
   "metadata": {
    "colab": {
     "base_uri": "https://localhost:8080/"
    },
    "id": "d7gZYiA5SFjl",
    "outputId": "e62de39d-9443-459f-fba3-62743ae8fd5b"
   },
   "outputs": [
    {
     "name": "stdout",
     "output_type": "stream",
     "text": [
      "Mounted at /content/drive\n"
     ]
    }
   ],
   "source": [
    "#Mount with Google Drive\n",
    "from google.colab import drive\n",
    "drive.mount('/content/drive')"
   ]
  },
  {
   "cell_type": "markdown",
   "metadata": {
    "id": "zFJ7mnY0hR4V"
   },
   "source": [
    "You can os then you can all your dataset as well. "
   ]
  },
  {
   "cell_type": "code",
   "execution_count": null,
   "metadata": {
    "id": "KzUmucg58v2B"
   },
   "outputs": [],
   "source": [
    "import os \n",
    "os.chdir('/content/drive/MyDrive/My Courses/Deep Learning for Business/Colab Files/SP2021/Colab Files for Assignments/Module 1 Assignments/Datasets/')"
   ]
  },
  {
   "cell_type": "markdown",
   "metadata": {
    "id": "pUIyVMRPKHIv"
   },
   "source": [
    "Please explain everything in the detail below."
   ]
  },
  {
   "cell_type": "markdown",
   "metadata": {
    "id": "D6p_7jX4k0R3"
   },
   "source": [
    "### Part1: Explore the data"
   ]
  },
  {
   "cell_type": "code",
   "execution_count": null,
   "metadata": {
    "id": "fUGyx7bzk0R4"
   },
   "outputs": [],
   "source": [
    "import numpy as np\n",
    "import pandas as pd \n",
    "\n",
    "#import the data as a pandas dataframe\n",
    "cookie_data = pd.read_excel(\"cookie_business.xlsx\", sheet_name=\"Sheet1\")"
   ]
  },
  {
   "cell_type": "code",
   "execution_count": null,
   "metadata": {
    "colab": {
     "base_uri": "https://localhost:8080/"
    },
    "id": "e5PBOVUJShHA",
    "outputId": "55e78c9e-8be0-4b57-a8c1-f05bde676180"
   },
   "outputs": [
    {
     "data": {
      "text/plain": [
       "Index(['Age', 'Postcode', 'Gender', 'Favourite Cookie',\n",
       "       'Cookies bought frequency during Chrismas vaccations in the last 5 years'],\n",
       "      dtype='object')"
      ]
     },
     "execution_count": 4,
     "metadata": {
      "tags": []
     },
     "output_type": "execute_result"
    }
   ],
   "source": [
    "cookie_data.columns"
   ]
  },
  {
   "cell_type": "code",
   "execution_count": null,
   "metadata": {
    "colab": {
     "base_uri": "https://localhost:8080/",
     "height": 206
    },
    "id": "nIBMjf_wk0R8",
    "outputId": "961d739c-8173-4339-d165-faafb25e2459"
   },
   "outputs": [
    {
     "data": {
      "text/html": [
       "<div>\n",
       "<style scoped>\n",
       "    .dataframe tbody tr th:only-of-type {\n",
       "        vertical-align: middle;\n",
       "    }\n",
       "\n",
       "    .dataframe tbody tr th {\n",
       "        vertical-align: top;\n",
       "    }\n",
       "\n",
       "    .dataframe thead th {\n",
       "        text-align: right;\n",
       "    }\n",
       "</style>\n",
       "<table border=\"1\" class=\"dataframe\">\n",
       "  <thead>\n",
       "    <tr style=\"text-align: right;\">\n",
       "      <th></th>\n",
       "      <th>Age</th>\n",
       "      <th>Postcode</th>\n",
       "      <th>Gender</th>\n",
       "      <th>Favourite Cookie</th>\n",
       "      <th>Cookies bought frequency during Chrismas vaccations in the last 5 years</th>\n",
       "    </tr>\n",
       "  </thead>\n",
       "  <tbody>\n",
       "    <tr>\n",
       "      <th>0</th>\n",
       "      <td>22</td>\n",
       "      <td>2010</td>\n",
       "      <td>0</td>\n",
       "      <td>1</td>\n",
       "      <td>0.08</td>\n",
       "    </tr>\n",
       "    <tr>\n",
       "      <th>1</th>\n",
       "      <td>30</td>\n",
       "      <td>2010</td>\n",
       "      <td>0</td>\n",
       "      <td>1</td>\n",
       "      <td>0.24</td>\n",
       "    </tr>\n",
       "    <tr>\n",
       "      <th>2</th>\n",
       "      <td>60</td>\n",
       "      <td>2000</td>\n",
       "      <td>1</td>\n",
       "      <td>1</td>\n",
       "      <td>0.04</td>\n",
       "    </tr>\n",
       "    <tr>\n",
       "      <th>3</th>\n",
       "      <td>53</td>\n",
       "      <td>2010</td>\n",
       "      <td>1</td>\n",
       "      <td>1</td>\n",
       "      <td>0.04</td>\n",
       "    </tr>\n",
       "    <tr>\n",
       "      <th>4</th>\n",
       "      <td>37</td>\n",
       "      <td>2000</td>\n",
       "      <td>0</td>\n",
       "      <td>1</td>\n",
       "      <td>0.08</td>\n",
       "    </tr>\n",
       "  </tbody>\n",
       "</table>\n",
       "</div>"
      ],
      "text/plain": [
       "   Age  ...  Cookies bought frequency during Chrismas vaccations in the last 5 years\n",
       "0   22  ...                                               0.08                      \n",
       "1   30  ...                                               0.24                      \n",
       "2   60  ...                                               0.04                      \n",
       "3   53  ...                                               0.04                      \n",
       "4   37  ...                                               0.08                      \n",
       "\n",
       "[5 rows x 5 columns]"
      ]
     },
     "execution_count": 5,
     "metadata": {
      "tags": []
     },
     "output_type": "execute_result"
    }
   ],
   "source": [
    "#View the head of the data\n",
    "cookie_data.head()"
   ]
  },
  {
   "cell_type": "code",
   "execution_count": null,
   "metadata": {
    "id": "lpZlb0CznrWg"
   },
   "outputs": [],
   "source": [
    "cookie_data=cookie_data.drop(\"Postcode\",axis=1)\n",
    "cookie_data=cookie_data.drop(\"Favourite Cookie\",axis=1)\n",
    "cookie_data[\"Age\"]/=100"
   ]
  },
  {
   "cell_type": "code",
   "execution_count": null,
   "metadata": {
    "colab": {
     "base_uri": "https://localhost:8080/"
    },
    "id": "aj80zFgtk0R_",
    "outputId": "8baecdf0-65b6-4142-fd83-9e3625d8e637"
   },
   "outputs": [
    {
     "data": {
      "text/plain": [
       "(46, 3)"
      ]
     },
     "execution_count": 8,
     "metadata": {
      "tags": []
     },
     "output_type": "execute_result"
    }
   ],
   "source": [
    "#What's the demension of the data\n",
    "cookie_data.shape"
   ]
  },
  {
   "cell_type": "code",
   "execution_count": null,
   "metadata": {
    "colab": {
     "base_uri": "https://localhost:8080/",
     "height": 238
    },
    "id": "OOU7p7MxShHP",
    "outputId": "1ed4fe6a-37c7-4f0c-c169-d2c0ba64dafa"
   },
   "outputs": [
    {
     "data": {
      "text/html": [
       "<div>\n",
       "<style scoped>\n",
       "    .dataframe tbody tr th:only-of-type {\n",
       "        vertical-align: middle;\n",
       "    }\n",
       "\n",
       "    .dataframe tbody tr th {\n",
       "        vertical-align: top;\n",
       "    }\n",
       "\n",
       "    .dataframe thead th {\n",
       "        text-align: right;\n",
       "    }\n",
       "</style>\n",
       "<table border=\"1\" class=\"dataframe\">\n",
       "  <thead>\n",
       "    <tr style=\"text-align: right;\">\n",
       "      <th></th>\n",
       "      <th>Description</th>\n",
       "    </tr>\n",
       "    <tr>\n",
       "      <th>Column Name</th>\n",
       "      <th></th>\n",
       "    </tr>\n",
       "  </thead>\n",
       "  <tbody>\n",
       "    <tr>\n",
       "      <th>Age</th>\n",
       "      <td>Customer Age</td>\n",
       "    </tr>\n",
       "    <tr>\n",
       "      <th>Postcode</th>\n",
       "      <td>Customer Postcode</td>\n",
       "    </tr>\n",
       "    <tr>\n",
       "      <th>Gender</th>\n",
       "      <td>(0,1) 1 for Female</td>\n",
       "    </tr>\n",
       "    <tr>\n",
       "      <th>Favorite Cookie</th>\n",
       "      <td>Favorite Cookie Type</td>\n",
       "    </tr>\n",
       "    <tr>\n",
       "      <th>Cookies Purchase Frequency</th>\n",
       "      <td>Cookies purchase frequency during Christmas vacations in the last 5 years</td>\n",
       "    </tr>\n",
       "  </tbody>\n",
       "</table>\n",
       "</div>"
      ],
      "text/plain": [
       "                                                                                           Description\n",
       "Column Name                                                                                           \n",
       "Age                                                                                       Customer Age\n",
       "Postcode                                                                             Customer Postcode\n",
       "Gender                                                                              (0,1) 1 for Female\n",
       "Favorite Cookie                                                                   Favorite Cookie Type\n",
       "Cookies Purchase Frequency   Cookies purchase frequency during Christmas vacations in the last 5 years"
      ]
     },
     "execution_count": 9,
     "metadata": {
      "tags": []
     },
     "output_type": "execute_result"
    }
   ],
   "source": [
    "#Column Description is shown below\n",
    "pd.set_option('max_colwidth', 100)\n",
    "pd.read_csv('Cookies Column Description.csv', sep = ';', index_col = 0)"
   ]
  },
  {
   "cell_type": "markdown",
   "metadata": {
    "id": "N9D_F0JVQj0W"
   },
   "source": [
    "<font color='red'>**Plese design a neural network model yourself** </font>"
   ]
  },
  {
   "cell_type": "markdown",
   "metadata": {
    "id": "kTFNlaaIk0SF"
   },
   "source": [
    "### Part2: Design a neural network by yourself"
   ]
  },
  {
   "cell_type": "code",
   "execution_count": null,
   "metadata": {
    "id": "RxIoIpT7k0SC"
   },
   "outputs": [],
   "source": [
    "#Split the data into training(80%) and testing(20%) sets\n",
    "all_index = np.array(cookie_data.index)\n",
    "train_index = np.random.choice(all_index,size=int(len(all_index)*0.8),replace=False)\n",
    "test_index = np.setdiff1d(all_index,train_index)\n",
    "train_data = cookie_data.loc[train_index,]\n",
    "test_data = cookie_data.loc[test_index,]\n"
   ]
  },
  {
   "cell_type": "markdown",
   "metadata": {
    "id": "2loIoX44iLst"
   },
   "source": [
    "## ***Q1: Please design a neural network with 2 hidden layers***\n",
    "You can set the number of neurons for each layer. "
   ]
  },
  {
   "cell_type": "code",
   "execution_count": null,
   "metadata": {
    "id": "c3TCAJcOg_kG"
   },
   "outputs": [],
   "source": [
    "#Design a two hidden layers of neural networks by yourself\n",
    "def my_net(train_data,test_data):\n",
    "\n",
    "#sigmoid activation function\n",
    "    def sigm(x,deriv=False):\n",
    "      if(deriv==True):\n",
    "        return x*(1-x)\n",
    "\n",
    "      return 1/(1+np.exp(-x))\n",
    "\n",
    "#relu activation function\n",
    "    def relu(x,deriv=False):\n",
    "      if(deriv==True):\n",
    "        \n",
    "        #return the first order derivative\n",
    "        return x>0\n",
    "    \n",
    "    #return the function\n",
    "      return (x>0)*x\n",
    "\n",
    "    X = train_data.iloc[:,0:-1].values\n",
    "    y = train_data.iloc[:,-1].values\n",
    "    y = np.reshape(y,(train_data.shape[0],1))\n",
    "\n",
    "\n",
    "    w0 = 2*np.random.random((?,?))-1\n",
    "    w1 = 2*np.random.random((?,?))-1\n",
    "    w2 = 2*np.random.random((?,?))-1\n",
    "\n",
    "\n",
    "\n",
    "    print(w0)\n",
    "\n",
    "    for j in range(100):\n",
    "        a0 = X\n",
    "        a1 = relu(np.dot(?,?))\n",
    "        a2 = relu(np.dot(?,?))\n",
    "        a3 = sigm(np.dot(?,?))\n",
    "\n",
    "        a3_error = y-a3\n",
    "        a3_delta=a3_error*sigm(?,deriv=?)\n",
    "\n",
    "        a2_error = a3_delta.dot(?.T)\n",
    "        a2_delta = a2_error*relu(a2,deriv=?)\n",
    "        \n",
    "        a1_error = a2_delta.dot(?.T)\n",
    "        a1_delta = a1_error*relu(a1,deriv=?)\n",
    "\n",
    "        w2 += a2.T.dot(?)\n",
    "        w1 += a1.T.dot(?)\n",
    "        w0 += a0.T.dot(?)\n",
    "        # print(w0,w1,w2)\n",
    "\n",
    "    print(\"Training MSE: \",((a2-y)**2).sum()/len(a2))\n",
    "    X = test_data.iloc[:,0:-1].values           \n",
    "    y = test_data.iloc[-1].values\n",
    "    a0 = X\n",
    "    a1 = relu(np.dot(a0,w0))\n",
    "    a2 = relu(np.dot(a1,w1))\n",
    "    a3 = relu(np.dot(a2,w2))\n",
    "\n",
    "    a3_error = y-a3\n",
    "    # print(a3)\n",
    "    return (np.mean(a3_error**2))\n",
    "    #return(np.mean(abs(a2_error)))\n",
    "\n",
    "my_score = my_net(train_data,test_data)\n",
    "print('Test MSE: ' + str(my_score))"
   ]
  },
  {
   "cell_type": "markdown",
   "metadata": {
    "id": "7j8y3Kg5Yf2p"
   },
   "source": [
    "## ***Q2: Please explain what is w0 (weight 0), w1, and w2 in the model. What is the dimension of weights and why is it set to this dimension?***\n",
    "\n",
    " \n",
    "\n"
   ]
  }
 ],
 "metadata": {
  "colab": {
   "collapsed_sections": [],
   "name": "Individual_Assignment_1.ipynb",
   "provenance": []
  },
  "kernelspec": {
   "display_name": "Python 3",
   "language": "python",
   "name": "python3"
  },
  "language_info": {
   "codemirror_mode": {
    "name": "ipython",
    "version": 3
   },
   "file_extension": ".py",
   "mimetype": "text/x-python",
   "name": "python",
   "nbconvert_exporter": "python",
   "pygments_lexer": "ipython3",
   "version": "3.8.5"
  }
 },
 "nbformat": 4,
 "nbformat_minor": 1
}
