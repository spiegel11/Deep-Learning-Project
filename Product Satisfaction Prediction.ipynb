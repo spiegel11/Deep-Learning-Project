{
 "cells": [
  {
   "cell_type": "markdown",
   "metadata": {
    "id": "Riegsw_QKnDK"
   },
   "source": [
    "# Lab-based Group Assignment 4: \n",
    "## Prediction of Product Satisfaction by using Customer Reviews"
   ]
  },
  {
   "cell_type": "markdown",
   "metadata": {
    "id": "dSaIjzN5VKK-"
   },
   "source": [
    "![Imgur](https://i.imgur.com/4HJknC2.png)"
   ]
  },
  {
   "cell_type": "markdown",
   "metadata": {
    "id": "n0DVYpI-sA4C"
   },
   "source": [
    "## Business Problem\n",
    "For clothing companies, it is very important to quantify customers' satisfaction on your products so that customer retention team could intervene with corresponding measures before the customers churn due to dissatisfaction (e.g. provide refund for customers who have very low satisfaction on your product, while only provide replacement for customers who have relatively low satisfaction).  \n",
    "  \n",
    "Such kind of quantification is very easy to do on e-commerce websites since customers who write reviews for products would also providing a rating for the product. However, for customers who shop offline and for those who discuss about the products through other online channels such as Twitter and blogs, such kind of quantification doesn't exist, which hinders the ability of a company to retain these customers.  \n",
    "  \n",
    "Therefore, it is crucial for a company to create a satisfaction rating prediction model based on customers' discussion.  "
   ]
  },
  {
   "cell_type": "markdown",
   "metadata": {
    "id": "ErADbYpXK9bp"
   },
   "source": [
    "![Imgur](https://i.imgur.com/O1XLXaS.png)\n",
    "\n",
    "Credit: Amazon Seller Center"
   ]
  },
  {
   "cell_type": "markdown",
   "metadata": {
    "id": "B1wZvIC1E-q_"
   },
   "source": [
    "## Working with Text Data"
   ]
  },
  {
   "cell_type": "markdown",
   "metadata": {
    "id": "xaUtoh-pE_Jv"
   },
   "source": [
    "![Imgur](https://i.imgur.com/CLfKQQP.png)\n",
    "\n",
    "**Credit:** Chollet, Francois \"Deep learning with Python (2017).\""
   ]
  },
  {
   "cell_type": "markdown",
   "metadata": {
    "id": "VWhAiNDdFBVK"
   },
   "source": [
    "## Representing Words"
   ]
  },
  {
   "cell_type": "markdown",
   "metadata": {
    "id": "ucN1Kvq_FEL4"
   },
   "source": [
    "![Imgur](https://i.imgur.com/jeQLzxq.png)"
   ]
  },
  {
   "cell_type": "markdown",
   "metadata": {
    "id": "0laeR7nOhYEi"
   },
   "source": [
    "## Task \n",
    "For this assignment, you are required to create a rating prediction model based on customers' reviews about women's clothing on an e-commerce platform."
   ]
  },
  {
   "cell_type": "markdown",
   "metadata": {
    "id": "M8Yt050isJNk"
   },
   "source": [
    "# File Preparation:\n",
    "\n",
    "Read the data into a dataframe. **Reviews with no rating and ratings with no review text should be excluded from the dataframe.**\n",
    "\n",
    "TIPS:The columns you would use are the rating column and review text column"
   ]
  },
  {
   "cell_type": "code",
   "execution_count": 1,
   "metadata": {
    "colab": {
     "base_uri": "https://localhost:8080/"
    },
    "id": "ba6ph4mLxGo-",
    "outputId": "85afd0e9-1e61-492a-9d84-4d3a47499305"
   },
   "outputs": [
    {
     "name": "stdout",
     "output_type": "stream",
     "text": [
      "Mounted at /content/drive\n"
     ]
    }
   ],
   "source": [
    "from google.colab import drive\n",
    "drive.mount('/content/drive', force_remount=True)"
   ]
  },
  {
   "cell_type": "code",
   "execution_count": 2,
   "metadata": {
    "id": "BELg55x-yj85"
   },
   "outputs": [],
   "source": [
    "import pandas as pd\n",
    "import numpy as np\n",
    "import matplotlib.pyplot as plt\n",
    "import keras\n",
    "\n",
    "df=pd.read_csv(\"/content/drive/MyDrive/Colab Files/Practice Files - Lab 4/Womens Clothing E-Commerce Reviews.csv\",index_col=0)\n",
    "df=df.loc[:,[\"Review Text\",\"Rating\"]].dropna().reset_index(drop=True)"
   ]
  },
  {
   "cell_type": "markdown",
   "metadata": {
    "id": "OtEu_J8_kEc_"
   },
   "source": [
    "After cleaning the data, you should have 22641 reviews available."
   ]
  },
  {
   "cell_type": "code",
   "execution_count": 3,
   "metadata": {
    "colab": {
     "base_uri": "https://localhost:8080/"
    },
    "id": "MyQjL3d3kB8s",
    "outputId": "075da949-484a-4119-b0a8-7ba27b4aac40"
   },
   "outputs": [
    {
     "data": {
      "text/plain": [
       "22641"
      ]
     },
     "execution_count": 3,
     "metadata": {},
     "output_type": "execute_result"
    }
   ],
   "source": [
    "len(df)"
   ]
  },
  {
   "cell_type": "markdown",
   "metadata": {
    "id": "_wmSXJIf5Sj3"
   },
   "source": [
    "**QUESTION:** Let's look at the distribution of the rating, what do you find out? What should you do when splitting training and testing datasets in order to to mitigate potential issues?"
   ]
  },
  {
   "cell_type": "code",
   "execution_count": 4,
   "metadata": {
    "colab": {
     "base_uri": "https://localhost:8080/"
    },
    "id": "w0bCvzsgo0h7",
    "outputId": "8e385c38-8580-40e8-f123-6d84d136e952"
   },
   "outputs": [
    {
     "data": {
      "text/plain": [
       "5    12540\n",
       "4     4908\n",
       "3     2823\n",
       "2     1549\n",
       "1      821\n",
       "Name: Rating, dtype: int64"
      ]
     },
     "execution_count": 4,
     "metadata": {},
     "output_type": "execute_result"
    }
   ],
   "source": [
    "df[\"Rating\"].value_counts()"
   ]
  },
  {
   "cell_type": "markdown",
   "metadata": {
    "id": "xrIdrgjnkMzF"
   },
   "source": [
    "**Answer:**  \n",
    "The distribution of the rating is uneven. Nearly 55% of the reviews have a 5-star rating. Therefore, in order to ensure each subgroup within the population receives proper representation within the sample, we need to do a stratified sampling.  \n",
    "\n",
    "(Two other methods are to give more weights on less reprsented ratings or to give less weight on more represented ratings. This is an advanced sampling technique that is very useful when training on contingencies such as credit fraud)"
   ]
  },
  {
   "cell_type": "markdown",
   "metadata": {
    "id": "YAEMZo27AX0n"
   },
   "source": [
    "Build a train dataset for model training and validation dataset for model assessment.  \n",
    "90% of the data should be used to build the training subset, while 10% of the data should be used to build the validation subset.  \n",
    "You should use review text as the predictor and rating as the outcome.  "
   ]
  },
  {
   "cell_type": "code",
   "execution_count": 5,
   "metadata": {
    "id": "ELbuRhivo2eC"
   },
   "outputs": [],
   "source": [
    "from sklearn.model_selection import train_test_split\n",
    "rev=df[\"Review Text\"]\n",
    "target=df[\"Rating\"]\n",
    "#change the test size here! \n",
    "x_train, x_test, y_train, y_test = train_test_split(rev,target,test_size=0.1,random_state=0,stratify=target)"
   ]
  },
  {
   "cell_type": "markdown",
   "metadata": {
    "id": "A9Y_ucWH_Oig"
   },
   "source": [
    "## 1. Provide a common-sense, non-machine learning baseline prediction\n",
    "**TIPS:**  \n",
    "**Treat rating as a continuous variable for this assignment.**  \n",
    "Although technically, the rating is a categorical variable (you can only choose between 1,2,3,4, and 5). In this scenario, it is possible to treat it as a continuous variable when doing prediction.  \n",
    "For example, a rating of 3.7 generated by the prediction model indicates that the customer has a satisfaction level of around 3-4, with an inclination towards 4.   "
   ]
  },
  {
   "cell_type": "code",
   "execution_count": 6,
   "metadata": {
    "colab": {
     "base_uri": "https://localhost:8080/"
    },
    "id": "et6KKifro4Zz",
    "outputId": "4f2447ea-a872-4435-9a96-1fc65033fac8"
   },
   "outputs": [
    {
     "name": "stdout",
     "output_type": "stream",
     "text": [
      "0.9041474789117512\n"
     ]
    }
   ],
   "source": [
    "average_rating=y_test.mean()\n",
    "mae=0\n",
    "for rating in y_test:\n",
    "  mae+=abs(rating-average_rating)\n",
    "print(mae/len(y_test))"
   ]
  },
  {
   "cell_type": "markdown",
   "metadata": {
    "id": "yrCcyZgtmq0A"
   },
   "source": [
    "**Answer:**  \n",
    "Always predict that the rating is the average rating of the test dataset rating. In this case, the mean absolute percent error is about **0.904**.  \n",
    "\n",
    "(Other metrics include MSE, MAPE, etc)  "
   ]
  },
  {
   "cell_type": "markdown",
   "metadata": {
    "id": "XcbNGgH-CzsP"
   },
   "source": [
    "## Predict the rating using SimpleRNN and your own word embedding,\n",
    "\n",
    "Rubric: Use Tokenizer (one-hot encoding was not recommended in 4.1), use embedding layer, use simpleRNN layer, dropout and stacking are optional"
   ]
  },
  {
   "cell_type": "markdown",
   "metadata": {
    "id": "rGKn7pRhFjL9"
   },
   "source": [
    "## Using pre-trained word embeddings"
   ]
  },
  {
   "cell_type": "markdown",
   "metadata": {
    "id": "n6RStVDeFmAU"
   },
   "source": [
    "![Imgur](https://i.imgur.com/DLK2ywd.png)"
   ]
  },
  {
   "cell_type": "markdown",
   "metadata": {
    "id": "RCfCnnqnFtNx"
   },
   "source": [
    "![Imgur](https://i.imgur.com/LQUIc5o.png)"
   ]
  },
  {
   "cell_type": "markdown",
   "metadata": {
    "id": "LFgu-U57Ft2l"
   },
   "source": [
    "![Imgur](https://i.imgur.com/ZkHz0Rb.png)"
   ]
  },
  {
   "cell_type": "code",
   "execution_count": 7,
   "metadata": {
    "colab": {
     "base_uri": "https://localhost:8080/"
    },
    "id": "IOFGY5rjo7VO",
    "outputId": "92a946d1-10fe-4e2d-d51a-f017ce3f4ece"
   },
   "outputs": [
    {
     "name": "stdout",
     "output_type": "stream",
     "text": [
      "20376 train sequences\n",
      "2265 test sequences\n",
      "Pad sequences (samples x text length)\n",
      "X_train shape: (20376, 20)\n",
      "X_test shape: (2265, 20)\n"
     ]
    }
   ],
   "source": [
    "from keras.preprocessing.sequence import pad_sequences\n",
    "from keras.preprocessing.text import Tokenizer\n",
    "\n",
    "# Number of words to consider as features\n",
    "max_features = 10000      #How many input dimension I have\n",
    "\n",
    "maxlen = 20               #Maximum Sequence Length\n",
    "batch_size = 32\n",
    "\n",
    "#Tokenizing\n",
    "tokenizer=Tokenizer(max_features,oov_token=\"<?>\")\n",
    "tokenizer.fit_on_texts(x_train)\n",
    "X_train=tokenizer.texts_to_sequences(x_train)\n",
    "X_test=tokenizer.texts_to_sequences(x_test)     # Transforms each text in tests to a sequence of integers. it basically takes each word in the text\n",
    "\n",
    "print(len(X_train), 'train sequences')\n",
    "print(len(X_test), 'test sequences')\n",
    "\n",
    "# X_train with upper case \"X\" is tokenized, x_train with lower case \"x\" is not\n",
    "\n",
    "# This turns our lists of integers\n",
    "# into a 2D integer tensor of shape `(samples, maxlen)`\n",
    "print('Pad sequences (samples x text length)')\n",
    "X_train = pad_sequences(X_train, maxlen=maxlen)\n",
    "X_test = pad_sequences(X_test, maxlen=maxlen)\n",
    "print('X_train shape:', X_train.shape)\n",
    "print('X_test shape:', X_test.shape)"
   ]
  },
  {
   "cell_type": "code",
   "execution_count": 8,
   "metadata": {
    "colab": {
     "base_uri": "https://localhost:8080/",
     "height": 419
    },
    "id": "C2ms-Rsfo9ZI",
    "outputId": "156cf960-5e8b-486a-f9e9-9287c69c2908"
   },
   "outputs": [
    {
     "data": {
      "text/html": [
       "<div>\n",
       "<style scoped>\n",
       "    .dataframe tbody tr th:only-of-type {\n",
       "        vertical-align: middle;\n",
       "    }\n",
       "\n",
       "    .dataframe tbody tr th {\n",
       "        vertical-align: top;\n",
       "    }\n",
       "\n",
       "    .dataframe thead th {\n",
       "        text-align: right;\n",
       "    }\n",
       "</style>\n",
       "<table border=\"1\" class=\"dataframe\">\n",
       "  <thead>\n",
       "    <tr style=\"text-align: right;\">\n",
       "      <th></th>\n",
       "      <th>0</th>\n",
       "      <th>1</th>\n",
       "      <th>2</th>\n",
       "      <th>3</th>\n",
       "      <th>4</th>\n",
       "      <th>5</th>\n",
       "      <th>6</th>\n",
       "      <th>7</th>\n",
       "      <th>8</th>\n",
       "      <th>9</th>\n",
       "      <th>10</th>\n",
       "      <th>11</th>\n",
       "      <th>12</th>\n",
       "      <th>13</th>\n",
       "      <th>14</th>\n",
       "      <th>15</th>\n",
       "      <th>16</th>\n",
       "      <th>17</th>\n",
       "      <th>18</th>\n",
       "      <th>19</th>\n",
       "    </tr>\n",
       "  </thead>\n",
       "  <tbody>\n",
       "    <tr>\n",
       "      <th>0</th>\n",
       "      <td>1323</td>\n",
       "      <td>5</td>\n",
       "      <td>893</td>\n",
       "      <td>275</td>\n",
       "      <td>4</td>\n",
       "      <td>2</td>\n",
       "      <td>330</td>\n",
       "      <td>475</td>\n",
       "      <td>5</td>\n",
       "      <td>70</td>\n",
       "      <td>226</td>\n",
       "      <td>17</td>\n",
       "      <td>21</td>\n",
       "      <td>2</td>\n",
       "      <td>26</td>\n",
       "      <td>546</td>\n",
       "      <td>2073</td>\n",
       "      <td>18</td>\n",
       "      <td>187</td>\n",
       "      <td>8142</td>\n",
       "    </tr>\n",
       "    <tr>\n",
       "      <th>1</th>\n",
       "      <td>20</td>\n",
       "      <td>8</td>\n",
       "      <td>57</td>\n",
       "      <td>3</td>\n",
       "      <td>71</td>\n",
       "      <td>5</td>\n",
       "      <td>95</td>\n",
       "      <td>98</td>\n",
       "      <td>4</td>\n",
       "      <td>50</td>\n",
       "      <td>78</td>\n",
       "      <td>150</td>\n",
       "      <td>1161</td>\n",
       "      <td>41</td>\n",
       "      <td>9</td>\n",
       "      <td>104</td>\n",
       "      <td>13</td>\n",
       "      <td>2493</td>\n",
       "      <td>95</td>\n",
       "      <td>636</td>\n",
       "    </tr>\n",
       "    <tr>\n",
       "      <th>2</th>\n",
       "      <td>3</td>\n",
       "      <td>29</td>\n",
       "      <td>1139</td>\n",
       "      <td>3</td>\n",
       "      <td>127</td>\n",
       "      <td>222</td>\n",
       "      <td>544</td>\n",
       "      <td>10</td>\n",
       "      <td>2</td>\n",
       "      <td>105</td>\n",
       "      <td>17</td>\n",
       "      <td>71</td>\n",
       "      <td>267</td>\n",
       "      <td>4</td>\n",
       "      <td>142</td>\n",
       "      <td>6</td>\n",
       "      <td>144</td>\n",
       "      <td>211</td>\n",
       "      <td>152</td>\n",
       "      <td>1681</td>\n",
       "    </tr>\n",
       "    <tr>\n",
       "      <th>3</th>\n",
       "      <td>85</td>\n",
       "      <td>190</td>\n",
       "      <td>2</td>\n",
       "      <td>64</td>\n",
       "      <td>14</td>\n",
       "      <td>8</td>\n",
       "      <td>26</td>\n",
       "      <td>7</td>\n",
       "      <td>17</td>\n",
       "      <td>68</td>\n",
       "      <td>4</td>\n",
       "      <td>202</td>\n",
       "      <td>2</td>\n",
       "      <td>819</td>\n",
       "      <td>26</td>\n",
       "      <td>2</td>\n",
       "      <td>399</td>\n",
       "      <td>7</td>\n",
       "      <td>68</td>\n",
       "      <td>36</td>\n",
       "    </tr>\n",
       "    <tr>\n",
       "      <th>4</th>\n",
       "      <td>3</td>\n",
       "      <td>65</td>\n",
       "      <td>9</td>\n",
       "      <td>23</td>\n",
       "      <td>80</td>\n",
       "      <td>993</td>\n",
       "      <td>15</td>\n",
       "      <td>128</td>\n",
       "      <td>113</td>\n",
       "      <td>35</td>\n",
       "      <td>145</td>\n",
       "      <td>518</td>\n",
       "      <td>62</td>\n",
       "      <td>4</td>\n",
       "      <td>2</td>\n",
       "      <td>360</td>\n",
       "      <td>7</td>\n",
       "      <td>5</td>\n",
       "      <td>62</td>\n",
       "      <td>48</td>\n",
       "    </tr>\n",
       "    <tr>\n",
       "      <th>...</th>\n",
       "      <td>...</td>\n",
       "      <td>...</td>\n",
       "      <td>...</td>\n",
       "      <td>...</td>\n",
       "      <td>...</td>\n",
       "      <td>...</td>\n",
       "      <td>...</td>\n",
       "      <td>...</td>\n",
       "      <td>...</td>\n",
       "      <td>...</td>\n",
       "      <td>...</td>\n",
       "      <td>...</td>\n",
       "      <td>...</td>\n",
       "      <td>...</td>\n",
       "      <td>...</td>\n",
       "      <td>...</td>\n",
       "      <td>...</td>\n",
       "      <td>...</td>\n",
       "      <td>...</td>\n",
       "      <td>...</td>\n",
       "    </tr>\n",
       "    <tr>\n",
       "      <th>20371</th>\n",
       "      <td>16</td>\n",
       "      <td>24</td>\n",
       "      <td>69</td>\n",
       "      <td>11</td>\n",
       "      <td>16</td>\n",
       "      <td>24</td>\n",
       "      <td>495</td>\n",
       "      <td>2</td>\n",
       "      <td>26</td>\n",
       "      <td>46</td>\n",
       "      <td>407</td>\n",
       "      <td>18</td>\n",
       "      <td>2594</td>\n",
       "      <td>1420</td>\n",
       "      <td>4</td>\n",
       "      <td>112</td>\n",
       "      <td>31</td>\n",
       "      <td>49</td>\n",
       "      <td>52</td>\n",
       "      <td>274</td>\n",
       "    </tr>\n",
       "    <tr>\n",
       "      <th>20372</th>\n",
       "      <td>17</td>\n",
       "      <td>99</td>\n",
       "      <td>69</td>\n",
       "      <td>4</td>\n",
       "      <td>276</td>\n",
       "      <td>9</td>\n",
       "      <td>33</td>\n",
       "      <td>3</td>\n",
       "      <td>92</td>\n",
       "      <td>17</td>\n",
       "      <td>196</td>\n",
       "      <td>216</td>\n",
       "      <td>10</td>\n",
       "      <td>6</td>\n",
       "      <td>6</td>\n",
       "      <td>7</td>\n",
       "      <td>5</td>\n",
       "      <td>1184</td>\n",
       "      <td>13</td>\n",
       "      <td>220</td>\n",
       "    </tr>\n",
       "    <tr>\n",
       "      <th>20373</th>\n",
       "      <td>751</td>\n",
       "      <td>1135</td>\n",
       "      <td>18</td>\n",
       "      <td>843</td>\n",
       "      <td>378</td>\n",
       "      <td>2</td>\n",
       "      <td>83</td>\n",
       "      <td>7</td>\n",
       "      <td>1551</td>\n",
       "      <td>4</td>\n",
       "      <td>827</td>\n",
       "      <td>131</td>\n",
       "      <td>20</td>\n",
       "      <td>29</td>\n",
       "      <td>45</td>\n",
       "      <td>74</td>\n",
       "      <td>4</td>\n",
       "      <td>56</td>\n",
       "      <td>30</td>\n",
       "      <td>421</td>\n",
       "    </tr>\n",
       "    <tr>\n",
       "      <th>20374</th>\n",
       "      <td>3</td>\n",
       "      <td>53</td>\n",
       "      <td>2</td>\n",
       "      <td>47</td>\n",
       "      <td>2</td>\n",
       "      <td>26</td>\n",
       "      <td>40</td>\n",
       "      <td>782</td>\n",
       "      <td>148</td>\n",
       "      <td>14</td>\n",
       "      <td>31</td>\n",
       "      <td>778</td>\n",
       "      <td>6</td>\n",
       "      <td>42</td>\n",
       "      <td>25</td>\n",
       "      <td>166</td>\n",
       "      <td>168</td>\n",
       "      <td>15</td>\n",
       "      <td>60</td>\n",
       "      <td>98</td>\n",
       "    </tr>\n",
       "    <tr>\n",
       "      <th>20375</th>\n",
       "      <td>1940</td>\n",
       "      <td>2</td>\n",
       "      <td>455</td>\n",
       "      <td>66</td>\n",
       "      <td>6</td>\n",
       "      <td>67</td>\n",
       "      <td>4694</td>\n",
       "      <td>64</td>\n",
       "      <td>4</td>\n",
       "      <td>21</td>\n",
       "      <td>1001</td>\n",
       "      <td>5</td>\n",
       "      <td>54</td>\n",
       "      <td>2126</td>\n",
       "      <td>250</td>\n",
       "      <td>3</td>\n",
       "      <td>52</td>\n",
       "      <td>29</td>\n",
       "      <td>2</td>\n",
       "      <td>1</td>\n",
       "    </tr>\n",
       "  </tbody>\n",
       "</table>\n",
       "<p>20376 rows × 20 columns</p>\n",
       "</div>"
      ],
      "text/plain": [
       "         0     1     2    3    4    5   ...   14   15    16    17   18    19\n",
       "0      1323     5   893  275    4    2  ...   26  546  2073    18  187  8142\n",
       "1        20     8    57    3   71    5  ...    9  104    13  2493   95   636\n",
       "2         3    29  1139    3  127  222  ...  142    6   144   211  152  1681\n",
       "3        85   190     2   64   14    8  ...   26    2   399     7   68    36\n",
       "4         3    65     9   23   80  993  ...    2  360     7     5   62    48\n",
       "...     ...   ...   ...  ...  ...  ...  ...  ...  ...   ...   ...  ...   ...\n",
       "20371    16    24    69   11   16   24  ...    4  112    31    49   52   274\n",
       "20372    17    99    69    4  276    9  ...    6    7     5  1184   13   220\n",
       "20373   751  1135    18  843  378    2  ...   45   74     4    56   30   421\n",
       "20374     3    53     2   47    2   26  ...   25  166   168    15   60    98\n",
       "20375  1940     2   455   66    6   67  ...  250    3    52    29    2     1\n",
       "\n",
       "[20376 rows x 20 columns]"
      ]
     },
     "execution_count": 8,
     "metadata": {},
     "output_type": "execute_result"
    }
   ],
   "source": [
    "X_train_df = pd.DataFrame(X_train)\n",
    "X_train_df"
   ]
  },
  {
   "cell_type": "markdown",
   "metadata": {
    "id": "ktQ_xfrPFK9r"
   },
   "source": [
    "## Fundamentals of Recurrent Neural Networks (RNNs)\n",
    "\n",
    "Why we are not use Full Connected Networks\n",
    "- Cannot learn the position of words in text\n",
    "- Inputs and outputs can have different size, and it is too complex to use classic NNs"
   ]
  },
  {
   "cell_type": "markdown",
   "metadata": {
    "id": "yucYEfoyFO-F"
   },
   "source": [
    "![Imgur](https://i.imgur.com/g7Jnn7o.png)"
   ]
  },
  {
   "cell_type": "markdown",
   "metadata": {
    "id": "uWtp1BWeFXkl"
   },
   "source": [
    "## Vanishing Gradients and Exploding Gradients Problems\n",
    "RNN cannot capture long-range dependencies because we have deep layers \n",
    "- Exploding gradients - Gradient Clipping (Give threshold value and clip gradient vectors )\n",
    "- Vanishing gradients - Long Short Term Memory (LSTM)"
   ]
  },
  {
   "cell_type": "markdown",
   "metadata": {
    "id": "f7qt4-AAFhQY"
   },
   "source": [
    "![Imgur](https://i.imgur.com/4mAUXhg.png)"
   ]
  },
  {
   "cell_type": "code",
   "execution_count": 9,
   "metadata": {
    "colab": {
     "base_uri": "https://localhost:8080/"
    },
    "id": "sHEelajSo_yK",
    "outputId": "a75fefcd-2472-4326-de07-8907daecc9ed"
   },
   "outputs": [
    {
     "name": "stdout",
     "output_type": "stream",
     "text": [
      "Model: \"sequential\"\n",
      "_________________________________________________________________\n",
      " Layer (type)                Output Shape              Param #   \n",
      "=================================================================\n",
      " embedding (Embedding)       (None, 20, 64)            640000    \n",
      "                                                                 \n",
      " simple_rnn (SimpleRNN)      (None, 20, 32)            3104      \n",
      "                                                                 \n",
      " simple_rnn_1 (SimpleRNN)    (None, 20, 16)            784       \n",
      "                                                                 \n",
      " simple_rnn_2 (SimpleRNN)    (None, 32)                1568      \n",
      "                                                                 \n",
      " dense (Dense)               (None, 1)                 33        \n",
      "                                                                 \n",
      "=================================================================\n",
      "Total params: 645,489\n",
      "Trainable params: 645,489\n",
      "Non-trainable params: 0\n",
      "_________________________________________________________________\n"
     ]
    }
   ],
   "source": [
    "from keras.models import Sequential\n",
    "from keras.layers import Embedding, SimpleRNN\n",
    "from keras.layers import Dense\n",
    "from keras.layers import Dropout\n",
    "\n",
    "model = Sequential()\n",
    "embedding_dim = 64\n",
    "# We specify the maximum input length to our Embedding layer\n",
    "# so we can later flatten the embedded inputs\n",
    "\n",
    "model.add(Embedding(max_features, embedding_dim, input_length=maxlen))\n",
    "# After the Embedding layer, \n",
    "# our activations have shape `(samples, maxlen, 64)`.\n",
    "\n",
    "model.add(SimpleRNN(32, return_sequences=True))\n",
    "model.add(SimpleRNN(16, return_sequences=True))\n",
    "model.add(SimpleRNN(32)) # default activation is \"tanh\"\n",
    "model.add(Dense(1))\n",
    "model.summary()"
   ]
  },
  {
   "cell_type": "code",
   "execution_count": 10,
   "metadata": {
    "colab": {
     "base_uri": "https://localhost:8080/"
    },
    "id": "m1kp_8QJpBtg",
    "outputId": "5535cf40-6434-4bf0-c3fb-ee8799bde029"
   },
   "outputs": [
    {
     "name": "stdout",
     "output_type": "stream",
     "text": [
      "Epoch 1/10\n",
      "256/256 [==============================] - 9s 25ms/step - loss: 0.9042 - mape: 38.3796 - val_loss: 0.8171 - val_mape: 38.1722\n",
      "Epoch 2/10\n",
      "256/256 [==============================] - 6s 23ms/step - loss: 0.8008 - mape: 36.0020 - val_loss: 0.7324 - val_mape: 31.5769\n",
      "Epoch 3/10\n",
      "256/256 [==============================] - 6s 23ms/step - loss: 0.6464 - mape: 26.6893 - val_loss: 0.6393 - val_mape: 26.3474\n",
      "Epoch 4/10\n",
      "256/256 [==============================] - 6s 23ms/step - loss: 0.5599 - mape: 23.1493 - val_loss: 0.6276 - val_mape: 24.7232\n",
      "Epoch 5/10\n",
      "256/256 [==============================] - 6s 23ms/step - loss: 0.5684 - mape: 23.6932 - val_loss: 0.6068 - val_mape: 24.0324\n",
      "Epoch 6/10\n",
      "256/256 [==============================] - 6s 23ms/step - loss: 0.5351 - mape: 20.5218 - val_loss: 0.6420 - val_mape: 25.3565\n",
      "Epoch 7/10\n",
      "256/256 [==============================] - 6s 23ms/step - loss: 0.4711 - mape: 19.5477 - val_loss: 0.6118 - val_mape: 25.2018\n",
      "Epoch 8/10\n",
      "256/256 [==============================] - 6s 23ms/step - loss: 0.4277 - mape: 17.9116 - val_loss: 0.6433 - val_mape: 26.6675\n",
      "Epoch 9/10\n",
      "256/256 [==============================] - 6s 23ms/step - loss: 0.3912 - mape: 15.8225 - val_loss: 0.6310 - val_mape: 24.7620\n",
      "Epoch 10/10\n",
      "256/256 [==============================] - 6s 23ms/step - loss: 0.3942 - mape: 15.9347 - val_loss: 0.6552 - val_mape: 24.9143\n"
     ]
    }
   ],
   "source": [
    "model.compile(optimizer='adam', loss='mae', metrics='mape')\n",
    "history = model.fit(X_train, y_train,\n",
    "                    epochs=10,\n",
    "                    steps_per_epoch = 256,\n",
    "                    batch_size=batch_size,\n",
    "                    validation_data=(X_test,y_test))\n",
    "\n",
    "keras.backend.clear_session()\n",
    "del model"
   ]
  },
  {
   "cell_type": "code",
   "execution_count": 11,
   "metadata": {
    "colab": {
     "base_uri": "https://localhost:8080/",
     "height": 281
    },
    "id": "ijGTh47ApD0L",
    "outputId": "c9764808-9cf8-4e54-8f5f-ba2dd5b9801a"
   },
   "outputs": [
    {
     "data": {
      "image/png": "[encoded data removed]",
      "text/plain": [
       "<Figure size 432x288 with 1 Axes>"
      ]
     },
     "metadata": {
      "needs_background": "light"
     },
     "output_type": "display_data"
    }
   ],
   "source": [
    "import matplotlib.pyplot as plt\n",
    "\n",
    "mape = history.history['mape']\n",
    "val_mape = history.history['val_mape']\n",
    "loss = history.history['loss']\n",
    "val_loss = history.history['val_loss']\n",
    "\n",
    "epochs = range(len(loss))\n",
    "\n",
    "plt.plot(epochs, mape, 'r', label='Training mape')\n",
    "plt.plot(epochs, val_mape, 'b', label='Validation mape')\n",
    "plt.title('Training and validation mape')\n",
    "plt.legend()\n",
    "plt.ylim(ymax=100,ymin=0.01)\n",
    "\n",
    "plt.show()"
   ]
  },
  {
   "cell_type": "markdown",
   "metadata": {
    "id": "9RCtUVLKIQqb"
   },
   "source": [
    "There is an obvious overfitting problem."
   ]
  },
  {
   "cell_type": "markdown",
   "metadata": {
    "id": "qVg55gIeEstj"
   },
   "source": [
    "## Predict using Conv1D with word embedding.\n",
    "\n",
    "Rubric: Use Tokenizer, use GLove enbedding, use Conv1D, dropout and stacking are optional"
   ]
  },
  {
   "cell_type": "code",
   "execution_count": 13,
   "metadata": {
    "colab": {
     "base_uri": "https://localhost:8080/"
    },
    "id": "Ojb-AhHFpF4-",
    "outputId": "920e9ab2-a48b-4f72-ec9f-62cd706c4dc5"
   },
   "outputs": [
    {
     "name": "stdout",
     "output_type": "stream",
     "text": [
      "Model: \"sequential\"\n",
      "_________________________________________________________________\n",
      " Layer (type)                Output Shape              Param #   \n",
      "=================================================================\n",
      " embedding (Embedding)       (None, 20, 64)            640000    \n",
      "                                                                 \n",
      " conv1d (Conv1D)             (None, 16, 64)            20544     \n",
      "                                                                 \n",
      " max_pooling1d (MaxPooling1D  (None, 5, 64)            0         \n",
      " )                                                               \n",
      "                                                                 \n",
      " conv1d_1 (Conv1D)           (None, 1, 32)             10272     \n",
      "                                                                 \n",
      " global_max_pooling1d (Globa  (None, 32)               0         \n",
      " lMaxPooling1D)                                                  \n",
      "                                                                 \n",
      " dense (Dense)               (None, 1)                 33        \n",
      "                                                                 \n",
      "=================================================================\n",
      "Total params: 670,849\n",
      "Trainable params: 670,849\n",
      "Non-trainable params: 0\n",
      "_________________________________________________________________\n"
     ]
    }
   ],
   "source": [
    "from keras import layers\n",
    "from tensorflow.keras.optimizers import RMSprop\n",
    "model = Sequential()\n",
    "model.add(Embedding(max_features, 64, input_length=maxlen))\n",
    "model.add(layers.Conv1D(64, 5, activation='relu'))\n",
    "model.add(layers.MaxPooling1D(3))\n",
    "model.add(layers.Conv1D(32, 5, activation='relu'))\n",
    "model.add(layers.GlobalMaxPooling1D())\n",
    "model.add(layers.Dense(1))\n",
    "\n",
    "model.summary()"
   ]
  },
  {
   "cell_type": "code",
   "execution_count": 14,
   "metadata": {
    "colab": {
     "base_uri": "https://localhost:8080/"
    },
    "id": "5_dnMIbFpHkE",
    "outputId": "39ac36cb-d92c-470f-d7c1-bbd3dfac7521"
   },
   "outputs": [
    {
     "name": "stdout",
     "output_type": "stream",
     "text": [
      "Epoch 1/10\n",
      "256/256 [==============================] - 6s 20ms/step - loss: 2.0085 - mape: 34.0115 - val_loss: 0.9800 - val_mape: 26.8800\n",
      "Epoch 2/10\n",
      "256/256 [==============================] - 5s 20ms/step - loss: 0.8980 - mape: 26.4740 - val_loss: 0.8297 - val_mape: 25.5020\n",
      "Epoch 3/10\n",
      "256/256 [==============================] - 5s 19ms/step - loss: 0.7370 - mape: 23.4706 - val_loss: 0.8302 - val_mape: 25.1827\n",
      "Epoch 4/10\n",
      "256/256 [==============================] - 5s 19ms/step - loss: 0.6099 - mape: 20.8189 - val_loss: 0.8117 - val_mape: 24.7211\n",
      "Epoch 5/10\n",
      "256/256 [==============================] - 5s 19ms/step - loss: 0.6425 - mape: 21.8722 - val_loss: 0.8143 - val_mape: 24.6261\n",
      "Epoch 6/10\n",
      "256/256 [==============================] - 5s 18ms/step - loss: 0.4025 - mape: 16.4560 - val_loss: 0.8509 - val_mape: 24.8845\n",
      "Epoch 7/10\n",
      "256/256 [==============================] - 5s 18ms/step - loss: 0.4122 - mape: 16.4628 - val_loss: 0.8706 - val_mape: 25.2162\n",
      "Epoch 8/10\n",
      "256/256 [==============================] - 5s 19ms/step - loss: 0.3275 - mape: 14.1469 - val_loss: 0.8713 - val_mape: 24.8020\n",
      "Epoch 9/10\n",
      "256/256 [==============================] - 5s 18ms/step - loss: 0.2378 - mape: 11.9429 - val_loss: 0.9024 - val_mape: 25.7312\n",
      "Epoch 10/10\n",
      "256/256 [==============================] - 5s 19ms/step - loss: 0.2709 - mape: 12.7480 - val_loss: 0.9057 - val_mape: 25.1793\n"
     ]
    }
   ],
   "source": [
    "model.compile(optimizer='adam', loss='mse', metrics='mape')\n",
    "history = model.fit(X_train, y_train,\n",
    "                    epochs=10,\n",
    "                    steps_per_epoch = 256,\n",
    "                    batch_size=batch_size,\n",
    "                    validation_data=(X_test,y_test))\n",
    "\n",
    "keras.backend.clear_session()\n",
    "del model"
   ]
  },
  {
   "cell_type": "code",
   "execution_count": 15,
   "metadata": {
    "colab": {
     "base_uri": "https://localhost:8080/",
     "height": 281
    },
    "id": "_MycGwEApKs0",
    "outputId": "98a6a8ca-652e-4a00-bb37-127461dc55fe"
   },
   "outputs": [
    {
     "data": {
      "image/png": "[encoded data removed]",
      "text/plain": [
       "<Figure size 432x288 with 1 Axes>"
      ]
     },
     "metadata": {
      "needs_background": "light"
     },
     "output_type": "display_data"
    }
   ],
   "source": [
    "import matplotlib.pyplot as plt\n",
    "\n",
    "mape = history.history['mape']\n",
    "val_mape = history.history['val_mape']\n",
    "loss = history.history['loss']\n",
    "val_loss = history.history['val_loss']\n",
    "\n",
    "epochs = range(len(loss))\n",
    "\n",
    "plt.plot(epochs, mape, 'r', label='Training mape')\n",
    "plt.plot(epochs, val_mape, 'b', label='Validation mape')\n",
    "plt.title('Training and validation mape')\n",
    "plt.legend()\n",
    "plt.ylim(ymax=100,ymin=0.01)\n",
    "\n",
    "plt.show()"
   ]
  },
  {
   "cell_type": "markdown",
   "metadata": {
    "id": "m1aeVKDVJCKj"
   },
   "source": [
    "Overfitting problem."
   ]
  },
  {
   "cell_type": "markdown",
   "metadata": {
    "id": "kZOMF86M15AJ"
   },
   "source": [
    "## Reqularization with LSTM"
   ]
  },
  {
   "cell_type": "code",
   "execution_count": 17,
   "metadata": {
    "colab": {
     "base_uri": "https://localhost:8080/"
    },
    "id": "UVSVbHWgpM2a",
    "outputId": "12f637fe-1483-4377-8c25-5e18e4be79f4"
   },
   "outputs": [
    {
     "name": "stdout",
     "output_type": "stream",
     "text": [
      "Model: \"sequential\"\n",
      "_________________________________________________________________\n",
      " Layer (type)                Output Shape              Param #   \n",
      "=================================================================\n",
      " embedding (Embedding)       (None, 20, 64)            640000    \n",
      "                                                                 \n",
      " lstm (LSTM)                 (None, 32)                12416     \n",
      "                                                                 \n",
      " dense (Dense)               (None, 1)                 33        \n",
      "                                                                 \n",
      "=================================================================\n",
      "Total params: 652,449\n",
      "Trainable params: 652,449\n",
      "Non-trainable params: 0\n",
      "_________________________________________________________________\n"
     ]
    }
   ],
   "source": [
    "from keras import layers\n",
    "\n",
    "model = Sequential()\n",
    "#model.add(layers.Embedding(max_features, embedding_dim, input_length=maxlen))\n",
    "model.add(Embedding(max_features, 64, input_length=maxlen))\n",
    "model.add(layers.LSTM(32,dropout=0.2,recurrent_dropout=0.2))\n",
    "model.add(layers.Dense(1))\n",
    "\n",
    "model.summary()"
   ]
  },
  {
   "cell_type": "code",
   "execution_count": 18,
   "metadata": {
    "colab": {
     "base_uri": "https://localhost:8080/"
    },
    "id": "RSbjKI8ZpOnc",
    "outputId": "692eea67-59c0-446d-c81c-cb8a56bd0868"
   },
   "outputs": [
    {
     "name": "stdout",
     "output_type": "stream",
     "text": [
      "Epoch 1/10\n",
      "256/256 [==============================] - 14s 43ms/step - loss: 2.6524 - mape: 38.8428 - val_loss: 1.1377 - val_mape: 32.2403\n",
      "Epoch 2/10\n",
      "256/256 [==============================] - 11s 41ms/step - loss: 1.0078 - mape: 29.3783 - val_loss: 0.8777 - val_mape: 26.1167\n",
      "Epoch 3/10\n",
      "256/256 [==============================] - 11s 43ms/step - loss: 0.7552 - mape: 23.1641 - val_loss: 0.8051 - val_mape: 24.0977\n",
      "Epoch 4/10\n",
      "256/256 [==============================] - 11s 42ms/step - loss: 0.7061 - mape: 22.7008 - val_loss: 0.8100 - val_mape: 23.3205\n",
      "Epoch 5/10\n",
      "256/256 [==============================] - 11s 42ms/step - loss: 0.7148 - mape: 22.9965 - val_loss: 0.7675 - val_mape: 23.4120\n",
      "Epoch 6/10\n",
      "256/256 [==============================] - 11s 42ms/step - loss: 0.5847 - mape: 19.8965 - val_loss: 0.8102 - val_mape: 24.0322\n",
      "Epoch 7/10\n",
      "256/256 [==============================] - 11s 42ms/step - loss: 0.5819 - mape: 19.8781 - val_loss: 0.7860 - val_mape: 23.4314\n",
      "Epoch 8/10\n",
      "256/256 [==============================] - 11s 42ms/step - loss: 0.5307 - mape: 18.4190 - val_loss: 0.7994 - val_mape: 23.4633\n",
      "Epoch 9/10\n",
      "256/256 [==============================] - 11s 42ms/step - loss: 0.5338 - mape: 18.9058 - val_loss: 0.8453 - val_mape: 23.3559\n",
      "Epoch 10/10\n",
      "256/256 [==============================] - 11s 42ms/step - loss: 0.5338 - mape: 18.4933 - val_loss: 0.8434 - val_mape: 24.0844\n"
     ]
    }
   ],
   "source": [
    "model.compile(optimizer='adam', loss='mse', metrics='mape')\n",
    "history = model.fit(X_train, y_train,\n",
    "                    epochs=10,\n",
    "                    steps_per_epoch = 256,\n",
    "                    batch_size=batch_size,\n",
    "                    validation_data=(X_test,y_test))\n",
    "keras.backend.clear_session()\n",
    "del model"
   ]
  },
  {
   "cell_type": "code",
   "execution_count": 19,
   "metadata": {
    "colab": {
     "base_uri": "https://localhost:8080/",
     "height": 281
    },
    "id": "oNT9QTarpQmT",
    "outputId": "d321583a-c4b8-4777-e5a3-7af0e503a91f"
   },
   "outputs": [
    {
     "data": {
      "image/png": "[encoded data removed]",
      "text/plain": [
       "<Figure size 432x288 with 1 Axes>"
      ]
     },
     "metadata": {
      "needs_background": "light"
     },
     "output_type": "display_data"
    }
   ],
   "source": [
    "import matplotlib.pyplot as plt\n",
    "\n",
    "mape = history.history['mape']\n",
    "val_mape = history.history['val_mape']\n",
    "loss = history.history['loss']\n",
    "val_loss = history.history['val_loss']\n",
    "\n",
    "epochs = range(len(loss))\n",
    "\n",
    "plt.plot(epochs, mape, 'r', label='Training mape')\n",
    "plt.plot(epochs, val_mape, 'b', label='Validation mape')\n",
    "plt.title('Training and validation mape')\n",
    "plt.legend()\n",
    "plt.ylim(ymax=100,ymin=0.01)\n",
    "\n",
    "plt.show()"
   ]
  },
  {
   "cell_type": "markdown",
   "metadata": {
    "id": "ZClHyFDYJ8Wb"
   },
   "source": [
    "Major underfitting problem. Overfitting problem is improved.\\\n",
    "They are close and we reduce validation error as well.\\\n",
    "LSTM works better than RNN, we are reducing vanishing gradient problem."
   ]
  },
  {
   "cell_type": "markdown",
   "metadata": {
    "id": "58GQpuqtC5Xp"
   },
   "source": [
    "## Regularization with CNN and LSTM   \n",
    "**Instructions:**  You are required to use dropout when building prediction model in this question.  "
   ]
  },
  {
   "cell_type": "code",
   "execution_count": 20,
   "metadata": {
    "colab": {
     "base_uri": "https://localhost:8080/"
    },
    "id": "cTDzCKWLpSaU",
    "outputId": "77364e13-0224-4b9a-c926-62680486eda0"
   },
   "outputs": [
    {
     "name": "stdout",
     "output_type": "stream",
     "text": [
      "Model: \"sequential\"\n",
      "_________________________________________________________________\n",
      " Layer (type)                Output Shape              Param #   \n",
      "=================================================================\n",
      " embedding (Embedding)       (None, 20, 64)            640000    \n",
      "                                                                 \n",
      " conv1d (Conv1D)             (None, 16, 64)            20544     \n",
      "                                                                 \n",
      " lstm (LSTM)                 (None, 32)                12416     \n",
      "                                                                 \n",
      " dense (Dense)               (None, 1)                 33        \n",
      "                                                                 \n",
      "=================================================================\n",
      "Total params: 672,993\n",
      "Trainable params: 672,993\n",
      "Non-trainable params: 0\n",
      "_________________________________________________________________\n"
     ]
    }
   ],
   "source": [
    "model = Sequential()\n",
    "model.add(Embedding(max_features,64, input_length=maxlen))\n",
    "model.add(layers.Conv1D(64, 5, activation='relu'))\n",
    "model.add(layers.LSTM(32,dropout=0.2,recurrent_dropout=0.2))\n",
    "model.add(layers.Dense(1))\n",
    "\n",
    "model.summary()"
   ]
  },
  {
   "cell_type": "code",
   "execution_count": 21,
   "metadata": {
    "colab": {
     "base_uri": "https://localhost:8080/"
    },
    "id": "TKEsuoIcpUDc",
    "outputId": "1f2cf4cf-2f52-4d9c-a315-40d32982f64f"
   },
   "outputs": [
    {
     "name": "stdout",
     "output_type": "stream",
     "text": [
      "Epoch 1/10\n",
      "256/256 [==============================] - 15s 42ms/step - loss: 2.2889 - mape: 36.9283 - val_loss: 0.9950 - val_mape: 29.0787\n",
      "Epoch 2/10\n",
      "256/256 [==============================] - 11s 41ms/step - loss: 0.8827 - mape: 26.3161 - val_loss: 0.8125 - val_mape: 25.3009\n",
      "Epoch 3/10\n",
      "256/256 [==============================] - 11s 42ms/step - loss: 0.7476 - mape: 23.6575 - val_loss: 0.7989 - val_mape: 24.2443\n",
      "Epoch 4/10\n",
      "256/256 [==============================] - 11s 42ms/step - loss: 0.6320 - mape: 20.8518 - val_loss: 0.7823 - val_mape: 23.9498\n",
      "Epoch 5/10\n",
      "256/256 [==============================] - 11s 43ms/step - loss: 0.6968 - mape: 22.7453 - val_loss: 0.7965 - val_mape: 23.6379\n",
      "Epoch 6/10\n",
      "256/256 [==============================] - 11s 41ms/step - loss: 0.5040 - mape: 18.2055 - val_loss: 0.8031 - val_mape: 23.3818\n",
      "Epoch 7/10\n",
      "256/256 [==============================] - 11s 42ms/step - loss: 0.5342 - mape: 18.8101 - val_loss: 0.8003 - val_mape: 23.6021\n",
      "Epoch 8/10\n",
      "256/256 [==============================] - 11s 42ms/step - loss: 0.4536 - mape: 17.0949 - val_loss: 0.8545 - val_mape: 23.3779\n",
      "Epoch 9/10\n",
      "256/256 [==============================] - 11s 41ms/step - loss: 0.4037 - mape: 15.8197 - val_loss: 0.8565 - val_mape: 23.2948\n",
      "Epoch 10/10\n",
      "256/256 [==============================] - 11s 43ms/step - loss: 0.4431 - mape: 16.7402 - val_loss: 0.8730 - val_mape: 24.5901\n"
     ]
    }
   ],
   "source": [
    "model.compile(optimizer='adam', loss='mse', metrics='mape')\n",
    "history = model.fit(X_train, y_train,\n",
    "                    epochs=10,\n",
    "                    steps_per_epoch = 256,\n",
    "                    batch_size=batch_size,\n",
    "                    validation_data=(X_test,y_test))\n",
    "keras.backend.clear_session()\n",
    "del model"
   ]
  },
  {
   "cell_type": "code",
   "execution_count": 22,
   "metadata": {
    "colab": {
     "base_uri": "https://localhost:8080/",
     "height": 281
    },
    "id": "d4gH7YS2pV-O",
    "outputId": "ac700871-d650-42fb-ee93-d2ec97257d79"
   },
   "outputs": [
    {
     "data": {
      "image/png": "[encoded data removed]",
      "text/plain": [
       "<Figure size 432x288 with 1 Axes>"
      ]
     },
     "metadata": {
      "needs_background": "light"
     },
     "output_type": "display_data"
    }
   ],
   "source": [
    "import matplotlib.pyplot as plt\n",
    "\n",
    "mape = history.history['mape']\n",
    "val_mape = history.history['val_mape']\n",
    "loss = history.history['loss']\n",
    "val_loss = history.history['val_loss']\n",
    "\n",
    "epochs = range(len(loss))\n",
    "\n",
    "plt.plot(epochs, mape, 'r', label='Training mape')\n",
    "plt.plot(epochs, val_mape, 'b', label='Validation mape')\n",
    "plt.title('Training and validation mape')\n",
    "plt.legend()\n",
    "plt.ylim(ymax=100,ymin=0.01)\n",
    "\n",
    "plt.show()"
   ]
  },
  {
   "cell_type": "markdown",
   "metadata": {
    "id": "BExWkx5KLQCt"
   },
   "source": [
    "Training mape get improved, still major underfitting problem.\\\n",
    "Now, let's try Bidirectional method."
   ]
  },
  {
   "cell_type": "code",
   "execution_count": 23,
   "metadata": {
    "colab": {
     "base_uri": "https://localhost:8080/"
    },
    "id": "Tf5w_ioVpXul",
    "outputId": "f0d38be8-80e5-440d-dc0f-45d8ea13ca66"
   },
   "outputs": [
    {
     "name": "stdout",
     "output_type": "stream",
     "text": [
      "Model: \"sequential\"\n",
      "_________________________________________________________________\n",
      " Layer (type)                Output Shape              Param #   \n",
      "=================================================================\n",
      " embedding (Embedding)       (None, 20, 64)            640000    \n",
      "                                                                 \n",
      " conv1d (Conv1D)             (None, 16, 64)            20544     \n",
      "                                                                 \n",
      " bidirectional (Bidirectiona  (None, 128)              66048     \n",
      " l)                                                              \n",
      "                                                                 \n",
      " dense (Dense)               (None, 1)                 129       \n",
      "                                                                 \n",
      "=================================================================\n",
      "Total params: 726,721\n",
      "Trainable params: 726,721\n",
      "Non-trainable params: 0\n",
      "_________________________________________________________________\n"
     ]
    }
   ],
   "source": [
    "model = Sequential()\n",
    "model.add(Embedding(max_features, 64, input_length=maxlen))\n",
    "model.add(layers.Conv1D(64, 5, activation='relu'))\n",
    "model.add(layers.Bidirectional(\n",
    "    layers.LSTM(64,dropout=0.2,recurrent_dropout=0.2)))\n",
    "model.add(layers.Dense(1))\n",
    "\n",
    "model.summary()"
   ]
  },
  {
   "cell_type": "code",
   "execution_count": 24,
   "metadata": {
    "colab": {
     "base_uri": "https://localhost:8080/"
    },
    "id": "WJkxKsq_pZWW",
    "outputId": "2000fcae-4e6a-47b7-c0a6-24d2cf6ac97c"
   },
   "outputs": [
    {
     "name": "stdout",
     "output_type": "stream",
     "text": [
      "Epoch 1/10\n",
      "256/256 [==============================] - 26s 77ms/step - loss: 1.9455 - mape: 33.3107 - val_loss: 0.8456 - val_mape: 25.7463\n",
      "Epoch 2/10\n",
      "256/256 [==============================] - 19s 74ms/step - loss: 0.8543 - mape: 26.0233 - val_loss: 0.8096 - val_mape: 24.6980\n",
      "Epoch 3/10\n",
      "256/256 [==============================] - 19s 76ms/step - loss: 0.7168 - mape: 22.8660 - val_loss: 0.8157 - val_mape: 24.1181\n",
      "Epoch 4/10\n",
      "256/256 [==============================] - 19s 75ms/step - loss: 0.6673 - mape: 21.8815 - val_loss: 0.7930 - val_mape: 23.7934\n",
      "Epoch 5/10\n",
      "256/256 [==============================] - 19s 74ms/step - loss: 0.6495 - mape: 21.3223 - val_loss: 0.7865 - val_mape: 23.9094\n",
      "Epoch 6/10\n",
      "256/256 [==============================] - 19s 74ms/step - loss: 0.5156 - mape: 18.4841 - val_loss: 0.8186 - val_mape: 24.1489\n",
      "Epoch 7/10\n",
      "256/256 [==============================] - 19s 74ms/step - loss: 0.5318 - mape: 19.0123 - val_loss: 0.8001 - val_mape: 23.8116\n",
      "Epoch 8/10\n",
      "256/256 [==============================] - 19s 74ms/step - loss: 0.4779 - mape: 17.5846 - val_loss: 0.8448 - val_mape: 23.1156\n",
      "Epoch 9/10\n",
      "256/256 [==============================] - 19s 75ms/step - loss: 0.4043 - mape: 15.8550 - val_loss: 0.8274 - val_mape: 23.7013\n",
      "Epoch 10/10\n",
      "256/256 [==============================] - 19s 74ms/step - loss: 0.4383 - mape: 16.7120 - val_loss: 0.8536 - val_mape: 23.5767\n"
     ]
    }
   ],
   "source": [
    "model.compile(optimizer='adam', loss='mse', metrics='mape')\n",
    "history = model.fit(X_train, y_train,\n",
    "                    epochs=10,\n",
    "                    steps_per_epoch = 256,\n",
    "                    batch_size=batch_size,\n",
    "                    validation_data=(X_test,y_test))\n",
    "keras.backend.clear_session()"
   ]
  },
  {
   "cell_type": "code",
   "execution_count": 25,
   "metadata": {
    "colab": {
     "base_uri": "https://localhost:8080/",
     "height": 281
    },
    "id": "m5WJ-oGtpbKm",
    "outputId": "ed1f9552-34b3-41a0-f4b9-d0c6b6af0a83"
   },
   "outputs": [
    {
     "data": {
      "image/png": "[encoded data removed]",
      "text/plain": [
       "<Figure size 432x288 with 1 Axes>"
      ]
     },
     "metadata": {
      "needs_background": "light"
     },
     "output_type": "display_data"
    }
   ],
   "source": [
    "import matplotlib.pyplot as plt\n",
    "\n",
    "mape = history.history['mape']\n",
    "val_mape = history.history['val_mape']\n",
    "loss = history.history['loss']\n",
    "val_loss = history.history['val_loss']\n",
    "\n",
    "epochs = range(len(loss))\n",
    "\n",
    "plt.plot(epochs, mape, 'r', label='Training mape')\n",
    "plt.plot(epochs, val_mape, 'b', label='Validation mape')\n",
    "plt.title('Training and validation mape')\n",
    "plt.legend()\n",
    "plt.ylim(ymax=100,ymin=0.01)\n",
    "\n",
    "plt.show()"
   ]
  },
  {
   "cell_type": "code",
   "execution_count": 26,
   "metadata": {
    "id": "jWQWmwrMEx1r"
   },
   "outputs": [],
   "source": [
    "model.save('/content/modelrating.h5')"
   ]
  },
  {
   "cell_type": "markdown",
   "metadata": {
    "id": "9CyGlwhlM-30"
   },
   "source": [
    "## Design My Own Structure"
   ]
  },
  {
   "cell_type": "code",
   "execution_count": 27,
   "metadata": {
    "id": "3Z4pBwCVNDgE"
   },
   "outputs": [],
   "source": [
    "from sklearn.model_selection import train_test_split\n",
    "rev=df[\"Review Text\"]\n",
    "target=df[\"Rating\"]\n",
    "#change the test size here! \n",
    "x_train, x_test, y_train, y_test = train_test_split(rev,target,test_size=0.2,random_state=0,stratify=target)"
   ]
  },
  {
   "cell_type": "code",
   "execution_count": 35,
   "metadata": {
    "colab": {
     "base_uri": "https://localhost:8080/"
    },
    "id": "z6azqXioNsYY",
    "outputId": "92df8229-7c17-4c09-8e48-c20b6703bc58"
   },
   "outputs": [
    {
     "name": "stdout",
     "output_type": "stream",
     "text": [
      "18112 train sequences\n",
      "4529 test sequences\n",
      "Pad sequences (samples x text length)\n",
      "X_train shape: (18112, 20)\n",
      "X_test shape: (4529, 20)\n"
     ]
    }
   ],
   "source": [
    "max_features = 10000      #How many input dimension I have\n",
    "maxlen = 100               #Maximum Sequence Length\n",
    "batch_size = 32\n",
    "embedding_dim = 64\n",
    "\n",
    "#Tokenizing\n",
    "tokenizer=Tokenizer(max_features,oov_token=\"<?>\")\n",
    "tokenizer.fit_on_texts(x_train)\n",
    "X_train=tokenizer.texts_to_sequences(x_train)\n",
    "X_test=tokenizer.texts_to_sequences(x_test)     # Transforms each text in tests to a sequence of integers.\n",
    "\n",
    "print(len(X_train), 'train sequences')\n",
    "print(len(X_test), 'test sequences')\n",
    "\n",
    "# X_train with upper case \"X\" is tokenized, x_train with lower case \"x\" is not\n",
    "\n",
    "# This turns our lists of integers\n",
    "# into a 2D integer tensor of shape `(samples, maxlen)`\n",
    "print('Pad sequences (samples x text length)')\n",
    "X_train = pad_sequences(X_train, maxlen=maxlen)\n",
    "X_test = pad_sequences(X_test, maxlen=maxlen)\n",
    "print('X_train shape:', X_train.shape)\n",
    "print('X_test shape:', X_test.shape)"
   ]
  },
  {
   "cell_type": "code",
   "execution_count": 48,
   "metadata": {
    "colab": {
     "base_uri": "https://localhost:8080/"
    },
    "id": "Yh5WvWo6NQb7",
    "outputId": "fa3a7e36-504d-4d57-d9f9-38f4eb3c8214"
   },
   "outputs": [
    {
     "name": "stdout",
     "output_type": "stream",
     "text": [
      "Model: \"sequential_3\"\n",
      "_________________________________________________________________\n",
      " Layer (type)                Output Shape              Param #   \n",
      "=================================================================\n",
      " embedding_3 (Embedding)     (None, 20, 128)           1280000   \n",
      "                                                                 \n",
      " conv1d_2 (Conv1D)           (None, 11, 128)           163968    \n",
      "                                                                 \n",
      " bidirectional_1 (Bidirectio  (None, 512)              788480    \n",
      " nal)                                                            \n",
      "                                                                 \n",
      " dense_1 (Dense)             (None, 1)                 513       \n",
      "                                                                 \n",
      "=================================================================\n",
      "Total params: 2,232,961\n",
      "Trainable params: 2,232,961\n",
      "Non-trainable params: 0\n",
      "_________________________________________________________________\n"
     ]
    }
   ],
   "source": [
    "model = Sequential()\n",
    "model.add(Embedding(max_features, 128, input_length=maxlen))\n",
    "model.add(layers.Conv1D(128, 10, activation='relu'))\n",
    "model.add(layers.Bidirectional(\n",
    "    layers.LSTM(256,dropout=0.2,recurrent_dropout=0.2)))\n",
    "model.add(layers.Dense(1))\n",
    "\n",
    "model.summary()"
   ]
  },
  {
   "cell_type": "code",
   "execution_count": 49,
   "metadata": {
    "colab": {
     "base_uri": "https://localhost:8080/"
    },
    "id": "iDibRAV2OOSp",
    "outputId": "957e7018-603c-48e3-99c6-6cfff89650d8"
   },
   "outputs": [
    {
     "name": "stdout",
     "output_type": "stream",
     "text": [
      "Epoch 1/30\n",
      "256/256 [==============================] - 68s 248ms/step - loss: 1.5228 - mape: 30.8065 - val_loss: 0.8698 - val_mape: 25.9979 - lr: 0.0010\n",
      "Epoch 2/30\n",
      "256/256 [==============================] - 63s 248ms/step - loss: 0.8546 - mape: 25.8018 - val_loss: 0.8317 - val_mape: 25.8013 - lr: 0.0010\n",
      "Epoch 3/30\n",
      "256/256 [==============================] - 64s 249ms/step - loss: 0.6444 - mape: 21.2988 - val_loss: 0.8495 - val_mape: 24.6273 - lr: 0.0010\n",
      "Epoch 4/30\n",
      "256/256 [==============================] - ETA: 0s - loss: 0.6604 - mape: 21.8316\n",
      "Epoch 00004: ReduceLROnPlateau reducing learning rate to 0.00010000000474974513.\n",
      "256/256 [==============================] - 64s 249ms/step - loss: 0.6604 - mape: 21.8316 - val_loss: 0.8584 - val_mape: 24.4883 - lr: 0.0010\n",
      "Epoch 5/30\n",
      "256/256 [==============================] - 64s 250ms/step - loss: 0.4968 - mape: 17.9051 - val_loss: 0.8388 - val_mape: 24.4692 - lr: 1.0000e-04\n",
      "Epoch 6/30\n",
      "256/256 [==============================] - 64s 251ms/step - loss: 0.4126 - mape: 16.0049 - val_loss: 0.8282 - val_mape: 23.6363 - lr: 1.0000e-04\n",
      "Epoch 7/30\n",
      "256/256 [==============================] - 64s 250ms/step - loss: 0.3911 - mape: 15.2674 - val_loss: 0.8301 - val_mape: 23.6580 - lr: 1.0000e-04\n",
      "Epoch 8/30\n",
      "256/256 [==============================] - ETA: 0s - loss: 0.3527 - mape: 14.3020\n",
      "Epoch 00008: ReduceLROnPlateau reducing learning rate to 1.0000000474974514e-05.\n",
      "256/256 [==============================] - 64s 252ms/step - loss: 0.3527 - mape: 14.3020 - val_loss: 0.8416 - val_mape: 23.6387 - lr: 1.0000e-04\n",
      "Epoch 9/30\n",
      "256/256 [==============================] - 63s 248ms/step - loss: 0.3599 - mape: 14.6769 - val_loss: 0.8399 - val_mape: 23.7396 - lr: 1.0000e-05\n",
      "Epoch 10/30\n",
      "256/256 [==============================] - ETA: 0s - loss: 0.3180 - mape: 13.3156\n",
      "Epoch 00010: ReduceLROnPlateau reducing learning rate to 1.0000000656873453e-06.\n",
      "256/256 [==============================] - 64s 252ms/step - loss: 0.3180 - mape: 13.3156 - val_loss: 0.8414 - val_mape: 23.8692 - lr: 1.0000e-05\n",
      "Epoch 11/30\n",
      "256/256 [==============================] - 66s 257ms/step - loss: 0.3252 - mape: 13.7477 - val_loss: 0.8409 - val_mape: 23.8042 - lr: 1.0000e-06\n"
     ]
    }
   ],
   "source": [
    "from keras.callbacks import EarlyStopping, Callback, ReduceLROnPlateau\n",
    "ES=EarlyStopping(monitor='val_loss', patience=5, restore_best_weights=True)      # EarlyStopping with patience 2: if in 2 consecutive epochs, the validation loss didn't hit the record, training will stop.\n",
    "RL=ReduceLROnPlateau(monitor=\"val_loss\", patience=2, verbose=1, min_delta=1e-5)   # Reduce Learning Rate on Plateau: if in 2 consecutive eposchs, the validation loss din't reduce, reduce learning rate.\n",
    "\n",
    "model.compile(optimizer='adam', loss='mse', metrics='mape')\n",
    "history = model.fit(X_train, y_train,\n",
    "                    epochs=30,\n",
    "                    steps_per_epoch = 256,\n",
    "                    batch_size=batch_size,\n",
    "                    validation_data=(X_test,y_test),\n",
    "                    callbacks=[ES,RL] \n",
    "                    )\n",
    "keras.backend.clear_session()"
   ]
  },
  {
   "cell_type": "code",
   "execution_count": 50,
   "metadata": {
    "colab": {
     "base_uri": "https://localhost:8080/",
     "height": 281
    },
    "id": "cNcx0ltXNP8W",
    "outputId": "07117468-6418-43fb-c6a8-3790875db945"
   },
   "outputs": [
    {
     "data": {
      "image/png": "[encoded data removed]",
      "text/plain": [
       "<Figure size 432x288 with 1 Axes>"
      ]
     },
     "metadata": {
      "needs_background": "light"
     },
     "output_type": "display_data"
    }
   ],
   "source": [
    "import matplotlib.pyplot as plt\n",
    "\n",
    "mape = history.history['mape']\n",
    "val_mape = history.history['val_mape']\n",
    "loss = history.history['loss']\n",
    "val_loss = history.history['val_loss']\n",
    "\n",
    "epochs = range(len(loss))\n",
    "\n",
    "plt.plot(epochs, mape, 'r', label='Training mape')\n",
    "plt.plot(epochs, val_mape, 'b', label='Validation mape')\n",
    "plt.title('Training and validation mape')\n",
    "plt.legend()\n",
    "plt.ylim(ymax=100,ymin=0.01)\n",
    "\n",
    "plt.show()"
   ]
  },
  {
   "cell_type": "markdown",
   "metadata": {
    "id": "INIzzw0ebFGy"
   },
   "source": [
    "I set the training-testing dataset ratio to 80/20, and changed the max_len to 100. Then I enlarged the dimension of each layer to intense the learning ability. I also add tricks like early stopping and reducing learning rate.\\\n",
    "The val_mape is at best 23.6363, which outperformed those models above. However, there's still a overfitting problem and the mape is not small enough."
   ]
  }
 ],
 "metadata": {
  "accelerator": "TPU",
  "colab": {
   "collapsed_sections": [],
   "name": "Lab-based Group Assignment - 4.ipynb",
   "provenance": []
  },
  "kernelspec": {
   "display_name": "Python 3",
   "language": "python",
   "name": "python3"
  },
  "language_info": {
   "codemirror_mode": {
    "name": "ipython",
    "version": 3
   },
   "file_extension": ".py",
   "mimetype": "text/x-python",
   "name": "python",
   "nbconvert_exporter": "python",
   "pygments_lexer": "ipython3",
   "version": "3.8.5"
  }
 },
 "nbformat": 4,
 "nbformat_minor": 1
}
